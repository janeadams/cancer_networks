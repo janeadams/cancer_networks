{
 "cells": [
  {
   "cell_type": "code",
   "execution_count": 1,
   "metadata": {},
   "outputs": [],
   "source": [
    "import pandas as pd"
   ]
  },
  {
   "cell_type": "code",
   "execution_count": 2,
   "metadata": {},
   "outputs": [],
   "source": [
    "gene_dep = pd.read_csv('data/achilles_gene_dependency.csv',index_col=0)"
   ]
  },
  {
   "cell_type": "code",
   "execution_count": 3,
   "metadata": {},
   "outputs": [
    {
     "data": {
      "text/plain": [
       "(625, 18333)"
      ]
     },
     "execution_count": 3,
     "metadata": {},
     "output_type": "execute_result"
    }
   ],
   "source": [
    "gene_dep.shape"
   ]
  },
  {
   "cell_type": "code",
   "execution_count": 4,
   "metadata": {},
   "outputs": [
    {
     "data": {
      "text/html": [
       "<div>\n",
       "<style scoped>\n",
       "    .dataframe tbody tr th:only-of-type {\n",
       "        vertical-align: middle;\n",
       "    }\n",
       "\n",
       "    .dataframe tbody tr th {\n",
       "        vertical-align: top;\n",
       "    }\n",
       "\n",
       "    .dataframe thead th {\n",
       "        text-align: right;\n",
       "    }\n",
       "</style>\n",
       "<table border=\"1\" class=\"dataframe\">\n",
       "  <thead>\n",
       "    <tr style=\"text-align: right;\">\n",
       "      <th></th>\n",
       "      <th>A1BG (1)</th>\n",
       "      <th>A1CF (29974)</th>\n",
       "      <th>A2M (2)</th>\n",
       "      <th>A2ML1 (144568)</th>\n",
       "      <th>A3GALT2 (127550)</th>\n",
       "      <th>A4GALT (53947)</th>\n",
       "      <th>A4GNT (51146)</th>\n",
       "      <th>AAAS (8086)</th>\n",
       "      <th>AACS (65985)</th>\n",
       "      <th>AADAC (13)</th>\n",
       "      <th>...</th>\n",
       "      <th>ZWILCH (55055)</th>\n",
       "      <th>ZWINT (11130)</th>\n",
       "      <th>ZXDA (7789)</th>\n",
       "      <th>ZXDB (158586)</th>\n",
       "      <th>ZXDC (79364)</th>\n",
       "      <th>ZYG11A (440590)</th>\n",
       "      <th>ZYG11B (79699)</th>\n",
       "      <th>ZYX (7791)</th>\n",
       "      <th>ZZEF1 (23140)</th>\n",
       "      <th>ZZZ3 (26009)</th>\n",
       "    </tr>\n",
       "  </thead>\n",
       "  <tbody>\n",
       "    <tr>\n",
       "      <th>ACH-000004</th>\n",
       "      <td>0.001451</td>\n",
       "      <td>0.004520</td>\n",
       "      <td>0.102872</td>\n",
       "      <td>0.018067</td>\n",
       "      <td>0.008767</td>\n",
       "      <td>0.085647</td>\n",
       "      <td>0.000065</td>\n",
       "      <td>0.431382</td>\n",
       "      <td>0.000192</td>\n",
       "      <td>0.001974</td>\n",
       "      <td>...</td>\n",
       "      <td>0.060016</td>\n",
       "      <td>0.465022</td>\n",
       "      <td>NaN</td>\n",
       "      <td>NaN</td>\n",
       "      <td>0.000372</td>\n",
       "      <td>0.000517</td>\n",
       "      <td>0.374798</td>\n",
       "      <td>0.000220</td>\n",
       "      <td>0.000541</td>\n",
       "      <td>0.059707</td>\n",
       "    </tr>\n",
       "    <tr>\n",
       "      <th>ACH-000005</th>\n",
       "      <td>0.026104</td>\n",
       "      <td>0.001092</td>\n",
       "      <td>0.001859</td>\n",
       "      <td>0.002384</td>\n",
       "      <td>0.073250</td>\n",
       "      <td>0.175472</td>\n",
       "      <td>0.000745</td>\n",
       "      <td>0.528323</td>\n",
       "      <td>0.029178</td>\n",
       "      <td>0.011600</td>\n",
       "      <td>...</td>\n",
       "      <td>0.064166</td>\n",
       "      <td>0.252776</td>\n",
       "      <td>0.067042</td>\n",
       "      <td>0.037138</td>\n",
       "      <td>0.001671</td>\n",
       "      <td>0.027810</td>\n",
       "      <td>0.033134</td>\n",
       "      <td>0.010160</td>\n",
       "      <td>0.013513</td>\n",
       "      <td>0.103597</td>\n",
       "    </tr>\n",
       "    <tr>\n",
       "      <th>ACH-000007</th>\n",
       "      <td>0.004364</td>\n",
       "      <td>0.003030</td>\n",
       "      <td>0.017460</td>\n",
       "      <td>0.001112</td>\n",
       "      <td>0.002801</td>\n",
       "      <td>0.001155</td>\n",
       "      <td>0.003964</td>\n",
       "      <td>0.432981</td>\n",
       "      <td>0.009979</td>\n",
       "      <td>0.000158</td>\n",
       "      <td>...</td>\n",
       "      <td>0.027625</td>\n",
       "      <td>0.137708</td>\n",
       "      <td>0.012447</td>\n",
       "      <td>0.001760</td>\n",
       "      <td>0.000440</td>\n",
       "      <td>0.010849</td>\n",
       "      <td>0.219132</td>\n",
       "      <td>0.002946</td>\n",
       "      <td>0.296057</td>\n",
       "      <td>0.383729</td>\n",
       "    </tr>\n",
       "    <tr>\n",
       "      <th>ACH-000009</th>\n",
       "      <td>0.002986</td>\n",
       "      <td>0.008234</td>\n",
       "      <td>0.014550</td>\n",
       "      <td>0.002942</td>\n",
       "      <td>0.004015</td>\n",
       "      <td>0.003802</td>\n",
       "      <td>0.005994</td>\n",
       "      <td>0.671296</td>\n",
       "      <td>0.000620</td>\n",
       "      <td>0.004395</td>\n",
       "      <td>...</td>\n",
       "      <td>0.240007</td>\n",
       "      <td>0.154809</td>\n",
       "      <td>0.010861</td>\n",
       "      <td>0.001271</td>\n",
       "      <td>0.001252</td>\n",
       "      <td>0.004284</td>\n",
       "      <td>0.592691</td>\n",
       "      <td>0.000227</td>\n",
       "      <td>0.030041</td>\n",
       "      <td>0.552916</td>\n",
       "    </tr>\n",
       "    <tr>\n",
       "      <th>ACH-000011</th>\n",
       "      <td>0.000254</td>\n",
       "      <td>0.003716</td>\n",
       "      <td>0.009770</td>\n",
       "      <td>0.000015</td>\n",
       "      <td>0.016456</td>\n",
       "      <td>0.131691</td>\n",
       "      <td>0.002650</td>\n",
       "      <td>0.350667</td>\n",
       "      <td>0.001843</td>\n",
       "      <td>0.002332</td>\n",
       "      <td>...</td>\n",
       "      <td>0.331856</td>\n",
       "      <td>0.493477</td>\n",
       "      <td>0.042943</td>\n",
       "      <td>0.042179</td>\n",
       "      <td>0.000285</td>\n",
       "      <td>0.001603</td>\n",
       "      <td>0.101851</td>\n",
       "      <td>0.002336</td>\n",
       "      <td>0.123363</td>\n",
       "      <td>0.306065</td>\n",
       "    </tr>\n",
       "    <tr>\n",
       "      <th>ACH-000012</th>\n",
       "      <td>0.006585</td>\n",
       "      <td>0.000650</td>\n",
       "      <td>0.002101</td>\n",
       "      <td>0.000076</td>\n",
       "      <td>0.005949</td>\n",
       "      <td>0.039098</td>\n",
       "      <td>0.000148</td>\n",
       "      <td>0.496048</td>\n",
       "      <td>0.002616</td>\n",
       "      <td>0.000075</td>\n",
       "      <td>...</td>\n",
       "      <td>0.316770</td>\n",
       "      <td>0.903348</td>\n",
       "      <td>0.003081</td>\n",
       "      <td>0.013213</td>\n",
       "      <td>0.001073</td>\n",
       "      <td>0.001261</td>\n",
       "      <td>0.037322</td>\n",
       "      <td>0.003660</td>\n",
       "      <td>0.058364</td>\n",
       "      <td>0.332458</td>\n",
       "    </tr>\n",
       "    <tr>\n",
       "      <th>ACH-000013</th>\n",
       "      <td>0.004887</td>\n",
       "      <td>0.006845</td>\n",
       "      <td>0.020258</td>\n",
       "      <td>0.000569</td>\n",
       "      <td>0.027806</td>\n",
       "      <td>0.028374</td>\n",
       "      <td>0.005170</td>\n",
       "      <td>0.505162</td>\n",
       "      <td>0.007531</td>\n",
       "      <td>0.000194</td>\n",
       "      <td>...</td>\n",
       "      <td>0.010434</td>\n",
       "      <td>0.001892</td>\n",
       "      <td>0.024174</td>\n",
       "      <td>0.019491</td>\n",
       "      <td>0.000312</td>\n",
       "      <td>0.017229</td>\n",
       "      <td>0.079498</td>\n",
       "      <td>0.001365</td>\n",
       "      <td>0.107523</td>\n",
       "      <td>0.619927</td>\n",
       "    </tr>\n",
       "    <tr>\n",
       "      <th>ACH-000014</th>\n",
       "      <td>0.001156</td>\n",
       "      <td>0.012898</td>\n",
       "      <td>0.007196</td>\n",
       "      <td>0.000637</td>\n",
       "      <td>0.012610</td>\n",
       "      <td>0.027250</td>\n",
       "      <td>0.044594</td>\n",
       "      <td>0.451602</td>\n",
       "      <td>0.019987</td>\n",
       "      <td>0.000854</td>\n",
       "      <td>...</td>\n",
       "      <td>0.069487</td>\n",
       "      <td>0.932838</td>\n",
       "      <td>NaN</td>\n",
       "      <td>NaN</td>\n",
       "      <td>0.018422</td>\n",
       "      <td>0.006032</td>\n",
       "      <td>0.067962</td>\n",
       "      <td>0.017100</td>\n",
       "      <td>0.000352</td>\n",
       "      <td>0.204259</td>\n",
       "    </tr>\n",
       "    <tr>\n",
       "      <th>ACH-000015</th>\n",
       "      <td>0.026106</td>\n",
       "      <td>0.007272</td>\n",
       "      <td>0.072215</td>\n",
       "      <td>0.001568</td>\n",
       "      <td>0.012737</td>\n",
       "      <td>0.036572</td>\n",
       "      <td>0.000224</td>\n",
       "      <td>0.290348</td>\n",
       "      <td>0.000692</td>\n",
       "      <td>0.000250</td>\n",
       "      <td>...</td>\n",
       "      <td>0.030156</td>\n",
       "      <td>0.115563</td>\n",
       "      <td>0.015421</td>\n",
       "      <td>0.009875</td>\n",
       "      <td>0.000063</td>\n",
       "      <td>0.000555</td>\n",
       "      <td>0.151136</td>\n",
       "      <td>0.000561</td>\n",
       "      <td>0.160490</td>\n",
       "      <td>0.089013</td>\n",
       "    </tr>\n",
       "    <tr>\n",
       "      <th>ACH-000017</th>\n",
       "      <td>0.000980</td>\n",
       "      <td>0.002869</td>\n",
       "      <td>0.028000</td>\n",
       "      <td>0.002748</td>\n",
       "      <td>0.100577</td>\n",
       "      <td>0.054300</td>\n",
       "      <td>0.000285</td>\n",
       "      <td>0.322310</td>\n",
       "      <td>0.010416</td>\n",
       "      <td>0.001041</td>\n",
       "      <td>...</td>\n",
       "      <td>0.083403</td>\n",
       "      <td>0.715688</td>\n",
       "      <td>0.020735</td>\n",
       "      <td>0.000497</td>\n",
       "      <td>0.003282</td>\n",
       "      <td>0.003351</td>\n",
       "      <td>0.127736</td>\n",
       "      <td>0.000280</td>\n",
       "      <td>0.209408</td>\n",
       "      <td>0.148503</td>\n",
       "    </tr>\n",
       "  </tbody>\n",
       "</table>\n",
       "<p>10 rows × 18333 columns</p>\n",
       "</div>"
      ],
      "text/plain": [
       "            A1BG (1)  A1CF (29974)   A2M (2)  A2ML1 (144568)  \\\n",
       "ACH-000004  0.001451      0.004520  0.102872        0.018067   \n",
       "ACH-000005  0.026104      0.001092  0.001859        0.002384   \n",
       "ACH-000007  0.004364      0.003030  0.017460        0.001112   \n",
       "ACH-000009  0.002986      0.008234  0.014550        0.002942   \n",
       "ACH-000011  0.000254      0.003716  0.009770        0.000015   \n",
       "ACH-000012  0.006585      0.000650  0.002101        0.000076   \n",
       "ACH-000013  0.004887      0.006845  0.020258        0.000569   \n",
       "ACH-000014  0.001156      0.012898  0.007196        0.000637   \n",
       "ACH-000015  0.026106      0.007272  0.072215        0.001568   \n",
       "ACH-000017  0.000980      0.002869  0.028000        0.002748   \n",
       "\n",
       "            A3GALT2 (127550)  A4GALT (53947)  A4GNT (51146)  AAAS (8086)  \\\n",
       "ACH-000004          0.008767        0.085647       0.000065     0.431382   \n",
       "ACH-000005          0.073250        0.175472       0.000745     0.528323   \n",
       "ACH-000007          0.002801        0.001155       0.003964     0.432981   \n",
       "ACH-000009          0.004015        0.003802       0.005994     0.671296   \n",
       "ACH-000011          0.016456        0.131691       0.002650     0.350667   \n",
       "ACH-000012          0.005949        0.039098       0.000148     0.496048   \n",
       "ACH-000013          0.027806        0.028374       0.005170     0.505162   \n",
       "ACH-000014          0.012610        0.027250       0.044594     0.451602   \n",
       "ACH-000015          0.012737        0.036572       0.000224     0.290348   \n",
       "ACH-000017          0.100577        0.054300       0.000285     0.322310   \n",
       "\n",
       "            AACS (65985)  AADAC (13)  ...  ZWILCH (55055)  ZWINT (11130)  \\\n",
       "ACH-000004      0.000192    0.001974  ...        0.060016       0.465022   \n",
       "ACH-000005      0.029178    0.011600  ...        0.064166       0.252776   \n",
       "ACH-000007      0.009979    0.000158  ...        0.027625       0.137708   \n",
       "ACH-000009      0.000620    0.004395  ...        0.240007       0.154809   \n",
       "ACH-000011      0.001843    0.002332  ...        0.331856       0.493477   \n",
       "ACH-000012      0.002616    0.000075  ...        0.316770       0.903348   \n",
       "ACH-000013      0.007531    0.000194  ...        0.010434       0.001892   \n",
       "ACH-000014      0.019987    0.000854  ...        0.069487       0.932838   \n",
       "ACH-000015      0.000692    0.000250  ...        0.030156       0.115563   \n",
       "ACH-000017      0.010416    0.001041  ...        0.083403       0.715688   \n",
       "\n",
       "            ZXDA (7789)  ZXDB (158586)  ZXDC (79364)  ZYG11A (440590)  \\\n",
       "ACH-000004          NaN            NaN      0.000372         0.000517   \n",
       "ACH-000005     0.067042       0.037138      0.001671         0.027810   \n",
       "ACH-000007     0.012447       0.001760      0.000440         0.010849   \n",
       "ACH-000009     0.010861       0.001271      0.001252         0.004284   \n",
       "ACH-000011     0.042943       0.042179      0.000285         0.001603   \n",
       "ACH-000012     0.003081       0.013213      0.001073         0.001261   \n",
       "ACH-000013     0.024174       0.019491      0.000312         0.017229   \n",
       "ACH-000014          NaN            NaN      0.018422         0.006032   \n",
       "ACH-000015     0.015421       0.009875      0.000063         0.000555   \n",
       "ACH-000017     0.020735       0.000497      0.003282         0.003351   \n",
       "\n",
       "            ZYG11B (79699)  ZYX (7791)  ZZEF1 (23140)  ZZZ3 (26009)  \n",
       "ACH-000004        0.374798    0.000220       0.000541      0.059707  \n",
       "ACH-000005        0.033134    0.010160       0.013513      0.103597  \n",
       "ACH-000007        0.219132    0.002946       0.296057      0.383729  \n",
       "ACH-000009        0.592691    0.000227       0.030041      0.552916  \n",
       "ACH-000011        0.101851    0.002336       0.123363      0.306065  \n",
       "ACH-000012        0.037322    0.003660       0.058364      0.332458  \n",
       "ACH-000013        0.079498    0.001365       0.107523      0.619927  \n",
       "ACH-000014        0.067962    0.017100       0.000352      0.204259  \n",
       "ACH-000015        0.151136    0.000561       0.160490      0.089013  \n",
       "ACH-000017        0.127736    0.000280       0.209408      0.148503  \n",
       "\n",
       "[10 rows x 18333 columns]"
      ]
     },
     "execution_count": 4,
     "metadata": {},
     "output_type": "execute_result"
    }
   ],
   "source": [
    "gene_dep.head(10)"
   ]
  },
  {
   "cell_type": "code",
   "execution_count": 5,
   "metadata": {},
   "outputs": [],
   "source": [
    "keep_columns = []"
   ]
  },
  {
   "cell_type": "code",
   "execution_count": null,
   "metadata": {},
   "outputs": [],
   "source": [
    "for c in gene_dep.columns:\n",
    "    if((gene_dep[c] > 0.5).any()):\n",
    "        keep_columns.append(c)"
   ]
  },
  {
   "cell_type": "code",
   "execution_count": null,
   "metadata": {},
   "outputs": [],
   "source": [
    "gene_dep_important = gene_dep.loc[:, keep_columns]"
   ]
  },
  {
   "cell_type": "code",
   "execution_count": null,
   "metadata": {},
   "outputs": [],
   "source": [
    "gene_dep_important.shape"
   ]
  },
  {
   "cell_type": "code",
   "execution_count": null,
   "metadata": {},
   "outputs": [],
   "source": [
    "ranks = pd.DataFrame(index=gene_dep_important.columns, columns=list(gene_dep_important.index))"
   ]
  },
  {
   "cell_type": "code",
   "execution_count": null,
   "metadata": {},
   "outputs": [],
   "source": [
    "i=1\n",
    "r=list(gene_dep.index)\n",
    "l=len(r)\n",
    "for cell_line in r:\n",
    "    print('analyzing cell line',cell_line,i,\"of\",l)\n",
    "    ranks[cell_line]=gene_dep.loc[cell_line].rank()\n",
    "    i+=1"
   ]
  },
  {
   "cell_type": "code",
   "execution_count": null,
   "metadata": {},
   "outputs": [],
   "source": [
    "ranks.to_csv('data/gene_dependency_ranks_above_0-5.csv')"
   ]
  },
  {
   "cell_type": "code",
   "execution_count": null,
   "metadata": {},
   "outputs": [],
   "source": [
    "ranks.to_pickle('data/gene_dependency_ranks_above_0-5.pkl')"
   ]
  },
  {
   "cell_type": "code",
   "execution_count": null,
   "metadata": {},
   "outputs": [],
   "source": [
    "import random\n",
    "import matplotlib.pyplot as plt\n",
    "import seaborn as sns"
   ]
  },
  {
   "cell_type": "code",
   "execution_count": null,
   "metadata": {},
   "outputs": [],
   "source": [
    "print('Visualizing Rank Distributions of 100 random genes from gene_dependency data')\n",
    "for g in random.sample(list(ranks.index), 100):\n",
    "    plt.rcParams[\"figure.figsize\"] = (8,6)\n",
    "    sns.distplot(ranks.loc[g].fillna(0))"
   ]
  },
  {
   "cell_type": "code",
   "execution_count": null,
   "metadata": {},
   "outputs": [],
   "source": [
    "from statistics import variance,mean,median\n",
    "import numpy as np"
   ]
  },
  {
   "cell_type": "code",
   "execution_count": null,
   "metadata": {},
   "outputs": [],
   "source": [
    "stats = pd.DataFrame(index=ranks.index,columns=['std','mean','median'])"
   ]
  },
  {
   "cell_type": "code",
   "execution_count": null,
   "metadata": {},
   "outputs": [],
   "source": [
    "stats['std']=[ranks.loc[g].std() for g in stats.index]"
   ]
  },
  {
   "cell_type": "code",
   "execution_count": null,
   "metadata": {},
   "outputs": [],
   "source": [
    "stats['mean']=[np.nanmean(ranks.loc[g]) for g in stats.index]"
   ]
  },
  {
   "cell_type": "code",
   "execution_count": null,
   "metadata": {},
   "outputs": [],
   "source": [
    "stats['median']=[median(ranks.loc[g]) for g in stats.index]"
   ]
  },
  {
   "cell_type": "code",
   "execution_count": null,
   "metadata": {},
   "outputs": [],
   "source": [
    "stats['max']=[max(ranks.loc[g]) for g in stats.index]"
   ]
  },
  {
   "cell_type": "code",
   "execution_count": null,
   "metadata": {},
   "outputs": [],
   "source": [
    "stats['min']=[min(ranks.loc[g]) for g in stats.index]"
   ]
  },
  {
   "cell_type": "code",
   "execution_count": null,
   "metadata": {},
   "outputs": [],
   "source": [
    "stats.to_pickle('data/gene_dependency_rank_above_0-5_stats.pkl')\n",
    "stats.to_csv('data/gene_dependency_rank_above_0-5_stats.csv')"
   ]
  },
  {
   "cell_type": "code",
   "execution_count": null,
   "metadata": {},
   "outputs": [],
   "source": [
    "stats.head()"
   ]
  },
  {
   "cell_type": "code",
   "execution_count": null,
   "metadata": {},
   "outputs": [],
   "source": [
    "highest_std_genes = stats.head(10).sort_values(by='std', ascending=False)[:10]\n",
    "highest_std_genes"
   ]
  },
  {
   "cell_type": "code",
   "execution_count": null,
   "metadata": {},
   "outputs": [],
   "source": [
    "sns.scatterplot(x=stats['median'],y=stats['std'])"
   ]
  },
  {
   "cell_type": "code",
   "execution_count": null,
   "metadata": {},
   "outputs": [],
   "source": [
    "sns.distplot(stats['mean'].fillna(0))"
   ]
  },
  {
   "cell_type": "code",
   "execution_count": null,
   "metadata": {},
   "outputs": [],
   "source": [
    "sns.distplot(stats['median'].fillna(0))"
   ]
  },
  {
   "cell_type": "code",
   "execution_count": null,
   "metadata": {},
   "outputs": [],
   "source": [
    "sns.distplot(stats['std'].fillna(0))"
   ]
  },
  {
   "cell_type": "code",
   "execution_count": null,
   "metadata": {},
   "outputs": [],
   "source": [
    "correlation_matrix = ranks[ranks.columns].corr()\n",
    "correlation_matrix.head(5)"
   ]
  },
  {
   "cell_type": "code",
   "execution_count": null,
   "metadata": {},
   "outputs": [],
   "source": [
    "sns.clustermap(correlation_matrix)"
   ]
  }
 ],
 "metadata": {
  "kernelspec": {
   "display_name": "Python 3",
   "language": "python",
   "name": "python3"
  },
  "language_info": {
   "codemirror_mode": {
    "name": "ipython",
    "version": 3
   },
   "file_extension": ".py",
   "mimetype": "text/x-python",
   "name": "python",
   "nbconvert_exporter": "python",
   "pygments_lexer": "ipython3",
   "version": "3.6.9"
  }
 },
 "nbformat": 4,
 "nbformat_minor": 4
}
