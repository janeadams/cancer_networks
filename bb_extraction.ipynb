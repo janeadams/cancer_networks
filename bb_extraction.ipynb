{
 "cells": [
  {
   "cell_type": "code",
   "execution_count": 1,
   "metadata": {},
   "outputs": [],
   "source": [
    "import pandas as pd\n",
    "import numpy as np\n",
    "import networkx as nx\n",
    "import random\n",
    "from scipy import stats\n",
    "import matplotlib.pyplot as plt"
   ]
  },
  {
   "cell_type": "code",
   "execution_count": 2,
   "metadata": {},
   "outputs": [],
   "source": [
    "ranks = pd.read_pickle(\"data/gene_dependency_ranks_above_0-5.pkl\")\n",
    "#ranks = pd.read_csv(\"/home/ccoquide/Bureau/PhD/CNWW/PROJECT/GIT/cancer_networks/data/gene_dependency_ranks_above_0-5.csv\")"
   ]
  },
  {
   "cell_type": "code",
   "execution_count": 4,
   "metadata": {},
   "outputs": [
    {
     "data": {
      "text/plain": [
       "Index(['ACH-000004', 'ACH-000005', 'ACH-000007', 'ACH-000009', 'ACH-000011',\n",
       "       'ACH-000012', 'ACH-000013', 'ACH-000014', 'ACH-000015', 'ACH-000017',\n",
       "       ...\n",
       "       'ACH-001736', 'ACH-001737', 'ACH-001740', 'ACH-001745', 'ACH-001750',\n",
       "       'ACH-001765', 'ACH-001814', 'ACH-001838', 'ACH-001956', 'ACH-001957'],\n",
       "      dtype='object', length=625)"
      ]
     },
     "execution_count": 4,
     "metadata": {},
     "output_type": "execute_result"
    }
   ],
   "source": [
    "correlation_matrix = ranks[ranks.columns].corr()\n",
    "correlation_matrix.columns\n"
   ]
  },
  {
   "cell_type": "code",
   "execution_count": 5,
   "metadata": {},
   "outputs": [
    {
     "data": {
      "text/html": [
       "<div>\n",
       "<style scoped>\n",
       "    .dataframe tbody tr th:only-of-type {\n",
       "        vertical-align: middle;\n",
       "    }\n",
       "\n",
       "    .dataframe tbody tr th {\n",
       "        vertical-align: top;\n",
       "    }\n",
       "\n",
       "    .dataframe thead th {\n",
       "        text-align: right;\n",
       "    }\n",
       "</style>\n",
       "<table border=\"1\" class=\"dataframe\">\n",
       "  <thead>\n",
       "    <tr style=\"text-align: right;\">\n",
       "      <th></th>\n",
       "      <th>ACH-000004</th>\n",
       "      <th>ACH-000005</th>\n",
       "      <th>ACH-000007</th>\n",
       "      <th>ACH-000009</th>\n",
       "      <th>ACH-000011</th>\n",
       "      <th>ACH-000012</th>\n",
       "      <th>ACH-000013</th>\n",
       "      <th>ACH-000014</th>\n",
       "      <th>ACH-000015</th>\n",
       "      <th>ACH-000017</th>\n",
       "      <th>...</th>\n",
       "      <th>ACH-001736</th>\n",
       "      <th>ACH-001737</th>\n",
       "      <th>ACH-001740</th>\n",
       "      <th>ACH-001745</th>\n",
       "      <th>ACH-001750</th>\n",
       "      <th>ACH-001765</th>\n",
       "      <th>ACH-001814</th>\n",
       "      <th>ACH-001838</th>\n",
       "      <th>ACH-001956</th>\n",
       "      <th>ACH-001957</th>\n",
       "    </tr>\n",
       "  </thead>\n",
       "  <tbody>\n",
       "    <tr>\n",
       "      <th>ACH-000004</th>\n",
       "      <td>1.000000</td>\n",
       "      <td>0.597607</td>\n",
       "      <td>0.559754</td>\n",
       "      <td>0.601619</td>\n",
       "      <td>0.549539</td>\n",
       "      <td>0.616107</td>\n",
       "      <td>0.617855</td>\n",
       "      <td>0.570610</td>\n",
       "      <td>0.613056</td>\n",
       "      <td>0.572952</td>\n",
       "      <td>...</td>\n",
       "      <td>0.604702</td>\n",
       "      <td>0.440899</td>\n",
       "      <td>0.617321</td>\n",
       "      <td>0.612175</td>\n",
       "      <td>0.581896</td>\n",
       "      <td>0.623488</td>\n",
       "      <td>0.525925</td>\n",
       "      <td>0.574750</td>\n",
       "      <td>0.638381</td>\n",
       "      <td>0.577766</td>\n",
       "    </tr>\n",
       "    <tr>\n",
       "      <th>ACH-000005</th>\n",
       "      <td>0.597607</td>\n",
       "      <td>1.000000</td>\n",
       "      <td>0.517332</td>\n",
       "      <td>0.539486</td>\n",
       "      <td>0.543980</td>\n",
       "      <td>0.567064</td>\n",
       "      <td>0.585241</td>\n",
       "      <td>0.528067</td>\n",
       "      <td>0.566844</td>\n",
       "      <td>0.559278</td>\n",
       "      <td>...</td>\n",
       "      <td>0.573900</td>\n",
       "      <td>0.432757</td>\n",
       "      <td>0.542726</td>\n",
       "      <td>0.573932</td>\n",
       "      <td>0.562092</td>\n",
       "      <td>0.588682</td>\n",
       "      <td>0.503396</td>\n",
       "      <td>0.541913</td>\n",
       "      <td>0.593137</td>\n",
       "      <td>0.567709</td>\n",
       "    </tr>\n",
       "    <tr>\n",
       "      <th>ACH-000007</th>\n",
       "      <td>0.559754</td>\n",
       "      <td>0.517332</td>\n",
       "      <td>1.000000</td>\n",
       "      <td>0.619704</td>\n",
       "      <td>0.583177</td>\n",
       "      <td>0.615484</td>\n",
       "      <td>0.619687</td>\n",
       "      <td>0.577771</td>\n",
       "      <td>0.619181</td>\n",
       "      <td>0.590677</td>\n",
       "      <td>...</td>\n",
       "      <td>0.584793</td>\n",
       "      <td>0.423939</td>\n",
       "      <td>0.589390</td>\n",
       "      <td>0.608467</td>\n",
       "      <td>0.594487</td>\n",
       "      <td>0.618894</td>\n",
       "      <td>0.547127</td>\n",
       "      <td>0.585415</td>\n",
       "      <td>0.635545</td>\n",
       "      <td>0.609970</td>\n",
       "    </tr>\n",
       "    <tr>\n",
       "      <th>ACH-000009</th>\n",
       "      <td>0.601619</td>\n",
       "      <td>0.539486</td>\n",
       "      <td>0.619704</td>\n",
       "      <td>1.000000</td>\n",
       "      <td>0.600932</td>\n",
       "      <td>0.688942</td>\n",
       "      <td>0.671216</td>\n",
       "      <td>0.623072</td>\n",
       "      <td>0.679362</td>\n",
       "      <td>0.614023</td>\n",
       "      <td>...</td>\n",
       "      <td>0.611228</td>\n",
       "      <td>0.466910</td>\n",
       "      <td>0.619277</td>\n",
       "      <td>0.641885</td>\n",
       "      <td>0.631092</td>\n",
       "      <td>0.670831</td>\n",
       "      <td>0.565418</td>\n",
       "      <td>0.617422</td>\n",
       "      <td>0.692238</td>\n",
       "      <td>0.667032</td>\n",
       "    </tr>\n",
       "    <tr>\n",
       "      <th>ACH-000011</th>\n",
       "      <td>0.549539</td>\n",
       "      <td>0.543980</td>\n",
       "      <td>0.583177</td>\n",
       "      <td>0.600932</td>\n",
       "      <td>1.000000</td>\n",
       "      <td>0.619103</td>\n",
       "      <td>0.646230</td>\n",
       "      <td>0.606244</td>\n",
       "      <td>0.620201</td>\n",
       "      <td>0.598506</td>\n",
       "      <td>...</td>\n",
       "      <td>0.602342</td>\n",
       "      <td>0.479515</td>\n",
       "      <td>0.592567</td>\n",
       "      <td>0.613339</td>\n",
       "      <td>0.639647</td>\n",
       "      <td>0.654010</td>\n",
       "      <td>0.569661</td>\n",
       "      <td>0.620261</td>\n",
       "      <td>0.672639</td>\n",
       "      <td>0.669246</td>\n",
       "    </tr>\n",
       "  </tbody>\n",
       "</table>\n",
       "<p>5 rows × 625 columns</p>\n",
       "</div>"
      ],
      "text/plain": [
       "            ACH-000004  ACH-000005  ACH-000007  ACH-000009  ACH-000011  \\\n",
       "ACH-000004    1.000000    0.597607    0.559754    0.601619    0.549539   \n",
       "ACH-000005    0.597607    1.000000    0.517332    0.539486    0.543980   \n",
       "ACH-000007    0.559754    0.517332    1.000000    0.619704    0.583177   \n",
       "ACH-000009    0.601619    0.539486    0.619704    1.000000    0.600932   \n",
       "ACH-000011    0.549539    0.543980    0.583177    0.600932    1.000000   \n",
       "\n",
       "            ACH-000012  ACH-000013  ACH-000014  ACH-000015  ACH-000017  ...  \\\n",
       "ACH-000004    0.616107    0.617855    0.570610    0.613056    0.572952  ...   \n",
       "ACH-000005    0.567064    0.585241    0.528067    0.566844    0.559278  ...   \n",
       "ACH-000007    0.615484    0.619687    0.577771    0.619181    0.590677  ...   \n",
       "ACH-000009    0.688942    0.671216    0.623072    0.679362    0.614023  ...   \n",
       "ACH-000011    0.619103    0.646230    0.606244    0.620201    0.598506  ...   \n",
       "\n",
       "            ACH-001736  ACH-001737  ACH-001740  ACH-001745  ACH-001750  \\\n",
       "ACH-000004    0.604702    0.440899    0.617321    0.612175    0.581896   \n",
       "ACH-000005    0.573900    0.432757    0.542726    0.573932    0.562092   \n",
       "ACH-000007    0.584793    0.423939    0.589390    0.608467    0.594487   \n",
       "ACH-000009    0.611228    0.466910    0.619277    0.641885    0.631092   \n",
       "ACH-000011    0.602342    0.479515    0.592567    0.613339    0.639647   \n",
       "\n",
       "            ACH-001765  ACH-001814  ACH-001838  ACH-001956  ACH-001957  \n",
       "ACH-000004    0.623488    0.525925    0.574750    0.638381    0.577766  \n",
       "ACH-000005    0.588682    0.503396    0.541913    0.593137    0.567709  \n",
       "ACH-000007    0.618894    0.547127    0.585415    0.635545    0.609970  \n",
       "ACH-000009    0.670831    0.565418    0.617422    0.692238    0.667032  \n",
       "ACH-000011    0.654010    0.569661    0.620261    0.672639    0.669246  \n",
       "\n",
       "[5 rows x 625 columns]"
      ]
     },
     "execution_count": 5,
     "metadata": {},
     "output_type": "execute_result"
    }
   ],
   "source": [
    "correlation_matrix.head()"
   ]
  },
  {
   "cell_type": "code",
   "execution_count": 6,
   "metadata": {},
   "outputs": [],
   "source": [
    "T_Links={}\n",
    "N=len(correlation_matrix.columns)\n",
    "Cell=correlation_matrix.columns\n",
    "ww=open(\"data/cell_lines_corr_above0_5.dat\",\"w\")"
   ]
  },
  {
   "cell_type": "code",
   "execution_count": 7,
   "metadata": {},
   "outputs": [],
   "source": [
    "for j in range(N):\n",
    "    for i in range(j+1,N):\n",
    "        T_Links[str(j)+\",\"+str(i)]=correlation_matrix[Cell[j]][Cell[i]]\n",
    "        ww.write(str(j)+\"\\t\"+str(i)+\"\\t\"+str(correlation_matrix[Cell[j]][Cell[i]])+\"\\n\")\n",
    "ww.close()"
   ]
  },
  {
   "cell_type": "code",
   "execution_count": 21,
   "metadata": {},
   "outputs": [],
   "source": [
    "def extract_bb(G,alp):\n",
    "    keep_graph = nx.Graph()\n",
    "    for i in G:\n",
    "        neigh=G[i]\n",
    "        k=len(neigh)\n",
    "        if k>1:\n",
    "            W=sum(G.get_edge_data(i,j)['weight'] for j in neigh)\n",
    "            for j in neigh:\n",
    "                p=1.0*G.get_edge_data(i,j)['weight']/W\n",
    "                if (1-p)**(k-1) < alp:\n",
    "                    keep_graph.add_edge(i,j, weight = G.get_edge_data(i,j))\n",
    "    return keep_graph, 1.0*len(keep_graph.edges())/(1.0*len(G.edges())),nx.number_connected_components(keep_graph) "
   ]
  },
  {
   "cell_type": "code",
   "execution_count": 9,
   "metadata": {},
   "outputs": [],
   "source": [
    "G=nx.Graph()"
   ]
  },
  {
   "cell_type": "code",
   "execution_count": 10,
   "metadata": {},
   "outputs": [],
   "source": [
    "G.add_nodes_from(range(N))"
   ]
  },
  {
   "cell_type": "code",
   "execution_count": 15,
   "metadata": {},
   "outputs": [],
   "source": [
    "A=[]"
   ]
  },
  {
   "cell_type": "code",
   "execution_count": 16,
   "metadata": {},
   "outputs": [],
   "source": [
    "for i in list(T_Links.keys()):\n",
    "    A.append((int(i.split(\",\")[0]), int(i.split(',')[1]), {'weight': T_Links[i]}))"
   ]
  },
  {
   "cell_type": "code",
   "execution_count": 17,
   "metadata": {},
   "outputs": [],
   "source": [
    "G.add_edges_from(A)"
   ]
  },
  {
   "cell_type": "code",
   "execution_count": 24,
   "metadata": {
    "scrolled": true
   },
   "outputs": [
    {
     "name": "stdout",
     "output_type": "stream",
     "text": [
      "0.27 1.5384615384615384e-05 1.0\n",
      "0.271 1.5384615384615384e-05 1.0\n",
      "0.272 1.5384615384615384e-05 1.0\n",
      "0.273 1.5384615384615384e-05 1.0\n",
      "0.274 1.5384615384615384e-05 1.0\n",
      "0.275 1.5384615384615384e-05 1.0\n",
      "0.276 1.5384615384615384e-05 1.0\n",
      "0.277 2.0512820512820512e-05 2.0\n",
      "0.278 2.564102564102564e-05 3.0\n",
      "0.279 2.564102564102564e-05 3.0\n",
      "0.28 2.564102564102564e-05 3.0\n",
      "0.281 2.564102564102564e-05 3.0\n",
      "0.28200000000000003 2.564102564102564e-05 3.0\n",
      "0.28300000000000003 3.076923076923077e-05 4.0\n",
      "0.28400000000000003 3.076923076923077e-05 4.0\n",
      "0.28500000000000003 3.5897435897435896e-05 5.0\n",
      "0.28600000000000003 5.128205128205128e-05 7.0\n",
      "0.28700000000000003 5.641025641025641e-05 8.0\n",
      "0.28800000000000003 6.153846153846154e-05 9.0\n",
      "0.28900000000000003 7.692307692307693e-05 8.0\n",
      "0.29000000000000004 7.692307692307693e-05 8.0\n",
      "0.29100000000000004 8.717948717948718e-05 9.0\n",
      "0.29200000000000004 9.23076923076923e-05 9.0\n",
      "0.29300000000000004 0.0001076923076923077 8.0\n",
      "0.29400000000000004 0.00011282051282051281 9.0\n",
      "0.29500000000000004 0.00013333333333333334 10.0\n",
      "0.29600000000000004 0.00014871794871794872 11.0\n",
      "0.29700000000000004 0.00017435897435897436 10.0\n",
      "0.29800000000000004 0.0001846153846153846 10.0\n",
      "0.29900000000000004 0.00022051282051282052 12.0\n",
      "0.30000000000000004 0.00024102564102564103 12.0\n",
      "0.30100000000000005 0.00030256410256410257 14.0\n",
      "0.30200000000000005 0.0003487179487179487 16.0\n",
      "0.30300000000000005 0.0003846153846153846 16.0\n",
      "0.30400000000000005 0.0004564102564102564 14.0\n",
      "0.30500000000000005 0.0005384615384615384 14.0\n",
      "0.30600000000000005 0.0006256410256410257 16.0\n",
      "0.30700000000000005 0.0007076923076923077 17.0\n",
      "0.30800000000000005 0.000841025641025641 17.0\n",
      "0.30900000000000005 0.0010153846153846155 19.0\n",
      "0.31000000000000005 0.0012102564102564103 15.0\n",
      "0.31100000000000005 0.0014 13.0\n",
      "0.31200000000000006 0.0016 12.0\n",
      "0.31300000000000006 0.0019076923076923077 19.0\n",
      "0.31400000000000006 0.0023897435897435896 11.0\n",
      "0.31500000000000006 0.002917948717948718 9.0\n",
      "0.31600000000000006 0.0034615384615384616 8.0\n",
      "0.31700000000000006 0.004415384615384615 6.0\n",
      "0.31800000000000006 0.005312820512820513 2.0\n",
      "0.31900000000000006 0.006461538461538461 3.0\n",
      "0.32000000000000006 0.00784102564102564 3.0\n",
      "0.32100000000000006 0.0098 2.0\n",
      "0.32200000000000006 0.01198974358974359 1.0\n",
      "0.32300000000000006 0.014605128205128205 1.0\n",
      "0.32400000000000007 0.017543589743589744 1.0\n",
      "0.32500000000000007 0.02107179487179487 1.0\n",
      "0.32600000000000007 0.025333333333333333 1.0\n",
      "0.32700000000000007 0.030441025641025642 1.0\n",
      "0.32800000000000007 0.03624102564102564 1.0\n",
      "0.32900000000000007 0.04293333333333333 1.0\n",
      "0.33000000000000007 0.05067179487179487 1.0\n",
      "0.33100000000000007 0.05941538461538461 1.0\n",
      "0.3320000000000001 0.06942051282051281 1.0\n",
      "0.3330000000000001 0.0804974358974359 1.0\n",
      "0.3340000000000001 0.09289230769230769 1.0\n",
      "0.3350000000000001 0.10616410256410257 1.0\n",
      "0.3360000000000001 0.12060512820512821 1.0\n",
      "0.3370000000000001 0.13676410256410257 1.0\n",
      "0.3380000000000001 0.15313846153846153 1.0\n",
      "0.3390000000000001 0.17121025641025642 1.0\n"
     ]
    }
   ],
   "source": [
    "alp=np.arange(0.27,0.34,0.001)\n",
    "y1=alp.copy()\n",
    "y2=alp.copy()\n",
    "for i in np.arange(alp.size):\n",
    "    rez=extract_bb(G,alp[i])\n",
    "    y1[i]=rez[1]#fraction of remaining links\n",
    "    y2[i]=rez[2]#number of connected components  \n",
    "    print(alp[i], y1[i], y2[i])\n",
    "    "
   ]
  },
  {
   "cell_type": "code",
   "execution_count": 25,
   "metadata": {},
   "outputs": [
    {
     "data": {
      "text/plain": [
       "array([ 1.,  1.,  1.,  1.,  1.,  1.,  1.,  2.,  3.,  3.,  3.,  3.,  3.,\n",
       "        4.,  4.,  5.,  7.,  8.,  9.,  8.,  8.,  9.,  9.,  8.,  9., 10.,\n",
       "       11., 10., 10., 12., 12., 14., 16., 16., 14., 14., 16., 17., 17.,\n",
       "       19., 15., 13., 12., 19., 11.,  9.,  8.,  6.,  2.,  3.,  3.,  2.,\n",
       "        1.,  1.,  1.,  1.,  1.,  1.,  1.,  1.,  1.,  1.,  1.,  1.,  1.,\n",
       "        1.,  1.,  1.,  1.,  1.])"
      ]
     },
     "execution_count": 25,
     "metadata": {},
     "output_type": "execute_result"
    }
   ],
   "source": [
    "y2\n",
    "\n",
    "\n"
   ]
  },
  {
   "cell_type": "code",
   "execution_count": 26,
   "metadata": {},
   "outputs": [
    {
     "data": {
      "text/plain": [
       "[<matplotlib.lines.Line2D at 0x7fd862d9d390>]"
      ]
     },
     "execution_count": 26,
     "metadata": {},
     "output_type": "execute_result"
    },
    {
     "data": {
      "image/png": "[encoded data removed]",
      "text/plain": [
       "<Figure size 432x288 with 1 Axes>"
      ]
     },
     "metadata": {
      "needs_background": "light"
     },
     "output_type": "display_data"
    }
   ],
   "source": [
    "plt.plot(alp,y1)"
   ]
  },
  {
   "cell_type": "code",
   "execution_count": 27,
   "metadata": {},
   "outputs": [
    {
     "data": {
      "text/plain": [
       "[<matplotlib.lines.Line2D at 0x7fd867cda438>]"
      ]
     },
     "execution_count": 27,
     "metadata": {},
     "output_type": "execute_result"
    },
    {
     "data": {
      "image/png": "[encoded data removed]",
      "text/plain": [
       "<Figure size 432x288 with 1 Axes>"
      ]
     },
     "metadata": {
      "needs_background": "light"
     },
     "output_type": "display_data"
    }
   ],
   "source": [
    "plt.plot(alp,y2)"
   ]
  },
  {
   "cell_type": "code",
   "execution_count": 50,
   "metadata": {},
   "outputs": [
    {
     "name": "stdout",
     "output_type": "stream",
     "text": [
      "there are: 198 nodes\n",
      "there are: 372 links\n"
     ]
    }
   ],
   "source": [
    "bb,dens,comp=extract_bb(G,0.313)\n",
    "print(\"there are:\", len(bb.nodes()), \"nodes\")\n",
    "print(\"there are:\", len(bb.edges()), \"links\")"
   ]
  },
  {
   "cell_type": "code",
   "execution_count": 51,
   "metadata": {},
   "outputs": [],
   "source": [
    "ww=open(\"data/cell_lines_corr-above0-5-0-313.net\",\"w\")\n",
    "ww.write(\"#SOURCE\\t#TARGET\\t#WEIGHT\\n\")\n",
    "Link_tab=nx.get_edge_attributes(bb,'weight')\n",
    "for i in bb.edges():\n",
    "    ww.write(str(i[0]+1)+\"\\t\"+str(i[1]+1)+\"\\t\"+str(Link_tab[i][\"weight\"])+\"\\n\")\n",
    "ww.close()\n"
   ]
  },
  {
   "cell_type": "code",
   "execution_count": 44,
   "metadata": {},
   "outputs": [],
   "source": [
    "info=open(\"data/cell_info.txt\",'r').read()\n",
    "info=info.split(\"\\n\")\n",
    "info.remove(\"\")\n",
    "header=info[0].split(\"\\t\")[0]+\"\\t\"+info[0].split(\"\\t\")[5]+\"\\t\"+info[0].split(\"\\t\")[37]#information related to DepMap_ID/Cancer_Type/Gender\n",
    "info.remove(info[0])\n",
    "dic={}\n",
    "for i in info:\n",
    "    tmp=i.split(\"\\t\")\n",
    "    dic[tmp[0]]=[tmp[5],tmp[-1]]\n",
    "for i in Cell:\n",
    "    if i not in dic.keys():\n",
    "        dic[i]=[\"NA\", \"NA\"]\n",
    "ww=open(\"data/cell_lines_corr-above0-5-0-309.nodes\",\"w\")\n",
    "ww.write(\"Node_ID\\t\"+header+\"\\n\")\n",
    "for i in sorted(list(bb.nodes())):\n",
    "    ww.write(str(i+1)+\"\\t\"+Cell[i]+\"\\t\"+dic[Cell[i]][0]+\"\\t\"+dic[Cell[i]][1]+\"\\n\")    \n",
    "ww.close()"
   ]
  },
  {
   "cell_type": "markdown",
   "metadata": {},
   "source": [
    "## Computing cancer_type-cancer_type links and node statistics"
   ]
  },
  {
   "cell_type": "code",
   "execution_count": 45,
   "metadata": {},
   "outputs": [],
   "source": [
    "net=open(\"data/cell_lines_corr-above0-5-0-309.net\",\"r\").read()\n",
    "net=net.split(\"\\n\")\n",
    "net.remove(\"\")\n",
    "net.remove(net[0])\n",
    "link_class={}\n",
    "Nl=len(net)\n",
    "C={}\n",
    "ww1=open(\"data/cell_lines_corr-above0-5-0-309.linkclass.dat\",\"w\")\n",
    "ww2=open(\"data/cell_lines_corr-above0-5-0-309.nodeclass.dat\",\"w\")\n",
    "for i in Cell:\n",
    "    for j in Cell:        \n",
    "        link_class[dic[i][0]+\":\"+dic[j][0]]=0\n",
    "        C[dic[i][0]]=0\n",
    "        C[dic[j][0]]=0\n",
    "LIST=[]\n",
    "for l in net:\n",
    "    tmp=l.split(\"\\t\")[0:2]\n",
    "    link_class[dic[Cell[int(tmp[0])-1]][0]+\":\"+dic[Cell[int(tmp[1])-1]][0]]+=1\n",
    "    if tmp[0] not in LIST:\n",
    "        C[dic[Cell[int(tmp[0])-1]][0]]+=1\n",
    "        LIST.append(tmp[0])\n",
    "    if tmp[1] not in LIST:\n",
    "        C[dic[Cell[int(tmp[1])-1]][0]]+=1\n",
    "        LIST.append(tmp[1])\n",
    "N=len(LIST)\n",
    "rez={}\n",
    "LIST=[]\n",
    "cncer=[]\n",
    "W=0\n",
    "for i in link_class.keys():\n",
    "    if i.split(\":\")[0] not in cncer:\n",
    "        cncer.append(i.split(\":\")[0])\n",
    "    if i.split(\":\")[1] not in cncer:\n",
    "        cncer.append(i.split(\":\")[1])\n",
    "    W+=link_class[i]\n",
    "for i in range(len(cncer)):\n",
    "    for j in range(i,len(cncer)):\n",
    "        I=cncer[i]\n",
    "        J=cncer[j]\n",
    "        LIST.append(I+\":\"+J)\n",
    "        if I!=J:\n",
    "            rez[I+\":\"+J]=link_class[I+\":\"+J]+link_class[J+\":\"+I]\n",
    "        if I==J:\n",
    "            rez[I+\":\"+J]=link_class[I+\":\"+J]\n",
    "link_class=[]\n",
    "link_class_name=[]\n",
    "for i in LIST:\n",
    "    if rez[i]>0:\n",
    "        z=0\n",
    "        link_class_name.append(i)\n",
    "        link_class.append(rez[i])\n",
    "tmp=sorted(range(len(link_class)), key=lambda k : link_class[k], reverse=True)\n",
    "ww1.write(\"#SOURCE\\t#TARGET\\t#LINK\\n\")\n",
    "for i in tmp:\n",
    "    ww1.write(link_class_name[i].replace(\":\",\"\\t\")+\"\\t\"+str(link_class[i])+\"\\n\")\n",
    "ww1.close()\n",
    "LIST=[[],[]]\n",
    "for i in C.keys():\n",
    "    if C[i]>0:        \n",
    "        LIST[0].append(i)\n",
    "        LIST[1].append(C[i])\n",
    "tmp=sorted(range(len(LIST[0])), key=lambda k : LIST[1][k], reverse=True)\n",
    "ww2.write(\"#CANCER\"+\"\\t\"+\"#OCCURANCE\"+\"\\n\")\n",
    "for i in tmp:\n",
    "    ww2.write(LIST[0][i]+\"\\t\"+str(LIST[1][i])+\"\\n\")\n",
    "ww2.close()\n"
   ]
  },
  {
   "cell_type": "markdown",
   "metadata": {},
   "source": [
    "## Homophiliness\n"
   ]
  },
  {
   "cell_type": "code",
   "execution_count": 46,
   "metadata": {},
   "outputs": [],
   "source": [
    "a=open(\"data/cell_lines_corr-above0-5-0-309.linkclass.dat\",\"r\").read()\n",
    "a=a.split(\"\\n\")\n",
    "a.remove(\"\")\n",
    "a.remove(a[0])\n",
    "b=open(\"data/cell_lines_corr-above0-5-0-309.nodeclass.dat\",\"r\").read()\n",
    "b=b.split(\"\\n\")\n",
    "b.remove(\"\")\n",
    "b.remove(b[0])\n",
    "HOM={}\n",
    "DIFF={}\n",
    "LINK=[]\n",
    "BAL={}\n",
    "ww=open(\"data/cell_lines_corr-above0-5-0-309.homophiliness\",\"w\")\n",
    "for i in a:\n",
    "    tmp=i.split(\"\\t\")\n",
    "    HOM[tmp[0]]=0\n",
    "    HOM[tmp[1]]=0\n",
    "    DIFF[tmp[0]]=0\n",
    "    DIFF[tmp[1]]=0\n",
    "for i in a:\n",
    "    tmp=i.split(\"\\t\")\n",
    "    if tmp[0] != tmp[1]:\n",
    "        DIFF[tmp[0]]+=int(tmp[2])\n",
    "        DIFF[tmp[1]]+=int(tmp[2])\n",
    "    else:\n",
    "        HOM[tmp[0]]=int(tmp[2])\n",
    "LIST=[[],[]]\n",
    "for i in a:\n",
    "    tmp=i.split(\"\\t\")\n",
    "    BAL[tmp[0]]=(1.0*(HOM[tmp[0]]-DIFF[tmp[0]]))/(1.0*(HOM[tmp[0]]+DIFF[tmp[0]]))\n",
    "    if tmp[0] not in LIST[0]:\n",
    "        LIST[0].append(tmp[0])\n",
    "        LIST[1].append(BAL[tmp[0]])\n",
    "    BAL[tmp[1]]=(1.0*(HOM[tmp[1]]-DIFF[tmp[1]]))/(1.0*(HOM[tmp[1]]+DIFF[tmp[1]]))\n",
    "    if tmp[1] not in LIST[0]:\n",
    "        LIST[0].append(tmp[1])\n",
    "        LIST[1].append(BAL[tmp[1]])\n",
    "C={}\n",
    "for i in b:\n",
    "    tmp=i.split(\"\\t\")\n",
    "    C[tmp[0]]=tmp[1]\n",
    "tmp=sorted(range(len(LIST[0])), key=lambda k : LIST[1][k], reverse=True)\n",
    "ww.write(\"#CANCER\"+\"\\t\"+\"#HOMOPHILINESS\"+\"\\t\"+\"#NODE_OCCURANCE\"+\"\\n\")\n",
    "for i in tmp:\n",
    "    ww.write(LIST[0][i]+\"\\t\"+str(LIST[1][i])+\"\\t\"+C[LIST[0][i]]+\"\\n\")\n",
    "ww.close()"
   ]
  }
 ],
 "metadata": {
  "kernelspec": {
   "display_name": "Python 3",
   "language": "python",
   "name": "python3"
  },
  "language_info": {
   "codemirror_mode": {
    "name": "ipython",
    "version": 3
   },
   "file_extension": ".py",
   "mimetype": "text/x-python",
   "name": "python",
   "nbconvert_exporter": "python",
   "pygments_lexer": "ipython3",
   "version": "3.6.9"
  }
 },
 "nbformat": 4,
 "nbformat_minor": 2
}
