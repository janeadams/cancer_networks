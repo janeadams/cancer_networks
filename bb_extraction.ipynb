{
 "cells": [
  {
   "cell_type": "code",
   "execution_count": 1,
   "metadata": {},
   "outputs": [],
   "source": [
    "import pandas as pd\n",
    "import numpy as np\n",
    "import networkx as nx\n",
    "import random\n",
    "from scipy import stats\n",
    "import matplotlib.pyplot as plt"
   ]
  },
  {
   "cell_type": "code",
   "execution_count": 2,
   "metadata": {},
   "outputs": [],
   "source": [
    "#ranks = pd.read_pickle(\"/home/ccoquide/Bureau/PhD/CNWW/PROJECT/GIT/cancer_networks/data/gene_dependency_ranks_above_0-5.pkl\")\n",
    "ranks = pd.read_csv(\"/home/ccoquide/Bureau/PhD/CNWW/PROJECT/GIT/cancer_networks/data/gene_dependency_ranks_above_0-5.csv\")"
   ]
  },
  {
   "cell_type": "code",
   "execution_count": 3,
   "metadata": {},
   "outputs": [
    {
     "data": {
      "text/plain": [
       "Index(['ACH-000004', 'ACH-000005', 'ACH-000007', 'ACH-000009', 'ACH-000011',\n",
       "       'ACH-000012', 'ACH-000013', 'ACH-000014', 'ACH-000015', 'ACH-000017',\n",
       "       ...\n",
       "       'ACH-001736', 'ACH-001737', 'ACH-001740', 'ACH-001745', 'ACH-001750',\n",
       "       'ACH-001765', 'ACH-001814', 'ACH-001838', 'ACH-001956', 'ACH-001957'],\n",
       "      dtype='object', length=625)"
      ]
     },
     "execution_count": 3,
     "metadata": {},
     "output_type": "execute_result"
    }
   ],
   "source": [
    "correlation_matrix = ranks[ranks.columns].corr()\n",
    "correlation_matrix.columns\n"
   ]
  },
  {
   "cell_type": "code",
   "execution_count": 4,
   "metadata": {},
   "outputs": [],
   "source": [
    "T_Links={}\n",
    "N=len(correlation_matrix.columns)\n",
    "Cell=correlation_matrix.columns\n",
    "ww=open(\"/home/ccoquide/Bureau/PhD/CNWW/PROJECT/GIT/cancer_networks/data/cell_lines_corr_above0_5.dat\",\"w\")"
   ]
  },
  {
   "cell_type": "code",
   "execution_count": 5,
   "metadata": {},
   "outputs": [],
   "source": [
    "for j in range(N):\n",
    "    for i in range(j+1,N):\n",
    "        T_Links[str(j)+\",\"+str(i)]=correlation_matrix[Cell[j]][Cell[i]]\n",
    "        ww.write(str(j)+\"\\t\"+str(i)+\"\\t\"+str(correlation_matrix[Cell[j]][Cell[i]])+\"\\n\")\n",
    "ww.close()"
   ]
  },
  {
   "cell_type": "code",
   "execution_count": 6,
   "metadata": {},
   "outputs": [],
   "source": [
    "def extract_bb(G,alp):\n",
    "    keep_graph = nx.Graph()\n",
    "    for i in G:\n",
    "        neigh=G[i]\n",
    "        k=len(neigh)\n",
    "        if k>1:\n",
    "            W=sum(G.get_edge_data(i,j)['weight'] for j in neigh)\n",
    "            for j in neigh:\n",
    "                p=1.0*G.get_edge_data(i,j)['weight']/W\n",
    "                if (1-p)**(k-1) < alp:\n",
    "                    keep_graph.add_edge(i,j,G.get_edge_data(i,j))\n",
    "    return keep_graph, 1.0*len(keep_graph.edges())/(1.0*len(G.edges())),nx.number_connected_components(keep_graph) "
   ]
  },
  {
   "cell_type": "code",
   "execution_count": 7,
   "metadata": {},
   "outputs": [],
   "source": [
    "G=nx.Graph()"
   ]
  },
  {
   "cell_type": "code",
   "execution_count": 8,
   "metadata": {},
   "outputs": [],
   "source": [
    "G.add_nodes_from(range(N))"
   ]
  },
  {
   "cell_type": "code",
   "execution_count": 9,
   "metadata": {},
   "outputs": [],
   "source": [
    "A=[]"
   ]
  },
  {
   "cell_type": "code",
   "execution_count": 10,
   "metadata": {},
   "outputs": [],
   "source": [
    "for i in list(T_Links.keys()):\n",
    "    A.append((int(i.split(\",\")[0]), int(i.split(',')[1]), {'weight': T_Links[i]}))"
   ]
  },
  {
   "cell_type": "code",
   "execution_count": 11,
   "metadata": {},
   "outputs": [],
   "source": [
    "G.add_edges_from(A)"
   ]
  },
  {
   "cell_type": "code",
   "execution_count": 12,
   "metadata": {
    "scrolled": true
   },
   "outputs": [
    {
     "name": "stdout",
     "output_type": "stream",
     "text": [
      "0.24 0.0 0.0\n",
      "0.241 0.0 0.0\n",
      "0.242 0.0 0.0\n",
      "0.243 0.0 0.0\n",
      "0.244 0.0 0.0\n",
      "0.245 5.12820512821e-06 1.0\n",
      "0.246 5.12820512821e-06 1.0\n",
      "0.247 5.12820512821e-06 1.0\n",
      "0.248 5.12820512821e-06 1.0\n",
      "0.249 5.12820512821e-06 1.0\n",
      "0.25 5.12820512821e-06 1.0\n",
      "0.251 5.12820512821e-06 1.0\n",
      "0.252 5.12820512821e-06 1.0\n",
      "0.253 5.12820512821e-06 1.0\n",
      "0.254 5.12820512821e-06 1.0\n",
      "0.255 5.12820512821e-06 1.0\n",
      "0.256 5.12820512821e-06 1.0\n",
      "0.257 5.12820512821e-06 1.0\n",
      "0.258 5.12820512821e-06 1.0\n",
      "0.259 5.12820512821e-06 1.0\n",
      "0.26 5.12820512821e-06 1.0\n",
      "0.261 5.12820512821e-06 1.0\n",
      "0.262 5.12820512821e-06 1.0\n",
      "0.263 5.12820512821e-06 1.0\n",
      "0.264 5.12820512821e-06 1.0\n",
      "0.265 5.12820512821e-06 1.0\n",
      "0.266 5.12820512821e-06 1.0\n",
      "0.267 5.12820512821e-06 1.0\n",
      "0.268 5.12820512821e-06 1.0\n",
      "0.269 5.12820512821e-06 1.0\n",
      "0.27 5.12820512821e-06 1.0\n",
      "0.271 5.12820512821e-06 1.0\n",
      "0.272 5.12820512821e-06 1.0\n",
      "0.273 5.12820512821e-06 1.0\n",
      "0.274 5.12820512821e-06 1.0\n",
      "0.275 5.12820512821e-06 1.0\n",
      "0.276 5.12820512821e-06 1.0\n",
      "0.277 5.12820512821e-06 1.0\n",
      "0.278 1.02564102564e-05 1.0\n",
      "0.279 1.02564102564e-05 1.0\n",
      "0.28 1.02564102564e-05 1.0\n",
      "0.281 1.53846153846e-05 1.0\n",
      "0.282 1.53846153846e-05 1.0\n",
      "0.283 1.53846153846e-05 1.0\n",
      "0.284 1.53846153846e-05 1.0\n",
      "0.285 1.53846153846e-05 1.0\n",
      "0.286 1.53846153846e-05 1.0\n",
      "0.287 1.53846153846e-05 1.0\n",
      "0.288 1.53846153846e-05 1.0\n",
      "0.289 1.53846153846e-05 1.0\n",
      "0.29 1.53846153846e-05 1.0\n",
      "0.291 1.53846153846e-05 1.0\n",
      "0.292 1.53846153846e-05 1.0\n",
      "0.293 1.53846153846e-05 1.0\n",
      "0.294 1.53846153846e-05 1.0\n",
      "0.295 1.53846153846e-05 1.0\n",
      "0.296 1.53846153846e-05 1.0\n",
      "0.297 2.5641025641e-05 3.0\n",
      "0.298 2.5641025641e-05 3.0\n",
      "0.299 2.5641025641e-05 3.0\n",
      "0.3 3.07692307692e-05 4.0\n",
      "0.301 3.58974358974e-05 5.0\n",
      "0.302 3.58974358974e-05 5.0\n",
      "0.303 3.58974358974e-05 5.0\n",
      "0.304 3.58974358974e-05 5.0\n",
      "0.305 4.10256410256e-05 6.0\n",
      "0.306 5.12820512821e-05 7.0\n",
      "0.307 6.15384615385e-05 8.0\n",
      "0.308 6.15384615385e-05 8.0\n",
      "0.309 7.69230769231e-05 10.0\n",
      "0.31 8.71794871795e-05 11.0\n",
      "0.311 9.23076923077e-05 11.0\n",
      "0.312 0.000102564102564 11.0\n",
      "0.313 0.000117948717949 11.0\n",
      "0.314 0.000128205128205 11.0\n",
      "0.315 0.000164102564103 14.0\n",
      "0.316 0.000189743589744 15.0\n",
      "0.317 0.000215384615385 16.0\n",
      "0.318 0.000307692307692 14.0\n",
      "0.319 0.000353846153846 14.0\n",
      "0.32 0.000451282051282 17.0\n",
      "0.321 0.000579487179487 20.0\n",
      "0.322 0.000764102564103 19.0\n",
      "0.323 0.000953846153846 15.0\n",
      "0.324 0.00133333333333 14.0\n",
      "0.325 0.00166666666667 14.0\n",
      "0.326 0.00214871794872 10.0\n",
      "0.327 0.00276923076923 10.0\n",
      "0.328 0.00372820512821 8.0\n",
      "0.329 0.00471794871795 7.0\n",
      "0.33 0.00613846153846 4.0\n",
      "0.331 0.00789230769231 4.0\n",
      "0.332 0.0103179487179 3.0\n",
      "0.333 0.0131794871795 2.0\n",
      "0.334 0.0166923076923 1.0\n",
      "0.335 0.0211230769231 1.0\n",
      "0.336 0.0269179487179 1.0\n",
      "0.337 0.0337948717949 1.0\n",
      "0.338 0.0419487179487 1.0\n",
      "0.339 0.0514615384615 1.0\n",
      "0.34 0.0628871794872 1.0\n",
      "0.341 0.076558974359 1.0\n",
      "0.342 0.0920564102564 1.0\n",
      "0.343 0.109769230769 1.0\n",
      "0.344 0.130179487179 1.0\n",
      "0.345 0.151748717949 1.0\n",
      "0.346 0.176271794872 1.0\n",
      "0.347 0.202328205128 1.0\n",
      "0.348 0.230343589744 1.0\n",
      "0.349 0.26018974359 1.0\n",
      "0.35 0.290584615385 1.0\n",
      "0.351 0.321902564103 1.0\n",
      "0.352 0.354753846154 1.0\n",
      "0.353 0.387430769231 1.0\n",
      "0.354 0.419774358974 1.0\n",
      "0.355 0.452682051282 1.0\n",
      "0.356 0.485297435897 1.0\n",
      "0.357 0.517179487179 1.0\n",
      "0.358 0.548 1.0\n",
      "0.359 0.5774 1.0\n",
      "0.36 0.606041025641 1.0\n",
      "0.361 0.633584615385 1.0\n",
      "0.362 0.659748717949 1.0\n",
      "0.363 0.684261538462 1.0\n",
      "0.364 0.707594871795 1.0\n",
      "0.365 0.730087179487 1.0\n",
      "0.366 0.750825641026 1.0\n",
      "0.367 0.770358974359 1.0\n",
      "0.368 0.788738461538 1.0\n",
      "0.369 0.806297435897 1.0\n",
      "0.37 0.822738461538 1.0\n",
      "0.371 0.838692307692 1.0\n",
      "0.372 0.853153846154 1.0\n",
      "0.373 0.86638974359 1.0\n",
      "0.374 0.87958974359 1.0\n",
      "0.375 0.891246153846 1.0\n",
      "0.376 0.902364102564 1.0\n",
      "0.377 0.911856410256 1.0\n",
      "0.378 0.920661538462 1.0\n",
      "0.379 0.928697435897 1.0\n",
      "0.38 0.935835897436 1.0\n",
      "0.381 0.942651282051 1.0\n",
      "0.382 0.948876923077 1.0\n",
      "0.383 0.954169230769 1.0\n",
      "0.384 0.959041025641 1.0\n",
      "0.385 0.963548717949 1.0\n",
      "0.386 0.967456410256 1.0\n",
      "0.387 0.971056410256 1.0\n",
      "0.388 0.974123076923 1.0\n",
      "0.389 0.976979487179 1.0\n",
      "0.39 0.979569230769 1.0\n",
      "0.391 0.982051282051 1.0\n",
      "0.392 0.984035897436 1.0\n",
      "0.393 0.985887179487 1.0\n",
      "0.394 0.987533333333 1.0\n",
      "0.395 0.989015384615 1.0\n",
      "0.396 0.990348717949 1.0\n",
      "0.397 0.991482051282 1.0\n",
      "0.398 0.992523076923 1.0\n",
      "0.399 0.993379487179 1.0\n",
      "0.4 0.9942 1.0\n"
     ]
    }
   ],
   "source": [
    "alp=np.arange(0.24,0.4,0.001)\n",
    "y1=alp.copy()\n",
    "y2=alp.copy()\n",
    "for i in np.arange(alp.size):\n",
    "    rez=extract_bb(G,alp[i])\n",
    "    y1[i]=rez[1]#fraction of remaining links\n",
    "    y2[i]=rez[2]#number of connected components  \n",
    "    print(alp[i], y1[i], y2[i])\n",
    "    "
   ]
  },
  {
   "cell_type": "code",
   "execution_count": 13,
   "metadata": {},
   "outputs": [
    {
     "data": {
      "text/plain": [
       "array([  0.,   0.,   0.,   0.,   0.,   1.,   1.,   1.,   1.,   1.,   1.,\n",
       "         1.,   1.,   1.,   1.,   1.,   1.,   1.,   1.,   1.,   1.,   1.,\n",
       "         1.,   1.,   1.,   1.,   1.,   1.,   1.,   1.,   1.,   1.,   1.,\n",
       "         1.,   1.,   1.,   1.,   1.,   1.,   1.,   1.,   1.,   1.,   1.,\n",
       "         1.,   1.,   1.,   1.,   1.,   1.,   1.,   1.,   1.,   1.,   1.,\n",
       "         1.,   1.,   3.,   3.,   3.,   4.,   5.,   5.,   5.,   5.,   6.,\n",
       "         7.,   8.,   8.,  10.,  11.,  11.,  11.,  11.,  11.,  14.,  15.,\n",
       "        16.,  14.,  14.,  17.,  20.,  19.,  15.,  14.,  14.,  10.,  10.,\n",
       "         8.,   7.,   4.,   4.,   3.,   2.,   1.,   1.,   1.,   1.,   1.,\n",
       "         1.,   1.,   1.,   1.,   1.,   1.,   1.,   1.,   1.,   1.,   1.,\n",
       "         1.,   1.,   1.,   1.,   1.,   1.,   1.,   1.,   1.,   1.,   1.,\n",
       "         1.,   1.,   1.,   1.,   1.,   1.,   1.,   1.,   1.,   1.,   1.,\n",
       "         1.,   1.,   1.,   1.,   1.,   1.,   1.,   1.,   1.,   1.,   1.,\n",
       "         1.,   1.,   1.,   1.,   1.,   1.,   1.,   1.,   1.,   1.,   1.,\n",
       "         1.,   1.,   1.,   1.,   1.,   1.,   1.])"
      ]
     },
     "execution_count": 13,
     "metadata": {},
     "output_type": "execute_result"
    }
   ],
   "source": [
    "y2\n",
    "\n",
    "\n"
   ]
  },
  {
   "cell_type": "code",
   "execution_count": 14,
   "metadata": {},
   "outputs": [
    {
     "data": {
      "text/plain": [
       "[<matplotlib.lines.Line2D at 0x7f0ae85d2828>]"
      ]
     },
     "execution_count": 14,
     "metadata": {},
     "output_type": "execute_result"
    },
    {
     "data": {
      "image/png": "[encoded data removed]",
      "text/plain": [
       "<matplotlib.figure.Figure at 0x7f0adfd191d0>"
      ]
     },
     "metadata": {},
     "output_type": "display_data"
    }
   ],
   "source": [
    "plt.plot(alp,y1)"
   ]
  },
  {
   "cell_type": "code",
   "execution_count": 15,
   "metadata": {},
   "outputs": [
    {
     "data": {
      "text/plain": [
       "[<matplotlib.lines.Line2D at 0x7f0ace8a4d68>]"
      ]
     },
     "execution_count": 15,
     "metadata": {},
     "output_type": "execute_result"
    },
    {
     "data": {
      "image/png": "[encoded data removed]",
      "text/plain": [
       "<matplotlib.figure.Figure at 0x7f0adcef1668>"
      ]
     },
     "metadata": {},
     "output_type": "display_data"
    }
   ],
   "source": [
    "plt.plot(alp,y2)"
   ]
  },
  {
   "cell_type": "code",
   "execution_count": 16,
   "metadata": {},
   "outputs": [
    {
     "name": "stdout",
     "output_type": "stream",
     "text": [
      "there are: 399 nodes\n",
      "there are: 920 links\n"
     ]
    }
   ],
   "source": [
    "bb,dens,comp=extract_bb(G,0.329)\n",
    "print(\"there are:\", len(bb.nodes()), \"nodes\")\n",
    "print(\"there are:\", len(bb.edges()), \"links\")"
   ]
  },
  {
   "cell_type": "code",
   "execution_count": 17,
   "metadata": {},
   "outputs": [],
   "source": [
    "ww=open(\"/home/ccoquide/Bureau/PhD/CNWW/PROJECT/GIT/cancer_networks/data/cell_lines_corr-above0-5-0-329.net\",\"w\")\n",
    "ww.write(\"#SOURCE\\t#TARGET\\t#WEIGHT\\n\")\n",
    "Link_tab=nx.get_edge_attributes(bb,'weight')\n",
    "for i in bb.edges():\n",
    "    ww.write(str(i[0]+1)+\"\\t\"+str(i[1]+1)+\"\\t\"+str(Link_tab[i])+\"\\n\")\n",
    "ww.close()\n"
   ]
  },
  {
   "cell_type": "code",
   "execution_count": 18,
   "metadata": {},
   "outputs": [],
   "source": [
    "info=open(\"/home/ccoquide/Bureau/PhD/CNWW/PROJECT/GIT/cancer_networks/data/cell_info.txt\",'r').read()\n",
    "info=info.split(\"\\n\")\n",
    "info.remove(\"\")\n",
    "header=info[0].split(\"\\t\")[0]+\"\\t\"+info[0].split(\"\\t\")[5]+\"\\t\"+info[0].split(\"\\t\")[37]#information related to DepMap_ID/Cancer_Type/Gender\n",
    "info.remove(info[0])\n",
    "dic={}\n",
    "for i in info:\n",
    "    tmp=i.split(\"\\t\")\n",
    "    dic[tmp[0]]=[tmp[5],tmp[-1]]\n",
    "for i in Cell:\n",
    "    if i not in dic.keys():\n",
    "        dic[i]=[\"NA\", \"NA\"]\n",
    "ww=open(\"/home/ccoquide/Bureau/PhD/CNWW/PROJECT/GIT/cancer_networks/data/cell_lines_corr-above0-5-0-329.nodes\",\"w\")\n",
    "ww.write(\"Node_ID\\t\"+header+\"\\n\")\n",
    "for i in sorted(list(bb.nodes())):\n",
    "    ww.write(str(i+1)+\"\\t\"+Cell[i]+\"\\t\"+dic[Cell[i]][0]+\"\\t\"+dic[Cell[i]][1]+\"\\n\")    \n",
    "ww.close()"
   ]
  },
  {
   "cell_type": "code",
   "execution_count": 19,
   "metadata": {},
   "outputs": [],
   "source": [
    "#Computing cancer_type-cancer_type links and node statistics"
   ]
  },
  {
   "cell_type": "code",
   "execution_count": 20,
   "metadata": {},
   "outputs": [],
   "source": [
    "net=open(\"/home/ccoquide/Bureau/PhD/CNWW/PROJECT/cell_lines_corr-above0-5-0-329.net\",\"r\").read()\n",
    "net=net.split(\"\\n\")\n",
    "net.remove(\"\")\n",
    "net.remove(net[0])\n",
    "link_class={}\n",
    "Nl=len(net)\n",
    "C={}\n",
    "ww1=open(\"/home/ccoquide/Bureau/PhD/CNWW/PROJECT/GIT/cancer_networks/data/cell_lines_corr-above0-5-0-329.linkclass.dat\",\"w\")\n",
    "ww2=open(\"/home/ccoquide/Bureau/PhD/CNWW/PROJECT/GIT/cancer_networks/data/cell_lines_corr-above0-5-0-329.nodeclass.dat\",\"w\")\n",
    "for i in Cell:\n",
    "    for j in Cell:        \n",
    "        link_class[dic[i][0]+\":\"+dic[j][0]]=0\n",
    "        C[dic[i][0]]=0\n",
    "        C[dic[j][0]]=0\n",
    "LIST=[]\n",
    "for l in net:\n",
    "    tmp=l.split(\"\\t\")[0:2]\n",
    "    link_class[dic[Cell[int(tmp[0])-1]][0]+\":\"+dic[Cell[int(tmp[1])-1]][0]]+=1\n",
    "    if tmp[0] not in LIST:\n",
    "        C[dic[Cell[int(tmp[0])-1]][0]]+=1\n",
    "        LIST.append(tmp[0])\n",
    "    if tmp[1] not in LIST:\n",
    "        C[dic[Cell[int(tmp[1])-1]][0]]+=1\n",
    "        LIST.append(tmp[1])\n",
    "N=len(LIST)\n",
    "rez={}\n",
    "LIST=[]\n",
    "cncer=[]\n",
    "W=0\n",
    "for i in link_class.keys():\n",
    "    if i.split(\":\")[0] not in cncer:\n",
    "        cncer.append(i.split(\":\")[0])\n",
    "    if i.split(\":\")[1] not in cncer:\n",
    "        cncer.append(i.split(\":\")[1])\n",
    "    W+=link_class[i]\n",
    "for i in range(len(cncer)):\n",
    "    for j in range(i,len(cncer)):\n",
    "        I=cncer[i]\n",
    "        J=cncer[j]\n",
    "        LIST.append(I+\":\"+J)\n",
    "        if I!=J:\n",
    "            rez[I+\":\"+J]=link_class[I+\":\"+J]+link_class[J+\":\"+I]\n",
    "        if I==J:\n",
    "            rez[I+\":\"+J]=link_class[I+\":\"+J]\n",
    "link_class=[]\n",
    "link_class_name=[]\n",
    "for i in LIST:\n",
    "    if rez[i]>0:\n",
    "        z=0\n",
    "        link_class_name.append(i)\n",
    "        link_class.append(rez[i])\n",
    "tmp=sorted(range(len(link_class)), key=lambda k : link_class[k], reverse=True)\n",
    "ww1.write(\"#SOURCE\\t#TARGET\\t#LINK\\n\")\n",
    "for i in tmp:\n",
    "    ww1.write(link_class_name[i].replace(\":\",\"\\t\")+\"\\t\"+str(link_class[i])+\"\\n\")\n",
    "ww1.close()\n",
    "LIST=[[],[]]\n",
    "for i in C.keys():\n",
    "    if C[i]>0:        \n",
    "        LIST[0].append(i)\n",
    "        LIST[1].append(C[i])\n",
    "tmp=sorted(range(len(LIST[0])), key=lambda k : LIST[1][k], reverse=True)\n",
    "ww2.write(\"#CANCER\"+\"\\t\"+\"#OCCURANCE\"+\"\\n\")\n",
    "for i in tmp:\n",
    "    ww2.write(LIST[0][i]+\"\\t\"+str(LIST[1][i])+\"\\n\")\n",
    "ww2.close()\n"
   ]
  },
  {
   "cell_type": "code",
   "execution_count": 21,
   "metadata": {},
   "outputs": [],
   "source": [
    "#Homophiliness\n"
   ]
  },
  {
   "cell_type": "code",
   "execution_count": 22,
   "metadata": {},
   "outputs": [],
   "source": [
    "a=open(\"/home/ccoquide/Bureau/PhD/CNWW/PROJECT/GIT/cancer_networks/data/cell_lines_corr-above0-5-0-329.linkclass.dat\",\"r\").read()\n",
    "a=a.split(\"\\n\")\n",
    "a.remove(\"\")\n",
    "a.remove(a[0])\n",
    "b=open(\"/home/ccoquide/Bureau/PhD/CNWW/PROJECT/GIT/cancer_networks/data/cell_lines_corr-above0-5-0-329.nodeclass.dat\",\"r\").read()\n",
    "b=b.split(\"\\n\")\n",
    "b.remove(\"\")\n",
    "b.remove(b[0])\n",
    "HOM={}\n",
    "DIFF={}\n",
    "LINK=[]\n",
    "BAL={}\n",
    "ww=open(\"/home/ccoquide/Bureau/PhD/CNWW/PROJECT/GIT/cancer_networks/data/cell_lines_corr-above0-5-0-329.homophiliness\",\"w\")\n",
    "for i in a:\n",
    "    tmp=i.split(\"\\t\")\n",
    "    HOM[tmp[0]]=0\n",
    "    HOM[tmp[1]]=0\n",
    "    DIFF[tmp[0]]=0\n",
    "    DIFF[tmp[1]]=0\n",
    "for i in a:\n",
    "    tmp=i.split(\"\\t\")\n",
    "    if tmp[0] != tmp[1]:\n",
    "        DIFF[tmp[0]]+=int(tmp[2])\n",
    "        DIFF[tmp[1]]+=int(tmp[2])\n",
    "    else:\n",
    "        HOM[tmp[0]]=int(tmp[2])\n",
    "LIST=[[],[]]\n",
    "for i in a:\n",
    "    tmp=i.split(\"\\t\")\n",
    "    BAL[tmp[0]]=(1.0*(HOM[tmp[0]]-DIFF[tmp[0]]))/(1.0*(HOM[tmp[0]]+DIFF[tmp[0]]))\n",
    "    if tmp[0] not in LIST[0]:\n",
    "        LIST[0].append(tmp[0])\n",
    "        LIST[1].append(BAL[tmp[0]])\n",
    "    BAL[tmp[1]]=(1.0*(HOM[tmp[1]]-DIFF[tmp[1]]))/(1.0*(HOM[tmp[1]]+DIFF[tmp[1]]))\n",
    "    if tmp[1] not in LIST[0]:\n",
    "        LIST[0].append(tmp[1])\n",
    "        LIST[1].append(BAL[tmp[1]])\n",
    "C={}\n",
    "for i in b:\n",
    "    tmp=i.split(\"\\t\")\n",
    "    C[tmp[0]]=tmp[1]\n",
    "tmp=sorted(range(len(LIST[0])), key=lambda k : LIST[1][k], reverse=True)\n",
    "ww.write(\"#CANCER\"+\"\\t\"+\"#HOMOPHILINESS\"+\"\\t\"+\"#NODE_OCCURANCE\"+\"\\n\")\n",
    "for i in tmp:\n",
    "    ww.write(LIST[0][i]+\"\\t\"+str(LIST[1][i])+\"\\t\"+C[LIST[0][i]]+\"\\n\")\n",
    "ww.close()"
   ]
  },
  {
   "cell_type": "code",
   "execution_count": null,
   "metadata": {},
   "outputs": [],
   "source": []
  },
  {
   "cell_type": "code",
   "execution_count": null,
   "metadata": {},
   "outputs": [],
   "source": []
  }
 ],
 "metadata": {
  "kernelspec": {
   "display_name": "Python 3",
   "language": "python",
   "name": "python3"
  },
  "language_info": {
   "codemirror_mode": {
    "name": "ipython",
    "version": 3
   },
   "file_extension": ".py",
   "mimetype": "text/x-python",
   "name": "python",
   "nbconvert_exporter": "python",
   "pygments_lexer": "ipython3",
   "version": "3.6.9"
  }
 },
 "nbformat": 4,
 "nbformat_minor": 2
}
