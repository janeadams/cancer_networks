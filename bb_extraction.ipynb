{
 "cells": [
  {
   "cell_type": "code",
   "execution_count": 1,
   "metadata": {},
   "outputs": [],
   "source": [
    "import pandas as pd\n",
    "import numpy as np\n",
    "import networkx as nx\n",
    "import random\n",
    "from scipy import stats\n",
    "import matplotlib.pyplot as plt\n",
    "import plotly.express as px\n",
    "import plotly.io as pio\n",
    "pio.templates.default = 'plotly_white'"
   ]
  },
  {
   "cell_type": "code",
   "execution_count": 2,
   "metadata": {},
   "outputs": [],
   "source": [
    "ranks = pd.read_pickle(\"data/gene_dependency_ranks_above_0-5.pkl\")\n",
    "#ranks = pd.read_csv(\"/home/ccoquide/Bureau/PhD/CNWW/PROJECT/GIT/cancer_networks/data/gene_dependency_ranks_above_0-5.csv\")"
   ]
  },
  {
   "cell_type": "code",
   "execution_count": 3,
   "metadata": {},
   "outputs": [
    {
     "data": {
      "text/plain": [
       "Index(['ACH-000004', 'ACH-000005', 'ACH-000007', 'ACH-000009', 'ACH-000011',\n",
       "       'ACH-000012', 'ACH-000013', 'ACH-000014', 'ACH-000015', 'ACH-000017',\n",
       "       ...\n",
       "       'ACH-001736', 'ACH-001737', 'ACH-001740', 'ACH-001745', 'ACH-001750',\n",
       "       'ACH-001765', 'ACH-001814', 'ACH-001838', 'ACH-001956', 'ACH-001957'],\n",
       "      dtype='object', length=625)"
      ]
     },
     "execution_count": 3,
     "metadata": {},
     "output_type": "execute_result"
    }
   ],
   "source": [
    "correlation_matrix = ranks[ranks.columns].corr()\n",
    "correlation_matrix.columns\n"
   ]
  },
  {
   "cell_type": "code",
   "execution_count": 4,
   "metadata": {},
   "outputs": [
    {
     "data": {
      "text/html": [
       "<div>\n",
       "<style scoped>\n",
       "    .dataframe tbody tr th:only-of-type {\n",
       "        vertical-align: middle;\n",
       "    }\n",
       "\n",
       "    .dataframe tbody tr th {\n",
       "        vertical-align: top;\n",
       "    }\n",
       "\n",
       "    .dataframe thead th {\n",
       "        text-align: right;\n",
       "    }\n",
       "</style>\n",
       "<table border=\"1\" class=\"dataframe\">\n",
       "  <thead>\n",
       "    <tr style=\"text-align: right;\">\n",
       "      <th></th>\n",
       "      <th>ACH-000004</th>\n",
       "      <th>ACH-000005</th>\n",
       "      <th>ACH-000007</th>\n",
       "      <th>ACH-000009</th>\n",
       "      <th>ACH-000011</th>\n",
       "      <th>ACH-000012</th>\n",
       "      <th>ACH-000013</th>\n",
       "      <th>ACH-000014</th>\n",
       "      <th>ACH-000015</th>\n",
       "      <th>ACH-000017</th>\n",
       "      <th>...</th>\n",
       "      <th>ACH-001736</th>\n",
       "      <th>ACH-001737</th>\n",
       "      <th>ACH-001740</th>\n",
       "      <th>ACH-001745</th>\n",
       "      <th>ACH-001750</th>\n",
       "      <th>ACH-001765</th>\n",
       "      <th>ACH-001814</th>\n",
       "      <th>ACH-001838</th>\n",
       "      <th>ACH-001956</th>\n",
       "      <th>ACH-001957</th>\n",
       "    </tr>\n",
       "  </thead>\n",
       "  <tbody>\n",
       "    <tr>\n",
       "      <th>ACH-000004</th>\n",
       "      <td>1.000000</td>\n",
       "      <td>0.670811</td>\n",
       "      <td>0.634086</td>\n",
       "      <td>0.668743</td>\n",
       "      <td>0.627837</td>\n",
       "      <td>0.683202</td>\n",
       "      <td>0.674804</td>\n",
       "      <td>0.645831</td>\n",
       "      <td>0.678091</td>\n",
       "      <td>0.644843</td>\n",
       "      <td>...</td>\n",
       "      <td>0.674436</td>\n",
       "      <td>0.515364</td>\n",
       "      <td>0.682904</td>\n",
       "      <td>0.679575</td>\n",
       "      <td>0.653029</td>\n",
       "      <td>0.684327</td>\n",
       "      <td>0.600411</td>\n",
       "      <td>0.645787</td>\n",
       "      <td>0.694980</td>\n",
       "      <td>0.647552</td>\n",
       "    </tr>\n",
       "    <tr>\n",
       "      <th>ACH-000005</th>\n",
       "      <td>0.670811</td>\n",
       "      <td>1.000000</td>\n",
       "      <td>0.595817</td>\n",
       "      <td>0.612021</td>\n",
       "      <td>0.618527</td>\n",
       "      <td>0.637441</td>\n",
       "      <td>0.647392</td>\n",
       "      <td>0.605953</td>\n",
       "      <td>0.637074</td>\n",
       "      <td>0.631191</td>\n",
       "      <td>...</td>\n",
       "      <td>0.645563</td>\n",
       "      <td>0.508010</td>\n",
       "      <td>0.619845</td>\n",
       "      <td>0.642149</td>\n",
       "      <td>0.633958</td>\n",
       "      <td>0.655382</td>\n",
       "      <td>0.576940</td>\n",
       "      <td>0.615256</td>\n",
       "      <td>0.655533</td>\n",
       "      <td>0.635836</td>\n",
       "    </tr>\n",
       "    <tr>\n",
       "      <th>ACH-000007</th>\n",
       "      <td>0.634086</td>\n",
       "      <td>0.595817</td>\n",
       "      <td>1.000000</td>\n",
       "      <td>0.689916</td>\n",
       "      <td>0.659210</td>\n",
       "      <td>0.689017</td>\n",
       "      <td>0.686473</td>\n",
       "      <td>0.656473</td>\n",
       "      <td>0.689560</td>\n",
       "      <td>0.664908</td>\n",
       "      <td>...</td>\n",
       "      <td>0.662469</td>\n",
       "      <td>0.506101</td>\n",
       "      <td>0.665620</td>\n",
       "      <td>0.682570</td>\n",
       "      <td>0.668785</td>\n",
       "      <td>0.687120</td>\n",
       "      <td>0.623574</td>\n",
       "      <td>0.662435</td>\n",
       "      <td>0.697441</td>\n",
       "      <td>0.678311</td>\n",
       "    </tr>\n",
       "    <tr>\n",
       "      <th>ACH-000009</th>\n",
       "      <td>0.668743</td>\n",
       "      <td>0.612021</td>\n",
       "      <td>0.689916</td>\n",
       "      <td>1.000000</td>\n",
       "      <td>0.674617</td>\n",
       "      <td>0.745205</td>\n",
       "      <td>0.724943</td>\n",
       "      <td>0.690675</td>\n",
       "      <td>0.731248</td>\n",
       "      <td>0.682845</td>\n",
       "      <td>...</td>\n",
       "      <td>0.678239</td>\n",
       "      <td>0.542141</td>\n",
       "      <td>0.690460</td>\n",
       "      <td>0.706106</td>\n",
       "      <td>0.697572</td>\n",
       "      <td>0.726958</td>\n",
       "      <td>0.637741</td>\n",
       "      <td>0.685768</td>\n",
       "      <td>0.739834</td>\n",
       "      <td>0.726810</td>\n",
       "    </tr>\n",
       "    <tr>\n",
       "      <th>ACH-000011</th>\n",
       "      <td>0.627837</td>\n",
       "      <td>0.618527</td>\n",
       "      <td>0.659210</td>\n",
       "      <td>0.674617</td>\n",
       "      <td>1.000000</td>\n",
       "      <td>0.689373</td>\n",
       "      <td>0.700604</td>\n",
       "      <td>0.676628</td>\n",
       "      <td>0.684779</td>\n",
       "      <td>0.670969</td>\n",
       "      <td>...</td>\n",
       "      <td>0.672168</td>\n",
       "      <td>0.552894</td>\n",
       "      <td>0.666295</td>\n",
       "      <td>0.684159</td>\n",
       "      <td>0.700965</td>\n",
       "      <td>0.712906</td>\n",
       "      <td>0.643263</td>\n",
       "      <td>0.688556</td>\n",
       "      <td>0.730965</td>\n",
       "      <td>0.731748</td>\n",
       "    </tr>\n",
       "  </tbody>\n",
       "</table>\n",
       "<p>5 rows × 625 columns</p>\n",
       "</div>"
      ],
      "text/plain": [
       "            ACH-000004  ACH-000005  ACH-000007  ACH-000009  ACH-000011  \\\n",
       "ACH-000004    1.000000    0.670811    0.634086    0.668743    0.627837   \n",
       "ACH-000005    0.670811    1.000000    0.595817    0.612021    0.618527   \n",
       "ACH-000007    0.634086    0.595817    1.000000    0.689916    0.659210   \n",
       "ACH-000009    0.668743    0.612021    0.689916    1.000000    0.674617   \n",
       "ACH-000011    0.627837    0.618527    0.659210    0.674617    1.000000   \n",
       "\n",
       "            ACH-000012  ACH-000013  ACH-000014  ACH-000015  ACH-000017  ...  \\\n",
       "ACH-000004    0.683202    0.674804    0.645831    0.678091    0.644843  ...   \n",
       "ACH-000005    0.637441    0.647392    0.605953    0.637074    0.631191  ...   \n",
       "ACH-000007    0.689017    0.686473    0.656473    0.689560    0.664908  ...   \n",
       "ACH-000009    0.745205    0.724943    0.690675    0.731248    0.682845  ...   \n",
       "ACH-000011    0.689373    0.700604    0.676628    0.684779    0.670969  ...   \n",
       "\n",
       "            ACH-001736  ACH-001737  ACH-001740  ACH-001745  ACH-001750  \\\n",
       "ACH-000004    0.674436    0.515364    0.682904    0.679575    0.653029   \n",
       "ACH-000005    0.645563    0.508010    0.619845    0.642149    0.633958   \n",
       "ACH-000007    0.662469    0.506101    0.665620    0.682570    0.668785   \n",
       "ACH-000009    0.678239    0.542141    0.690460    0.706106    0.697572   \n",
       "ACH-000011    0.672168    0.552894    0.666295    0.684159    0.700965   \n",
       "\n",
       "            ACH-001765  ACH-001814  ACH-001838  ACH-001956  ACH-001957  \n",
       "ACH-000004    0.684327    0.600411    0.645787    0.694980    0.647552  \n",
       "ACH-000005    0.655382    0.576940    0.615256    0.655533    0.635836  \n",
       "ACH-000007    0.687120    0.623574    0.662435    0.697441    0.678311  \n",
       "ACH-000009    0.726958    0.637741    0.685768    0.739834    0.726810  \n",
       "ACH-000011    0.712906    0.643263    0.688556    0.730965    0.731748  \n",
       "\n",
       "[5 rows x 625 columns]"
      ]
     },
     "execution_count": 4,
     "metadata": {},
     "output_type": "execute_result"
    }
   ],
   "source": [
    "correlation_matrix.head()"
   ]
  },
  {
   "cell_type": "code",
   "execution_count": 5,
   "metadata": {},
   "outputs": [],
   "source": [
    "T_Links={}\n",
    "N=len(correlation_matrix.columns)\n",
    "Cell=correlation_matrix.columns\n",
    "ww=open(\"data/cell_lines_corr_above0_5.dat\",\"w\")"
   ]
  },
  {
   "cell_type": "code",
   "execution_count": 6,
   "metadata": {},
   "outputs": [],
   "source": [
    "for j in range(N):\n",
    "    for i in range(j+1,N):\n",
    "        T_Links[str(j)+\",\"+str(i)]=correlation_matrix[Cell[j]][Cell[i]]\n",
    "        ww.write(str(j)+\"\\t\"+str(i)+\"\\t\"+str(correlation_matrix[Cell[j]][Cell[i]])+\"\\n\")\n",
    "ww.close()"
   ]
  },
  {
   "cell_type": "code",
   "execution_count": 7,
   "metadata": {},
   "outputs": [],
   "source": [
    "def extract_bb(G,alp):\n",
    "    keep_graph = nx.Graph()\n",
    "    for i in G:\n",
    "        neigh=G[i]\n",
    "        k=len(neigh)\n",
    "        if k>1:\n",
    "            W=sum(G.get_edge_data(i,j)['weight'] for j in neigh)\n",
    "            for j in neigh:\n",
    "                p=1.0*G.get_edge_data(i,j)['weight']/W\n",
    "                if (1-p)**(k-1) < alp:\n",
    "                    keep_graph.add_edge(i,j, weight = G.get_edge_data(i,j))\n",
    "    return keep_graph, 1.0*len(keep_graph.edges())/(1.0*len(G.edges())),nx.number_connected_components(keep_graph) "
   ]
  },
  {
   "cell_type": "code",
   "execution_count": 8,
   "metadata": {},
   "outputs": [],
   "source": [
    "G=nx.Graph()"
   ]
  },
  {
   "cell_type": "code",
   "execution_count": 9,
   "metadata": {},
   "outputs": [],
   "source": [
    "G.add_nodes_from(range(N))"
   ]
  },
  {
   "cell_type": "code",
   "execution_count": 10,
   "metadata": {},
   "outputs": [],
   "source": [
    "A=[]"
   ]
  },
  {
   "cell_type": "code",
   "execution_count": 11,
   "metadata": {},
   "outputs": [],
   "source": [
    "for i in list(T_Links.keys()):\n",
    "    A.append((int(i.split(\",\")[0]), int(i.split(',')[1]), {'weight': T_Links[i]}))"
   ]
  },
  {
   "cell_type": "code",
   "execution_count": 12,
   "metadata": {},
   "outputs": [],
   "source": [
    "G.add_edges_from(A)"
   ]
  },
  {
   "cell_type": "code",
   "execution_count": 13,
   "metadata": {
    "scrolled": true
   },
   "outputs": [
    {
     "name": "stdout",
     "output_type": "stream",
     "text": [
      "0.27 5.128205128205128e-06 1.0\n",
      "0.271 5.128205128205128e-06 1.0\n",
      "0.272 5.128205128205128e-06 1.0\n",
      "0.273 5.128205128205128e-06 1.0\n",
      "0.274 5.128205128205128e-06 1.0\n",
      "0.275 5.128205128205128e-06 1.0\n",
      "0.276 5.128205128205128e-06 1.0\n",
      "0.277 5.128205128205128e-06 1.0\n",
      "0.278 1.0256410256410256e-05 1.0\n",
      "0.279 1.0256410256410256e-05 1.0\n",
      "0.28 1.0256410256410256e-05 1.0\n",
      "0.281 1.5384615384615384e-05 1.0\n",
      "0.28200000000000003 1.5384615384615384e-05 1.0\n",
      "0.28300000000000003 1.5384615384615384e-05 1.0\n",
      "0.28400000000000003 1.5384615384615384e-05 1.0\n",
      "0.28500000000000003 1.5384615384615384e-05 1.0\n",
      "0.28600000000000003 1.5384615384615384e-05 1.0\n",
      "0.28700000000000003 1.5384615384615384e-05 1.0\n",
      "0.28800000000000003 1.5384615384615384e-05 1.0\n",
      "0.28900000000000003 1.5384615384615384e-05 1.0\n",
      "0.29000000000000004 1.5384615384615384e-05 1.0\n",
      "0.29100000000000004 1.5384615384615384e-05 1.0\n",
      "0.29200000000000004 1.5384615384615384e-05 1.0\n",
      "0.29300000000000004 1.5384615384615384e-05 1.0\n",
      "0.29400000000000004 1.5384615384615384e-05 1.0\n",
      "0.29500000000000004 1.5384615384615384e-05 1.0\n",
      "0.29600000000000004 1.5384615384615384e-05 1.0\n",
      "0.29700000000000004 2.564102564102564e-05 3.0\n",
      "0.29800000000000004 2.564102564102564e-05 3.0\n",
      "0.29900000000000004 2.564102564102564e-05 3.0\n",
      "0.30000000000000004 3.076923076923077e-05 4.0\n",
      "0.30100000000000005 3.5897435897435896e-05 5.0\n",
      "0.30200000000000005 3.5897435897435896e-05 5.0\n",
      "0.30300000000000005 3.5897435897435896e-05 5.0\n",
      "0.30400000000000005 3.5897435897435896e-05 5.0\n",
      "0.30500000000000005 4.1025641025641023e-05 6.0\n",
      "0.30600000000000005 5.128205128205128e-05 7.0\n",
      "0.30700000000000005 6.153846153846154e-05 8.0\n",
      "0.30800000000000005 6.153846153846154e-05 8.0\n",
      "0.30900000000000005 7.692307692307693e-05 10.0\n",
      "0.31000000000000005 8.717948717948718e-05 11.0\n",
      "0.31100000000000005 9.23076923076923e-05 11.0\n",
      "0.31200000000000006 0.00010256410256410256 11.0\n",
      "0.31300000000000006 0.00011794871794871795 11.0\n",
      "0.31400000000000006 0.0001282051282051282 11.0\n",
      "0.31500000000000006 0.0001641025641025641 14.0\n",
      "0.31600000000000006 0.00018974358974358974 15.0\n",
      "0.31700000000000006 0.0002153846153846154 16.0\n",
      "0.31800000000000006 0.0003076923076923077 14.0\n",
      "0.31900000000000006 0.00035384615384615386 14.0\n",
      "0.32000000000000006 0.00045128205128205126 17.0\n",
      "0.32100000000000006 0.0005794871794871795 20.0\n",
      "0.32200000000000006 0.0007641025641025641 19.0\n",
      "0.32300000000000006 0.0009538461538461539 15.0\n",
      "0.32400000000000007 0.0013333333333333333 14.0\n",
      "0.32500000000000007 0.0016666666666666668 14.0\n",
      "0.32600000000000007 0.002148717948717949 10.0\n",
      "0.32700000000000007 0.002769230769230769 10.0\n",
      "0.32800000000000007 0.003728205128205128 8.0\n",
      "0.32900000000000007 0.004717948717948718 7.0\n",
      "0.33000000000000007 0.006138461538461539 4.0\n",
      "0.33100000000000007 0.007892307692307692 4.0\n",
      "0.3320000000000001 0.010317948717948718 3.0\n",
      "0.3330000000000001 0.013179487179487179 2.0\n",
      "0.3340000000000001 0.016692307692307694 1.0\n",
      "0.3350000000000001 0.02112307692307692 1.0\n",
      "0.3360000000000001 0.02691794871794872 1.0\n",
      "0.3370000000000001 0.0337948717948718 1.0\n",
      "0.3380000000000001 0.04194871794871795 1.0\n",
      "0.3390000000000001 0.05146153846153846 1.0\n"
     ]
    }
   ],
   "source": [
    "alp=np.arange(0.27,0.34,0.001)\n",
    "y1=alp.copy()\n",
    "y2=alp.copy()\n",
    "for i in np.arange(alp.size):\n",
    "    rez=extract_bb(G,alp[i])\n",
    "    y1[i]=rez[1]#fraction of remaining links\n",
    "    y2[i]=rez[2]#number of connected components  \n",
    "    print(alp[i], y1[i], y2[i])\n",
    "    "
   ]
  },
  {
   "cell_type": "code",
   "execution_count": 14,
   "metadata": {},
   "outputs": [
    {
     "data": {
      "text/plain": [
       "array([ 1.,  1.,  1.,  1.,  1.,  1.,  1.,  1.,  1.,  1.,  1.,  1.,  1.,\n",
       "        1.,  1.,  1.,  1.,  1.,  1.,  1.,  1.,  1.,  1.,  1.,  1.,  1.,\n",
       "        1.,  3.,  3.,  3.,  4.,  5.,  5.,  5.,  5.,  6.,  7.,  8.,  8.,\n",
       "       10., 11., 11., 11., 11., 11., 14., 15., 16., 14., 14., 17., 20.,\n",
       "       19., 15., 14., 14., 10., 10.,  8.,  7.,  4.,  4.,  3.,  2.,  1.,\n",
       "        1.,  1.,  1.,  1.,  1.])"
      ]
     },
     "execution_count": 14,
     "metadata": {},
     "output_type": "execute_result"
    }
   ],
   "source": [
    "y2\n",
    "\n",
    "\n"
   ]
  },
  {
   "cell_type": "code",
   "execution_count": 15,
   "metadata": {},
   "outputs": [
    {
     "data": {
      "text/plain": [
       "[<matplotlib.lines.Line2D at 0x134e5a090>]"
      ]
     },
     "execution_count": 15,
     "metadata": {},
     "output_type": "execute_result"
    },
    {
     "data": {
      "image/png": "[encoded data removed]",
      "text/plain": [
       "<Figure size 432x288 with 1 Axes>"
      ]
     },
     "metadata": {
      "needs_background": "light"
     },
     "output_type": "display_data"
    }
   ],
   "source": [
    "plt.plot(alp,y1)"
   ]
  },
  {
   "cell_type": "code",
   "execution_count": 16,
   "metadata": {},
   "outputs": [
    {
     "data": {
      "text/plain": [
       "[<matplotlib.lines.Line2D at 0x134d39ad0>]"
      ]
     },
     "execution_count": 16,
     "metadata": {},
     "output_type": "execute_result"
    },
    {
     "data": {
      "image/png": "[encoded data removed]",
      "text/plain": [
       "<Figure size 432x288 with 1 Axes>"
      ]
     },
     "metadata": {
      "needs_background": "light"
     },
     "output_type": "display_data"
    }
   ],
   "source": [
    "plt.plot(alp,y2)"
   ]
  },
  {
   "cell_type": "code",
   "execution_count": 17,
   "metadata": {},
   "outputs": [
    {
     "name": "stdout",
     "output_type": "stream",
     "text": [
      "there are: 126 nodes\n",
      "there are: 186 links\n"
     ]
    }
   ],
   "source": [
    "bb,dens,comp=extract_bb(G,0.323)\n",
    "print(\"there are:\", len(bb.nodes()), \"nodes\")\n",
    "print(\"there are:\", len(bb.edges()), \"links\")"
   ]
  },
  {
   "cell_type": "code",
   "execution_count": 18,
   "metadata": {},
   "outputs": [],
   "source": [
    "ww=open(\"data/cell_lines_corr-above0-5-0-323.net\",\"w\")\n",
    "ww.write(\"#SOURCE\\t#TARGET\\t#WEIGHT\\n\")\n",
    "Link_tab=nx.get_edge_attributes(bb,'weight')\n",
    "for i in bb.edges():\n",
    "    ww.write(str(i[0]+1)+\"\\t\"+str(i[1]+1)+\"\\t\"+str(Link_tab[i][\"weight\"])+\"\\n\")\n",
    "ww.close()\n"
   ]
  },
  {
   "cell_type": "code",
   "execution_count": 19,
   "metadata": {},
   "outputs": [],
   "source": [
    "info=open(\"data/cell_info.txt\",'r').read()\n",
    "info=info.split(\"\\n\")\n",
    "info.remove(\"\")\n",
    "header=info[0].split(\"\\t\")[0]+\"\\t\"+info[0].split(\"\\t\")[5]+\"\\t\"+info[0].split(\"\\t\")[37]#information related to DepMap_ID/Cancer_Type/Gender\n",
    "info.remove(info[0])\n",
    "dic={}\n",
    "for i in info:\n",
    "    tmp=i.split(\"\\t\")\n",
    "    dic[tmp[0]]=[tmp[5],tmp[-1]]\n",
    "for i in Cell:\n",
    "    if i not in dic.keys():\n",
    "        dic[i]=[\"NA\", \"NA\"]\n",
    "ww=open(\"data/cell_lines_corr-above0-5-0-323.nodes\",\"w\")\n",
    "ww.write(\"Node_ID\\t\"+header+\"\\n\")\n",
    "for i in sorted(list(bb.nodes())):\n",
    "    ww.write(str(i+1)+\"\\t\"+Cell[i]+\"\\t\"+dic[Cell[i]][0]+\"\\t\"+dic[Cell[i]][1]+\"\\n\")    \n",
    "ww.close()"
   ]
  },
  {
   "cell_type": "markdown",
   "metadata": {},
   "source": [
    "## Computing cancer_type-cancer_type links and node statistics"
   ]
  },
  {
   "cell_type": "code",
   "execution_count": 20,
   "metadata": {},
   "outputs": [],
   "source": [
    "net=open(\"data/cell_lines_corr-above0-5-0-323.net\",\"r\").read()\n",
    "net=net.split(\"\\n\")\n",
    "net.remove(\"\")\n",
    "net.remove(net[0])\n",
    "link_class={}\n",
    "Nl=len(net)\n",
    "C={}\n",
    "ww1=open(\"data/cell_lines_corr-above0-5-0-323.linkclass.dat\",\"w\")\n",
    "ww2=open(\"data/cell_lines_corr-above0-5-0-323.nodeclass.dat\",\"w\")\n",
    "for i in Cell:\n",
    "    for j in Cell:        \n",
    "        link_class[dic[i][0]+\":\"+dic[j][0]]=0\n",
    "        C[dic[i][0]]=0\n",
    "        C[dic[j][0]]=0\n",
    "LIST=[]\n",
    "for l in net:\n",
    "    tmp=l.split(\"\\t\")[0:2]\n",
    "    link_class[dic[Cell[int(tmp[0])-1]][0]+\":\"+dic[Cell[int(tmp[1])-1]][0]]+=1\n",
    "    if tmp[0] not in LIST:\n",
    "        C[dic[Cell[int(tmp[0])-1]][0]]+=1\n",
    "        LIST.append(tmp[0])\n",
    "    if tmp[1] not in LIST:\n",
    "        C[dic[Cell[int(tmp[1])-1]][0]]+=1\n",
    "        LIST.append(tmp[1])\n",
    "N=len(LIST)\n",
    "rez={}\n",
    "LIST=[]\n",
    "cncer=[]\n",
    "W=0\n",
    "for i in link_class.keys():\n",
    "    if i.split(\":\")[0] not in cncer:\n",
    "        cncer.append(i.split(\":\")[0])\n",
    "    if i.split(\":\")[1] not in cncer:\n",
    "        cncer.append(i.split(\":\")[1])\n",
    "    W+=link_class[i]\n",
    "for i in range(len(cncer)):\n",
    "    for j in range(i,len(cncer)):\n",
    "        I=cncer[i]\n",
    "        J=cncer[j]\n",
    "        LIST.append(I+\":\"+J)\n",
    "        if I!=J:\n",
    "            rez[I+\":\"+J]=link_class[I+\":\"+J]+link_class[J+\":\"+I]\n",
    "        if I==J:\n",
    "            rez[I+\":\"+J]=link_class[I+\":\"+J]\n",
    "link_class=[]\n",
    "link_class_name=[]\n",
    "for i in LIST:\n",
    "    if rez[i]>0:\n",
    "        z=0\n",
    "        link_class_name.append(i)\n",
    "        link_class.append(rez[i])\n",
    "tmp=sorted(range(len(link_class)), key=lambda k : link_class[k], reverse=True)\n",
    "ww1.write(\"#SOURCE\\t#TARGET\\t#LINK\\n\")\n",
    "for i in tmp:\n",
    "    ww1.write(link_class_name[i].replace(\":\",\"\\t\")+\"\\t\"+str(link_class[i])+\"\\n\")\n",
    "ww1.close()\n",
    "LIST=[[],[]]\n",
    "for i in C.keys():\n",
    "    if C[i]>0:        \n",
    "        LIST[0].append(i)\n",
    "        LIST[1].append(C[i])\n",
    "tmp=sorted(range(len(LIST[0])), key=lambda k : LIST[1][k], reverse=True)\n",
    "ww2.write(\"#CANCER\"+\"\\t\"+\"#OCCURANCE\"+\"\\n\")\n",
    "for i in tmp:\n",
    "    ww2.write(LIST[0][i]+\"\\t\"+str(LIST[1][i])+\"\\n\")\n",
    "ww2.close()\n"
   ]
  },
  {
   "cell_type": "markdown",
   "metadata": {},
   "source": [
    "## Homophiliness\n"
   ]
  },
  {
   "cell_type": "code",
   "execution_count": 21,
   "metadata": {},
   "outputs": [],
   "source": [
    "a=open(\"data/cell_lines_corr-above0-5-0-323.linkclass.dat\",\"r\").read()\n",
    "a=a.split(\"\\n\")\n",
    "a.remove(\"\")\n",
    "a.remove(a[0])\n",
    "b=open(\"data/cell_lines_corr-above0-5-0-323.nodeclass.dat\",\"r\").read()\n",
    "b=b.split(\"\\n\")\n",
    "b.remove(\"\")\n",
    "b.remove(b[0])\n",
    "HOM={}\n",
    "DIFF={}\n",
    "LINK=[]\n",
    "BAL={}\n",
    "ww=open(\"data/cell_lines_corr-above0-5-0-323.homophiliness\",\"w\")\n",
    "for i in a:\n",
    "    tmp=i.split(\"\\t\")\n",
    "    HOM[tmp[0]]=0\n",
    "    HOM[tmp[1]]=0\n",
    "    DIFF[tmp[0]]=0\n",
    "    DIFF[tmp[1]]=0\n",
    "for i in a:\n",
    "    tmp=i.split(\"\\t\")\n",
    "    if tmp[0] != tmp[1]:\n",
    "        DIFF[tmp[0]]+=int(tmp[2])\n",
    "        DIFF[tmp[1]]+=int(tmp[2])\n",
    "    else:\n",
    "        HOM[tmp[0]]=int(tmp[2])\n",
    "LIST=[[],[]]\n",
    "for i in a:\n",
    "    tmp=i.split(\"\\t\")\n",
    "    BAL[tmp[0]]=(1.0*(HOM[tmp[0]]-DIFF[tmp[0]]))/(1.0*(HOM[tmp[0]]+DIFF[tmp[0]]))\n",
    "    if tmp[0] not in LIST[0]:\n",
    "        LIST[0].append(tmp[0])\n",
    "        LIST[1].append(BAL[tmp[0]])\n",
    "    BAL[tmp[1]]=(1.0*(HOM[tmp[1]]-DIFF[tmp[1]]))/(1.0*(HOM[tmp[1]]+DIFF[tmp[1]]))\n",
    "    if tmp[1] not in LIST[0]:\n",
    "        LIST[0].append(tmp[1])\n",
    "        LIST[1].append(BAL[tmp[1]])\n",
    "C={}\n",
    "for i in b:\n",
    "    tmp=i.split(\"\\t\")\n",
    "    C[tmp[0]]=tmp[1]\n",
    "tmp=sorted(range(len(LIST[0])), key=lambda k : LIST[1][k], reverse=True)\n",
    "ww.write(\"#CANCER\"+\"\\t\"+\"#HOMOPHILINESS\"+\"\\t\"+\"#NODE_OCCURANCE\"+\"\\n\")\n",
    "for i in tmp:\n",
    "    ww.write(LIST[0][i]+\"\\t\"+str(LIST[1][i])+\"\\t\"+C[LIST[0][i]]+\"\\n\")\n",
    "ww.close()"
   ]
  },
  {
   "cell_type": "code",
   "execution_count": 22,
   "metadata": {},
   "outputs": [
    {
     "data": {
      "text/html": [
       "<div>\n",
       "<style scoped>\n",
       "    .dataframe tbody tr th:only-of-type {\n",
       "        vertical-align: middle;\n",
       "    }\n",
       "\n",
       "    .dataframe tbody tr th {\n",
       "        vertical-align: top;\n",
       "    }\n",
       "\n",
       "    .dataframe thead th {\n",
       "        text-align: right;\n",
       "    }\n",
       "</style>\n",
       "<table border=\"1\" class=\"dataframe\">\n",
       "  <thead>\n",
       "    <tr style=\"text-align: right;\">\n",
       "      <th></th>\n",
       "    </tr>\n",
       "  </thead>\n",
       "  <tbody>\n",
       "  </tbody>\n",
       "</table>\n",
       "</div>"
      ],
      "text/plain": [
       "Empty DataFrame\n",
       "Columns: []\n",
       "Index: []"
      ]
     },
     "execution_count": 22,
     "metadata": {},
     "output_type": "execute_result"
    }
   ],
   "source": [
    "pd.DataFrame()"
   ]
  },
  {
   "cell_type": "code",
   "execution_count": 23,
   "metadata": {},
   "outputs": [
    {
     "data": {
      "text/html": [
       "<div>\n",
       "<style scoped>\n",
       "    .dataframe tbody tr th:only-of-type {\n",
       "        vertical-align: middle;\n",
       "    }\n",
       "\n",
       "    .dataframe tbody tr th {\n",
       "        vertical-align: top;\n",
       "    }\n",
       "\n",
       "    .dataframe thead th {\n",
       "        text-align: right;\n",
       "    }\n",
       "</style>\n",
       "<table border=\"1\" class=\"dataframe\">\n",
       "  <thead>\n",
       "    <tr style=\"text-align: right;\">\n",
       "      <th></th>\n",
       "      <th>#CANCER</th>\n",
       "      <th>Homophiliness</th>\n",
       "      <th>Number of Cell Lines</th>\n",
       "    </tr>\n",
       "  </thead>\n",
       "  <tbody>\n",
       "    <tr>\n",
       "      <th>0</th>\n",
       "      <td>Kidney Cancer</td>\n",
       "      <td>1.000000</td>\n",
       "      <td>4</td>\n",
       "    </tr>\n",
       "    <tr>\n",
       "      <th>1</th>\n",
       "      <td>Leukemia</td>\n",
       "      <td>0.875000</td>\n",
       "      <td>15</td>\n",
       "    </tr>\n",
       "    <tr>\n",
       "      <th>2</th>\n",
       "      <td>Head and Neck Cancer</td>\n",
       "      <td>0.200000</td>\n",
       "      <td>6</td>\n",
       "    </tr>\n",
       "    <tr>\n",
       "      <th>3</th>\n",
       "      <td>Lymphoma</td>\n",
       "      <td>0.000000</td>\n",
       "      <td>5</td>\n",
       "    </tr>\n",
       "    <tr>\n",
       "      <th>4</th>\n",
       "      <td>Neuroblastoma</td>\n",
       "      <td>-0.157895</td>\n",
       "      <td>7</td>\n",
       "    </tr>\n",
       "  </tbody>\n",
       "</table>\n",
       "</div>"
      ],
      "text/plain": [
       "                #CANCER  Homophiliness  Number of Cell Lines\n",
       "0         Kidney Cancer       1.000000                     4\n",
       "1              Leukemia       0.875000                    15\n",
       "2  Head and Neck Cancer       0.200000                     6\n",
       "3              Lymphoma       0.000000                     5\n",
       "4         Neuroblastoma      -0.157895                     7"
      ]
     },
     "execution_count": 23,
     "metadata": {},
     "output_type": "execute_result"
    }
   ],
   "source": [
    "cdata = pd.read_csv(\"data/cell_lines_corr-above0-5-0-323.homophiliness\",sep=\"\\t\")\n",
    "cdata=cdata.rename(columns={'#HOMOPHILINESS':'Homophiliness', '#NODE_OCCURANCE':'Number of Cell Lines'})\n",
    "cdata.head(5)"
   ]
  },
  {
   "cell_type": "code",
   "execution_count": 25,
   "metadata": {},
   "outputs": [
    {
     "data": {
      "application/vnd.plotly.v1+json": {
       "config": {
        "plotlyServerURL": "https://plot.ly"
       },
       "data": [
        {
         "hoverlabel": {
          "namelength": 0
         },
         "hovertemplate": "Number of Cell Lines=%{x}<br>Homophiliness=%{y}<br>#CANCER=%{text}",
         "legendgroup": "",
         "marker": {
          "color": "#636efa",
          "size": 12,
          "symbol": "circle"
         },
         "mode": "markers+text",
         "name": "",
         "showlegend": false,
         "text": [
          "Kidney Cancer",
          "Leukemia",
          "Head and Neck Cancer",
          "Lymphoma",
          "Neuroblastoma",
          "Pancreatic Cancer",
          "Breast Cancer",
          "Esophageal Cancer",
          "Lung Cancer",
          "Ovarian Cancer",
          "Sarcoma",
          "Skin Cancer",
          "Brain Cancer",
          "Colon/Colorectal Cancer",
          "Endometrial/Uterine Cancer",
          "Eye Cancer",
          "Rhabdoid",
          "Bladder Cancer",
          "Bone Cancer",
          "Liver Cancer"
         ],
         "textposition": "top center",
         "type": "scatter",
         "x": [
          4,
          15,
          6,
          5,
          7,
          16,
          8,
          5,
          21,
          10,
          6,
          4,
          5,
          2,
          3,
          2,
          2,
          3,
          1,
          1
         ],
         "xaxis": "x",
         "y": [
          1,
          0.875,
          0.2,
          0,
          -0.15789473684210525,
          -0.1868131868131868,
          -0.3333333333333333,
          -0.42857142857142855,
          -0.5862068965517241,
          -0.6153846153846154,
          -0.7142857142857143,
          -0.7142857142857143,
          -1,
          -1,
          -1,
          -1,
          -1,
          -1,
          -1,
          -1
         ],
         "yaxis": "y"
        }
       ],
       "layout": {
        "legend": {
         "tracegroupgap": 0
        },
        "margin": {
         "t": 60
        },
        "template": {
         "data": {
          "bar": [
           {
            "error_x": {
             "color": "#2a3f5f"
            },
            "error_y": {
             "color": "#2a3f5f"
            },
            "marker": {
             "line": {
              "color": "white",
              "width": 0.5
             }
            },
            "type": "bar"
           }
          ],
          "barpolar": [
           {
            "marker": {
             "line": {
              "color": "white",
              "width": 0.5
             }
            },
            "type": "barpolar"
           }
          ],
          "carpet": [
           {
            "aaxis": {
             "endlinecolor": "#2a3f5f",
             "gridcolor": "#C8D4E3",
             "linecolor": "#C8D4E3",
             "minorgridcolor": "#C8D4E3",
             "startlinecolor": "#2a3f5f"
            },
            "baxis": {
             "endlinecolor": "#2a3f5f",
             "gridcolor": "#C8D4E3",
             "linecolor": "#C8D4E3",
             "minorgridcolor": "#C8D4E3",
             "startlinecolor": "#2a3f5f"
            },
            "type": "carpet"
           }
          ],
          "choropleth": [
           {
            "colorbar": {
             "outlinewidth": 0,
             "ticks": ""
            },
            "type": "choropleth"
           }
          ],
          "contour": [
           {
            "colorbar": {
             "outlinewidth": 0,
             "ticks": ""
            },
            "colorscale": [
             [
              0,
              "#0d0887"
             ],
             [
              0.1111111111111111,
              "#46039f"
             ],
             [
              0.2222222222222222,
              "#7201a8"
             ],
             [
              0.3333333333333333,
              "#9c179e"
             ],
             [
              0.4444444444444444,
              "#bd3786"
             ],
             [
              0.5555555555555556,
              "#d8576b"
             ],
             [
              0.6666666666666666,
              "#ed7953"
             ],
             [
              0.7777777777777778,
              "#fb9f3a"
             ],
             [
              0.8888888888888888,
              "#fdca26"
             ],
             [
              1,
              "#f0f921"
             ]
            ],
            "type": "contour"
           }
          ],
          "contourcarpet": [
           {
            "colorbar": {
             "outlinewidth": 0,
             "ticks": ""
            },
            "type": "contourcarpet"
           }
          ],
          "heatmap": [
           {
            "colorbar": {
             "outlinewidth": 0,
             "ticks": ""
            },
            "colorscale": [
             [
              0,
              "#0d0887"
             ],
             [
              0.1111111111111111,
              "#46039f"
             ],
             [
              0.2222222222222222,
              "#7201a8"
             ],
             [
              0.3333333333333333,
              "#9c179e"
             ],
             [
              0.4444444444444444,
              "#bd3786"
             ],
             [
              0.5555555555555556,
              "#d8576b"
             ],
             [
              0.6666666666666666,
              "#ed7953"
             ],
             [
              0.7777777777777778,
              "#fb9f3a"
             ],
             [
              0.8888888888888888,
              "#fdca26"
             ],
             [
              1,
              "#f0f921"
             ]
            ],
            "type": "heatmap"
           }
          ],
          "heatmapgl": [
           {
            "colorbar": {
             "outlinewidth": 0,
             "ticks": ""
            },
            "colorscale": [
             [
              0,
              "#0d0887"
             ],
             [
              0.1111111111111111,
              "#46039f"
             ],
             [
              0.2222222222222222,
              "#7201a8"
             ],
             [
              0.3333333333333333,
              "#9c179e"
             ],
             [
              0.4444444444444444,
              "#bd3786"
             ],
             [
              0.5555555555555556,
              "#d8576b"
             ],
             [
              0.6666666666666666,
              "#ed7953"
             ],
             [
              0.7777777777777778,
              "#fb9f3a"
             ],
             [
              0.8888888888888888,
              "#fdca26"
             ],
             [
              1,
              "#f0f921"
             ]
            ],
            "type": "heatmapgl"
           }
          ],
          "histogram": [
           {
            "marker": {
             "colorbar": {
              "outlinewidth": 0,
              "ticks": ""
             }
            },
            "type": "histogram"
           }
          ],
          "histogram2d": [
           {
            "colorbar": {
             "outlinewidth": 0,
             "ticks": ""
            },
            "colorscale": [
             [
              0,
              "#0d0887"
             ],
             [
              0.1111111111111111,
              "#46039f"
             ],
             [
              0.2222222222222222,
              "#7201a8"
             ],
             [
              0.3333333333333333,
              "#9c179e"
             ],
             [
              0.4444444444444444,
              "#bd3786"
             ],
             [
              0.5555555555555556,
              "#d8576b"
             ],
             [
              0.6666666666666666,
              "#ed7953"
             ],
             [
              0.7777777777777778,
              "#fb9f3a"
             ],
             [
              0.8888888888888888,
              "#fdca26"
             ],
             [
              1,
              "#f0f921"
             ]
            ],
            "type": "histogram2d"
           }
          ],
          "histogram2dcontour": [
           {
            "colorbar": {
             "outlinewidth": 0,
             "ticks": ""
            },
            "colorscale": [
             [
              0,
              "#0d0887"
             ],
             [
              0.1111111111111111,
              "#46039f"
             ],
             [
              0.2222222222222222,
              "#7201a8"
             ],
             [
              0.3333333333333333,
              "#9c179e"
             ],
             [
              0.4444444444444444,
              "#bd3786"
             ],
             [
              0.5555555555555556,
              "#d8576b"
             ],
             [
              0.6666666666666666,
              "#ed7953"
             ],
             [
              0.7777777777777778,
              "#fb9f3a"
             ],
             [
              0.8888888888888888,
              "#fdca26"
             ],
             [
              1,
              "#f0f921"
             ]
            ],
            "type": "histogram2dcontour"
           }
          ],
          "mesh3d": [
           {
            "colorbar": {
             "outlinewidth": 0,
             "ticks": ""
            },
            "type": "mesh3d"
           }
          ],
          "parcoords": [
           {
            "line": {
             "colorbar": {
              "outlinewidth": 0,
              "ticks": ""
             }
            },
            "type": "parcoords"
           }
          ],
          "pie": [
           {
            "automargin": true,
            "type": "pie"
           }
          ],
          "scatter": [
           {
            "marker": {
             "colorbar": {
              "outlinewidth": 0,
              "ticks": ""
             }
            },
            "type": "scatter"
           }
          ],
          "scatter3d": [
           {
            "line": {
             "colorbar": {
              "outlinewidth": 0,
              "ticks": ""
             }
            },
            "marker": {
             "colorbar": {
              "outlinewidth": 0,
              "ticks": ""
             }
            },
            "type": "scatter3d"
           }
          ],
          "scattercarpet": [
           {
            "marker": {
             "colorbar": {
              "outlinewidth": 0,
              "ticks": ""
             }
            },
            "type": "scattercarpet"
           }
          ],
          "scattergeo": [
           {
            "marker": {
             "colorbar": {
              "outlinewidth": 0,
              "ticks": ""
             }
            },
            "type": "scattergeo"
           }
          ],
          "scattergl": [
           {
            "marker": {
             "colorbar": {
              "outlinewidth": 0,
              "ticks": ""
             }
            },
            "type": "scattergl"
           }
          ],
          "scattermapbox": [
           {
            "marker": {
             "colorbar": {
              "outlinewidth": 0,
              "ticks": ""
             }
            },
            "type": "scattermapbox"
           }
          ],
          "scatterpolar": [
           {
            "marker": {
             "colorbar": {
              "outlinewidth": 0,
              "ticks": ""
             }
            },
            "type": "scatterpolar"
           }
          ],
          "scatterpolargl": [
           {
            "marker": {
             "colorbar": {
              "outlinewidth": 0,
              "ticks": ""
             }
            },
            "type": "scatterpolargl"
           }
          ],
          "scatterternary": [
           {
            "marker": {
             "colorbar": {
              "outlinewidth": 0,
              "ticks": ""
             }
            },
            "type": "scatterternary"
           }
          ],
          "surface": [
           {
            "colorbar": {
             "outlinewidth": 0,
             "ticks": ""
            },
            "colorscale": [
             [
              0,
              "#0d0887"
             ],
             [
              0.1111111111111111,
              "#46039f"
             ],
             [
              0.2222222222222222,
              "#7201a8"
             ],
             [
              0.3333333333333333,
              "#9c179e"
             ],
             [
              0.4444444444444444,
              "#bd3786"
             ],
             [
              0.5555555555555556,
              "#d8576b"
             ],
             [
              0.6666666666666666,
              "#ed7953"
             ],
             [
              0.7777777777777778,
              "#fb9f3a"
             ],
             [
              0.8888888888888888,
              "#fdca26"
             ],
             [
              1,
              "#f0f921"
             ]
            ],
            "type": "surface"
           }
          ],
          "table": [
           {
            "cells": {
             "fill": {
              "color": "#EBF0F8"
             },
             "line": {
              "color": "white"
             }
            },
            "header": {
             "fill": {
              "color": "#C8D4E3"
             },
             "line": {
              "color": "white"
             }
            },
            "type": "table"
           }
          ]
         },
         "layout": {
          "annotationdefaults": {
           "arrowcolor": "#2a3f5f",
           "arrowhead": 0,
           "arrowwidth": 1
          },
          "coloraxis": {
           "colorbar": {
            "outlinewidth": 0,
            "ticks": ""
           }
          },
          "colorscale": {
           "diverging": [
            [
             0,
             "#8e0152"
            ],
            [
             0.1,
             "#c51b7d"
            ],
            [
             0.2,
             "#de77ae"
            ],
            [
             0.3,
             "#f1b6da"
            ],
            [
             0.4,
             "#fde0ef"
            ],
            [
             0.5,
             "#f7f7f7"
            ],
            [
             0.6,
             "#e6f5d0"
            ],
            [
             0.7,
             "#b8e186"
            ],
            [
             0.8,
             "#7fbc41"
            ],
            [
             0.9,
             "#4d9221"
            ],
            [
             1,
             "#276419"
            ]
           ],
           "sequential": [
            [
             0,
             "#0d0887"
            ],
            [
             0.1111111111111111,
             "#46039f"
            ],
            [
             0.2222222222222222,
             "#7201a8"
            ],
            [
             0.3333333333333333,
             "#9c179e"
            ],
            [
             0.4444444444444444,
             "#bd3786"
            ],
            [
             0.5555555555555556,
             "#d8576b"
            ],
            [
             0.6666666666666666,
             "#ed7953"
            ],
            [
             0.7777777777777778,
             "#fb9f3a"
            ],
            [
             0.8888888888888888,
             "#fdca26"
            ],
            [
             1,
             "#f0f921"
            ]
           ],
           "sequentialminus": [
            [
             0,
             "#0d0887"
            ],
            [
             0.1111111111111111,
             "#46039f"
            ],
            [
             0.2222222222222222,
             "#7201a8"
            ],
            [
             0.3333333333333333,
             "#9c179e"
            ],
            [
             0.4444444444444444,
             "#bd3786"
            ],
            [
             0.5555555555555556,
             "#d8576b"
            ],
            [
             0.6666666666666666,
             "#ed7953"
            ],
            [
             0.7777777777777778,
             "#fb9f3a"
            ],
            [
             0.8888888888888888,
             "#fdca26"
            ],
            [
             1,
             "#f0f921"
            ]
           ]
          },
          "colorway": [
           "#636efa",
           "#EF553B",
           "#00cc96",
           "#ab63fa",
           "#FFA15A",
           "#19d3f3",
           "#FF6692",
           "#B6E880",
           "#FF97FF",
           "#FECB52"
          ],
          "font": {
           "color": "#2a3f5f"
          },
          "geo": {
           "bgcolor": "white",
           "lakecolor": "white",
           "landcolor": "white",
           "showlakes": true,
           "showland": true,
           "subunitcolor": "#C8D4E3"
          },
          "hoverlabel": {
           "align": "left"
          },
          "hovermode": "closest",
          "mapbox": {
           "style": "light"
          },
          "paper_bgcolor": "white",
          "plot_bgcolor": "white",
          "polar": {
           "angularaxis": {
            "gridcolor": "#EBF0F8",
            "linecolor": "#EBF0F8",
            "ticks": ""
           },
           "bgcolor": "white",
           "radialaxis": {
            "gridcolor": "#EBF0F8",
            "linecolor": "#EBF0F8",
            "ticks": ""
           }
          },
          "scene": {
           "xaxis": {
            "backgroundcolor": "white",
            "gridcolor": "#DFE8F3",
            "gridwidth": 2,
            "linecolor": "#EBF0F8",
            "showbackground": true,
            "ticks": "",
            "zerolinecolor": "#EBF0F8"
           },
           "yaxis": {
            "backgroundcolor": "white",
            "gridcolor": "#DFE8F3",
            "gridwidth": 2,
            "linecolor": "#EBF0F8",
            "showbackground": true,
            "ticks": "",
            "zerolinecolor": "#EBF0F8"
           },
           "zaxis": {
            "backgroundcolor": "white",
            "gridcolor": "#DFE8F3",
            "gridwidth": 2,
            "linecolor": "#EBF0F8",
            "showbackground": true,
            "ticks": "",
            "zerolinecolor": "#EBF0F8"
           }
          },
          "shapedefaults": {
           "line": {
            "color": "#2a3f5f"
           }
          },
          "ternary": {
           "aaxis": {
            "gridcolor": "#DFE8F3",
            "linecolor": "#A2B1C6",
            "ticks": ""
           },
           "baxis": {
            "gridcolor": "#DFE8F3",
            "linecolor": "#A2B1C6",
            "ticks": ""
           },
           "bgcolor": "white",
           "caxis": {
            "gridcolor": "#DFE8F3",
            "linecolor": "#A2B1C6",
            "ticks": ""
           }
          },
          "title": {
           "x": 0.05
          },
          "xaxis": {
           "automargin": true,
           "gridcolor": "#EBF0F8",
           "linecolor": "#EBF0F8",
           "ticks": "",
           "title": {
            "standoff": 15
           },
           "zerolinecolor": "#EBF0F8",
           "zerolinewidth": 2
          },
          "yaxis": {
           "automargin": true,
           "gridcolor": "#EBF0F8",
           "linecolor": "#EBF0F8",
           "ticks": "",
           "title": {
            "standoff": 15
           },
           "zerolinecolor": "#EBF0F8",
           "zerolinewidth": 2
          }
         }
        },
        "xaxis": {
         "anchor": "y",
         "domain": [
          0,
          1
         ],
         "title": {
          "text": "Number of Cell Lines"
         }
        },
        "yaxis": {
         "anchor": "x",
         "domain": [
          0,
          1
         ],
         "title": {
          "text": "Homophiliness"
         }
        }
       }
      },
      "text/html": [
       "<div>\n",
       "        \n",
       "        \n",
       "            <div id=\"3fa224cf-639d-426a-b847-535a817e994d\" class=\"plotly-graph-div\" style=\"height:525px; width:100%;\"></div>\n",
       "            <script type=\"text/javascript\">\n",
       "                require([\"plotly\"], function(Plotly) {\n",
       "                    window.PLOTLYENV=window.PLOTLYENV || {};\n",
       "                    \n",
       "                if (document.getElementById(\"3fa224cf-639d-426a-b847-535a817e994d\")) {\n",
       "                    Plotly.newPlot(\n",
       "                        '3fa224cf-639d-426a-b847-535a817e994d',\n",
       "                        [{\"hoverlabel\": {\"namelength\": 0}, \"hovertemplate\": \"Number of Cell Lines=%{x}<br>Homophiliness=%{y}<br>#CANCER=%{text}\", \"legendgroup\": \"\", \"marker\": {\"color\": \"#636efa\", \"size\": 12, \"symbol\": \"circle\"}, \"mode\": \"markers+text\", \"name\": \"\", \"showlegend\": false, \"text\": [\"Kidney Cancer\", \"Leukemia\", \"Head and Neck Cancer\", \"Lymphoma\", \"Neuroblastoma\", \"Pancreatic Cancer\", \"Breast Cancer\", \"Esophageal Cancer\", \"Lung Cancer\", \"Ovarian Cancer\", \"Sarcoma\", \"Skin Cancer\", \"Brain Cancer\", \"Colon/Colorectal Cancer\", \"Endometrial/Uterine Cancer\", \"Eye Cancer\", \"Rhabdoid\", \"Bladder Cancer\", \"Bone Cancer\", \"Liver Cancer\"], \"textposition\": \"top center\", \"type\": \"scatter\", \"x\": [4, 15, 6, 5, 7, 16, 8, 5, 21, 10, 6, 4, 5, 2, 3, 2, 2, 3, 1, 1], \"xaxis\": \"x\", \"y\": [1.0, 0.875, 0.2, 0.0, -0.15789473684210525, -0.1868131868131868, -0.3333333333333333, -0.42857142857142855, -0.5862068965517241, -0.6153846153846154, -0.7142857142857143, -0.7142857142857143, -1.0, -1.0, -1.0, -1.0, -1.0, -1.0, -1.0, -1.0], \"yaxis\": \"y\"}],\n",
       "                        {\"legend\": {\"tracegroupgap\": 0}, \"margin\": {\"t\": 60}, \"template\": {\"data\": {\"bar\": [{\"error_x\": {\"color\": \"#2a3f5f\"}, \"error_y\": {\"color\": \"#2a3f5f\"}, \"marker\": {\"line\": {\"color\": \"white\", \"width\": 0.5}}, \"type\": \"bar\"}], \"barpolar\": [{\"marker\": {\"line\": {\"color\": \"white\", \"width\": 0.5}}, \"type\": \"barpolar\"}], \"carpet\": [{\"aaxis\": {\"endlinecolor\": \"#2a3f5f\", \"gridcolor\": \"#C8D4E3\", \"linecolor\": \"#C8D4E3\", \"minorgridcolor\": \"#C8D4E3\", \"startlinecolor\": \"#2a3f5f\"}, \"baxis\": {\"endlinecolor\": \"#2a3f5f\", \"gridcolor\": \"#C8D4E3\", \"linecolor\": \"#C8D4E3\", \"minorgridcolor\": \"#C8D4E3\", \"startlinecolor\": \"#2a3f5f\"}, \"type\": \"carpet\"}], \"choropleth\": [{\"colorbar\": {\"outlinewidth\": 0, \"ticks\": \"\"}, \"type\": \"choropleth\"}], \"contour\": [{\"colorbar\": {\"outlinewidth\": 0, \"ticks\": \"\"}, \"colorscale\": [[0.0, \"#0d0887\"], [0.1111111111111111, \"#46039f\"], [0.2222222222222222, \"#7201a8\"], [0.3333333333333333, \"#9c179e\"], [0.4444444444444444, \"#bd3786\"], [0.5555555555555556, \"#d8576b\"], [0.6666666666666666, \"#ed7953\"], [0.7777777777777778, \"#fb9f3a\"], [0.8888888888888888, \"#fdca26\"], [1.0, \"#f0f921\"]], \"type\": \"contour\"}], \"contourcarpet\": [{\"colorbar\": {\"outlinewidth\": 0, \"ticks\": \"\"}, \"type\": \"contourcarpet\"}], \"heatmap\": [{\"colorbar\": {\"outlinewidth\": 0, \"ticks\": \"\"}, \"colorscale\": [[0.0, \"#0d0887\"], [0.1111111111111111, \"#46039f\"], [0.2222222222222222, \"#7201a8\"], [0.3333333333333333, \"#9c179e\"], [0.4444444444444444, \"#bd3786\"], [0.5555555555555556, \"#d8576b\"], [0.6666666666666666, \"#ed7953\"], [0.7777777777777778, \"#fb9f3a\"], [0.8888888888888888, \"#fdca26\"], [1.0, \"#f0f921\"]], \"type\": \"heatmap\"}], \"heatmapgl\": [{\"colorbar\": {\"outlinewidth\": 0, \"ticks\": \"\"}, \"colorscale\": [[0.0, \"#0d0887\"], [0.1111111111111111, \"#46039f\"], [0.2222222222222222, \"#7201a8\"], [0.3333333333333333, \"#9c179e\"], [0.4444444444444444, \"#bd3786\"], [0.5555555555555556, \"#d8576b\"], [0.6666666666666666, \"#ed7953\"], [0.7777777777777778, \"#fb9f3a\"], [0.8888888888888888, \"#fdca26\"], [1.0, \"#f0f921\"]], \"type\": \"heatmapgl\"}], \"histogram\": [{\"marker\": {\"colorbar\": {\"outlinewidth\": 0, \"ticks\": \"\"}}, \"type\": \"histogram\"}], \"histogram2d\": [{\"colorbar\": {\"outlinewidth\": 0, \"ticks\": \"\"}, \"colorscale\": [[0.0, \"#0d0887\"], [0.1111111111111111, \"#46039f\"], [0.2222222222222222, \"#7201a8\"], [0.3333333333333333, \"#9c179e\"], [0.4444444444444444, \"#bd3786\"], [0.5555555555555556, \"#d8576b\"], [0.6666666666666666, \"#ed7953\"], [0.7777777777777778, \"#fb9f3a\"], [0.8888888888888888, \"#fdca26\"], [1.0, \"#f0f921\"]], \"type\": \"histogram2d\"}], \"histogram2dcontour\": [{\"colorbar\": {\"outlinewidth\": 0, \"ticks\": \"\"}, \"colorscale\": [[0.0, \"#0d0887\"], [0.1111111111111111, \"#46039f\"], [0.2222222222222222, \"#7201a8\"], [0.3333333333333333, \"#9c179e\"], [0.4444444444444444, \"#bd3786\"], [0.5555555555555556, \"#d8576b\"], [0.6666666666666666, \"#ed7953\"], [0.7777777777777778, \"#fb9f3a\"], [0.8888888888888888, \"#fdca26\"], [1.0, \"#f0f921\"]], \"type\": \"histogram2dcontour\"}], \"mesh3d\": [{\"colorbar\": {\"outlinewidth\": 0, \"ticks\": \"\"}, \"type\": \"mesh3d\"}], \"parcoords\": [{\"line\": {\"colorbar\": {\"outlinewidth\": 0, \"ticks\": \"\"}}, \"type\": \"parcoords\"}], \"pie\": [{\"automargin\": true, \"type\": \"pie\"}], \"scatter\": [{\"marker\": {\"colorbar\": {\"outlinewidth\": 0, \"ticks\": \"\"}}, \"type\": \"scatter\"}], \"scatter3d\": [{\"line\": {\"colorbar\": {\"outlinewidth\": 0, \"ticks\": \"\"}}, \"marker\": {\"colorbar\": {\"outlinewidth\": 0, \"ticks\": \"\"}}, \"type\": \"scatter3d\"}], \"scattercarpet\": [{\"marker\": {\"colorbar\": {\"outlinewidth\": 0, \"ticks\": \"\"}}, \"type\": \"scattercarpet\"}], \"scattergeo\": [{\"marker\": {\"colorbar\": {\"outlinewidth\": 0, \"ticks\": \"\"}}, \"type\": \"scattergeo\"}], \"scattergl\": [{\"marker\": {\"colorbar\": {\"outlinewidth\": 0, \"ticks\": \"\"}}, \"type\": \"scattergl\"}], \"scattermapbox\": [{\"marker\": {\"colorbar\": {\"outlinewidth\": 0, \"ticks\": \"\"}}, \"type\": \"scattermapbox\"}], \"scatterpolar\": [{\"marker\": {\"colorbar\": {\"outlinewidth\": 0, \"ticks\": \"\"}}, \"type\": \"scatterpolar\"}], \"scatterpolargl\": [{\"marker\": {\"colorbar\": {\"outlinewidth\": 0, \"ticks\": \"\"}}, \"type\": \"scatterpolargl\"}], \"scatterternary\": [{\"marker\": {\"colorbar\": {\"outlinewidth\": 0, \"ticks\": \"\"}}, \"type\": \"scatterternary\"}], \"surface\": [{\"colorbar\": {\"outlinewidth\": 0, \"ticks\": \"\"}, \"colorscale\": [[0.0, \"#0d0887\"], [0.1111111111111111, \"#46039f\"], [0.2222222222222222, \"#7201a8\"], [0.3333333333333333, \"#9c179e\"], [0.4444444444444444, \"#bd3786\"], [0.5555555555555556, \"#d8576b\"], [0.6666666666666666, \"#ed7953\"], [0.7777777777777778, \"#fb9f3a\"], [0.8888888888888888, \"#fdca26\"], [1.0, \"#f0f921\"]], \"type\": \"surface\"}], \"table\": [{\"cells\": {\"fill\": {\"color\": \"#EBF0F8\"}, \"line\": {\"color\": \"white\"}}, \"header\": {\"fill\": {\"color\": \"#C8D4E3\"}, \"line\": {\"color\": \"white\"}}, \"type\": \"table\"}]}, \"layout\": {\"annotationdefaults\": {\"arrowcolor\": \"#2a3f5f\", \"arrowhead\": 0, \"arrowwidth\": 1}, \"coloraxis\": {\"colorbar\": {\"outlinewidth\": 0, \"ticks\": \"\"}}, \"colorscale\": {\"diverging\": [[0, \"#8e0152\"], [0.1, \"#c51b7d\"], [0.2, \"#de77ae\"], [0.3, \"#f1b6da\"], [0.4, \"#fde0ef\"], [0.5, \"#f7f7f7\"], [0.6, \"#e6f5d0\"], [0.7, \"#b8e186\"], [0.8, \"#7fbc41\"], [0.9, \"#4d9221\"], [1, \"#276419\"]], \"sequential\": [[0.0, \"#0d0887\"], [0.1111111111111111, \"#46039f\"], [0.2222222222222222, \"#7201a8\"], [0.3333333333333333, \"#9c179e\"], [0.4444444444444444, \"#bd3786\"], [0.5555555555555556, \"#d8576b\"], [0.6666666666666666, \"#ed7953\"], [0.7777777777777778, \"#fb9f3a\"], [0.8888888888888888, \"#fdca26\"], [1.0, \"#f0f921\"]], \"sequentialminus\": [[0.0, \"#0d0887\"], [0.1111111111111111, \"#46039f\"], [0.2222222222222222, \"#7201a8\"], [0.3333333333333333, \"#9c179e\"], [0.4444444444444444, \"#bd3786\"], [0.5555555555555556, \"#d8576b\"], [0.6666666666666666, \"#ed7953\"], [0.7777777777777778, \"#fb9f3a\"], [0.8888888888888888, \"#fdca26\"], [1.0, \"#f0f921\"]]}, \"colorway\": [\"#636efa\", \"#EF553B\", \"#00cc96\", \"#ab63fa\", \"#FFA15A\", \"#19d3f3\", \"#FF6692\", \"#B6E880\", \"#FF97FF\", \"#FECB52\"], \"font\": {\"color\": \"#2a3f5f\"}, \"geo\": {\"bgcolor\": \"white\", \"lakecolor\": \"white\", \"landcolor\": \"white\", \"showlakes\": true, \"showland\": true, \"subunitcolor\": \"#C8D4E3\"}, \"hoverlabel\": {\"align\": \"left\"}, \"hovermode\": \"closest\", \"mapbox\": {\"style\": \"light\"}, \"paper_bgcolor\": \"white\", \"plot_bgcolor\": \"white\", \"polar\": {\"angularaxis\": {\"gridcolor\": \"#EBF0F8\", \"linecolor\": \"#EBF0F8\", \"ticks\": \"\"}, \"bgcolor\": \"white\", \"radialaxis\": {\"gridcolor\": \"#EBF0F8\", \"linecolor\": \"#EBF0F8\", \"ticks\": \"\"}}, \"scene\": {\"xaxis\": {\"backgroundcolor\": \"white\", \"gridcolor\": \"#DFE8F3\", \"gridwidth\": 2, \"linecolor\": \"#EBF0F8\", \"showbackground\": true, \"ticks\": \"\", \"zerolinecolor\": \"#EBF0F8\"}, \"yaxis\": {\"backgroundcolor\": \"white\", \"gridcolor\": \"#DFE8F3\", \"gridwidth\": 2, \"linecolor\": \"#EBF0F8\", \"showbackground\": true, \"ticks\": \"\", \"zerolinecolor\": \"#EBF0F8\"}, \"zaxis\": {\"backgroundcolor\": \"white\", \"gridcolor\": \"#DFE8F3\", \"gridwidth\": 2, \"linecolor\": \"#EBF0F8\", \"showbackground\": true, \"ticks\": \"\", \"zerolinecolor\": \"#EBF0F8\"}}, \"shapedefaults\": {\"line\": {\"color\": \"#2a3f5f\"}}, \"ternary\": {\"aaxis\": {\"gridcolor\": \"#DFE8F3\", \"linecolor\": \"#A2B1C6\", \"ticks\": \"\"}, \"baxis\": {\"gridcolor\": \"#DFE8F3\", \"linecolor\": \"#A2B1C6\", \"ticks\": \"\"}, \"bgcolor\": \"white\", \"caxis\": {\"gridcolor\": \"#DFE8F3\", \"linecolor\": \"#A2B1C6\", \"ticks\": \"\"}}, \"title\": {\"x\": 0.05}, \"xaxis\": {\"automargin\": true, \"gridcolor\": \"#EBF0F8\", \"linecolor\": \"#EBF0F8\", \"ticks\": \"\", \"title\": {\"standoff\": 15}, \"zerolinecolor\": \"#EBF0F8\", \"zerolinewidth\": 2}, \"yaxis\": {\"automargin\": true, \"gridcolor\": \"#EBF0F8\", \"linecolor\": \"#EBF0F8\", \"ticks\": \"\", \"title\": {\"standoff\": 15}, \"zerolinecolor\": \"#EBF0F8\", \"zerolinewidth\": 2}}}, \"xaxis\": {\"anchor\": \"y\", \"domain\": [0.0, 1.0], \"title\": {\"text\": \"Number of Cell Lines\"}}, \"yaxis\": {\"anchor\": \"x\", \"domain\": [0.0, 1.0], \"title\": {\"text\": \"Homophiliness\"}}},\n",
       "                        {\"responsive\": true}\n",
       "                    ).then(function(){\n",
       "                            \n",
       "var gd = document.getElementById('3fa224cf-639d-426a-b847-535a817e994d');\n",
       "var x = new MutationObserver(function (mutations, observer) {{\n",
       "        var display = window.getComputedStyle(gd).display;\n",
       "        if (!display || display === 'none') {{\n",
       "            console.log([gd, 'removed!']);\n",
       "            Plotly.purge(gd);\n",
       "            observer.disconnect();\n",
       "        }}\n",
       "}});\n",
       "\n",
       "// Listen for the removal of the full notebook cells\n",
       "var notebookContainer = gd.closest('#notebook-container');\n",
       "if (notebookContainer) {{\n",
       "    x.observe(notebookContainer, {childList: true});\n",
       "}}\n",
       "\n",
       "// Listen for the clearing of the current output cell\n",
       "var outputEl = gd.closest('.output');\n",
       "if (outputEl) {{\n",
       "    x.observe(outputEl, {childList: true});\n",
       "}}\n",
       "\n",
       "                        })\n",
       "                };\n",
       "                });\n",
       "            </script>\n",
       "        </div>"
      ]
     },
     "metadata": {},
     "output_type": "display_data"
    }
   ],
   "source": [
    "fig = px.scatter(cdata, x='Number of Cell Lines', y='Homophiliness',text=\"#CANCER\")\n",
    "fig.update_traces(textposition='top center',marker={'size':12})\n",
    "fig.write_image(\"figures/node-count_vs_homophily.svg\")\n",
    "fig.write_image(\"figures/node-count_vs_homophily.png\")\n",
    "fig.show()"
   ]
  },
  {
   "cell_type": "code",
   "execution_count": null,
   "metadata": {},
   "outputs": [],
   "source": []
  }
 ],
 "metadata": {
  "kernelspec": {
   "display_name": "Python 3",
   "language": "python",
   "name": "python3"
  },
  "language_info": {
   "codemirror_mode": {
    "name": "ipython",
    "version": 3
   },
   "file_extension": ".py",
   "mimetype": "text/x-python",
   "name": "python",
   "nbconvert_exporter": "python",
   "pygments_lexer": "ipython3",
   "version": "3.7.7"
  }
 },
 "nbformat": 4,
 "nbformat_minor": 2
}
