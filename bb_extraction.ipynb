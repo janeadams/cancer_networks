{
 "cells": [
  {
   "cell_type": "code",
   "execution_count": 1,
   "metadata": {},
   "outputs": [],
   "source": [
    "import pandas as pd\n",
    "import numpy as np\n",
    "import networkx as nx\n",
    "import random\n",
    "from scipy import stats\n",
    "import matplotlib.pyplot as plt"
   ]
  },
  {
   "cell_type": "code",
   "execution_count": 2,
   "metadata": {},
   "outputs": [],
   "source": [
    "ranks = pd.read_pickle(\"/home/ccoquide/Bureau/PhD/CNWW/PROJECT/GIT/cancer_networks/data/gene_dependency_ranks.pkl\")"
   ]
  },
  {
   "cell_type": "code",
   "execution_count": 3,
   "metadata": {},
   "outputs": [],
   "source": [
    "correlation_matrix = ranks[ranks.columns].corr()\n"
   ]
  },
  {
   "cell_type": "code",
   "execution_count": 4,
   "metadata": {},
   "outputs": [],
   "source": [
    "T_Links={}\n",
    "N=len(correlation_matrix.columns)\n",
    "Cell=correlation_matrix.columns\n",
    "ww=open(\"/home/ccoquide/Bureau/PhD/CNWW/PROJECT/cell_lines_corr.dat\",\"w\")"
   ]
  },
  {
   "cell_type": "code",
   "execution_count": 5,
   "metadata": {},
   "outputs": [],
   "source": [
    "for j in range(N):\n",
    "    for i in range(j+1,N):\n",
    "        T_Links[str(j)+\",\"+str(i)]=correlation_matrix[Cell[j]][Cell[i]]\n",
    "        ww.write(str(j)+\"\\t\"+str(i)+\"\\t\"+str(correlation_matrix[Cell[j]][Cell[i]])+\"\\n\")\n",
    "ww.close()"
   ]
  },
  {
   "cell_type": "code",
   "execution_count": 6,
   "metadata": {},
   "outputs": [],
   "source": [
    "def extract_bb(G,alp):\n",
    "    keep_graph = nx.Graph()\n",
    "    for i in G:\n",
    "        neigh=G[i]\n",
    "        k=len(neigh)\n",
    "        if k>1:\n",
    "            W=sum(G.get_edge_data(i,j)['weight'] for j in neigh)\n",
    "            for j in neigh:\n",
    "                p=1.0*G.get_edge_data(i,j)['weight']/W\n",
    "                if (1-p)**(k-1) < alp:\n",
    "                    keep_graph.add_edge(i,j,G.get_edge_data(i,j))\n",
    "    return keep_graph, 1.0*len(keep_graph.edges())/(1.0*len(G.edges())),nx.number_connected_components(keep_graph) "
   ]
  },
  {
   "cell_type": "code",
   "execution_count": 7,
   "metadata": {},
   "outputs": [],
   "source": [
    "G=nx.Graph()"
   ]
  },
  {
   "cell_type": "code",
   "execution_count": 8,
   "metadata": {},
   "outputs": [],
   "source": [
    "G.add_nodes_from(range(N))"
   ]
  },
  {
   "cell_type": "code",
   "execution_count": 9,
   "metadata": {},
   "outputs": [],
   "source": [
    "A=[]"
   ]
  },
  {
   "cell_type": "code",
   "execution_count": 10,
   "metadata": {},
   "outputs": [],
   "source": [
    "for i in list(T_Links.keys()):\n",
    "    A.append((int(i.split(\",\")[0]), int(i.split(',')[1]), {'weight': T_Links[i]}))"
   ]
  },
  {
   "cell_type": "code",
   "execution_count": 11,
   "metadata": {},
   "outputs": [],
   "source": [
    "G.add_edges_from(A)"
   ]
  },
  {
   "cell_type": "code",
   "execution_count": 12,
   "metadata": {},
   "outputs": [
    {
     "name": "stdout",
     "output_type": "stream",
     "text": [
      "0.3 5.12820512821e-06 1.0\n",
      "0.301 5.12820512821e-06 1.0\n",
      "0.302 5.12820512821e-06 1.0\n",
      "0.303 5.12820512821e-06 1.0\n",
      "0.304 5.12820512821e-06 1.0\n",
      "0.305 5.12820512821e-06 1.0\n",
      "0.306 5.12820512821e-06 1.0\n",
      "0.307 5.12820512821e-06 1.0\n",
      "0.308 5.12820512821e-06 1.0\n",
      "0.309 5.12820512821e-06 1.0\n",
      "0.31 5.12820512821e-06 1.0\n",
      "0.311 5.12820512821e-06 1.0\n",
      "0.312 5.12820512821e-06 1.0\n",
      "0.313 5.12820512821e-06 1.0\n",
      "0.314 5.12820512821e-06 1.0\n",
      "0.315 5.12820512821e-06 1.0\n",
      "0.316 5.12820512821e-06 1.0\n",
      "0.317 1.53846153846e-05 1.0\n",
      "0.318 1.53846153846e-05 1.0\n",
      "0.319 1.53846153846e-05 1.0\n",
      "0.32 1.53846153846e-05 1.0\n",
      "0.321 1.53846153846e-05 1.0\n",
      "0.322 1.53846153846e-05 1.0\n",
      "0.323 1.53846153846e-05 1.0\n",
      "0.324 1.53846153846e-05 1.0\n",
      "0.325 1.53846153846e-05 1.0\n",
      "0.326 2.05128205128e-05 2.0\n",
      "0.327 2.05128205128e-05 2.0\n",
      "0.328 2.05128205128e-05 2.0\n",
      "0.329 2.05128205128e-05 2.0\n",
      "0.33 2.5641025641e-05 3.0\n",
      "0.331 3.07692307692e-05 4.0\n",
      "0.332 3.07692307692e-05 4.0\n",
      "0.333 3.07692307692e-05 4.0\n",
      "0.334 3.58974358974e-05 5.0\n",
      "0.335 4.61538461538e-05 6.0\n",
      "0.336 5.12820512821e-05 7.0\n",
      "0.337 6.15384615385e-05 9.0\n",
      "0.338 9.74358974359e-05 11.0\n",
      "0.339 0.000133333333333 13.0\n",
      "0.34 0.0002 17.0\n",
      "0.341 0.00034358974359 22.0\n",
      "0.342 0.000492307692308 23.0\n",
      "0.343 0.000851282051282 22.0\n",
      "0.344 0.0014358974359 19.0\n",
      "0.345 0.00235897435897 14.0\n",
      "0.346 0.00395384615385 7.0\n",
      "0.347 0.00635897435897 5.0\n",
      "0.348 0.0101897435897 2.0\n",
      "0.349 0.0153076923077 1.0\n",
      "0.35 0.0224358974359 1.0\n",
      "0.351 0.032958974359 1.0\n",
      "0.352 0.0466205128205 1.0\n",
      "0.353 0.0646051282051 1.0\n",
      "0.354 0.0882307692308 1.0\n",
      "0.355 0.117692307692 1.0\n",
      "0.356 0.154015384615 1.0\n",
      "0.357 0.195666666667 1.0\n",
      "0.358 0.241743589744 1.0\n",
      "0.359 0.294169230769 1.0\n",
      "0.36 0.348774358974 1.0\n",
      "0.361 0.405625641026 1.0\n",
      "0.362 0.464230769231 1.0\n",
      "0.363 0.522743589744 1.0\n",
      "0.364 0.580374358974 1.0\n",
      "0.365 0.636020512821 1.0\n",
      "0.366 0.687415384615 1.0\n",
      "0.367 0.734856410256 1.0\n",
      "0.368 0.778123076923 1.0\n",
      "0.369 0.815907692308 1.0\n",
      "0.37 0.848712820513 1.0\n",
      "0.371 0.876302564103 1.0\n",
      "0.372 0.8994 1.0\n",
      "0.373 0.918338461538 1.0\n",
      "0.374 0.933153846154 1.0\n",
      "0.375 0.945487179487 1.0\n",
      "0.376 0.955620512821 1.0\n",
      "0.377 0.963615384615 1.0\n",
      "0.378 0.970635897436 1.0\n",
      "0.379 0.976205128205 1.0\n",
      "0.38 0.980733333333 1.0\n",
      "0.381 0.984876923077 1.0\n",
      "0.382 0.988051282051 1.0\n",
      "0.383 0.990964102564 1.0\n",
      "0.384 0.993107692308 1.0\n",
      "0.385 0.994769230769 1.0\n",
      "0.386 0.996158974359 1.0\n",
      "0.387 0.997071794872 1.0\n",
      "0.388 0.997969230769 1.0\n",
      "0.389 0.998538461538 1.0\n",
      "0.39 0.998958974359 1.0\n",
      "0.391 0.999256410256 1.0\n",
      "0.392 0.999497435897 1.0\n",
      "0.393 0.999646153846 1.0\n",
      "0.394 0.999764102564 1.0\n",
      "0.395 0.999815384615 1.0\n",
      "0.396 0.999851282051 1.0\n",
      "0.397 0.999902564103 1.0\n",
      "0.398 0.999943589744 1.0\n",
      "0.399 0.999948717949 1.0\n",
      "0.4 0.999958974359 1.0\n"
     ]
    }
   ],
   "source": [
    "alp=np.arange(0.3,0.4,0.001)\n",
    "y1=alp.copy()\n",
    "y2=alp.copy()\n",
    "for i in np.arange(alp.size):\n",
    "    rez=extract_bb(G,alp[i])\n",
    "    y1[i]=rez[1]#fraction of remaining links\n",
    "    y2[i]=rez[2]#number of connected components  \n",
    "    print(alp[i], y1[i], y2[i])\n",
    "    "
   ]
  },
  {
   "cell_type": "code",
   "execution_count": 13,
   "metadata": {},
   "outputs": [
    {
     "name": "stdout",
     "output_type": "stream",
     "text": [
      "1.0\n",
      "1.0\n",
      "1.0\n",
      "1.0\n",
      "1.0\n",
      "1.0\n",
      "1.0\n",
      "1.0\n",
      "1.0\n",
      "1.0\n",
      "1.0\n",
      "1.0\n",
      "1.0\n",
      "1.0\n",
      "1.0\n",
      "1.0\n",
      "1.0\n",
      "1.0\n",
      "1.0\n",
      "1.0\n",
      "1.0\n",
      "1.0\n",
      "1.0\n",
      "1.0\n",
      "1.0\n",
      "1.0\n",
      "2.0\n",
      "2.0\n",
      "2.0\n",
      "2.0\n",
      "3.0\n",
      "4.0\n",
      "4.0\n",
      "4.0\n",
      "5.0\n",
      "6.0\n",
      "7.0\n",
      "9.0\n",
      "11.0\n",
      "13.0\n",
      "17.0\n",
      "22.0\n",
      "23.0\n",
      "22.0\n",
      "19.0\n",
      "14.0\n",
      "7.0\n",
      "5.0\n",
      "2.0\n",
      "1.0\n",
      "1.0\n",
      "1.0\n",
      "1.0\n",
      "1.0\n",
      "1.0\n",
      "1.0\n",
      "1.0\n",
      "1.0\n",
      "1.0\n",
      "1.0\n",
      "1.0\n",
      "1.0\n",
      "1.0\n",
      "1.0\n",
      "1.0\n",
      "1.0\n",
      "1.0\n",
      "1.0\n",
      "1.0\n",
      "1.0\n",
      "1.0\n",
      "1.0\n",
      "1.0\n",
      "1.0\n",
      "1.0\n",
      "1.0\n",
      "1.0\n",
      "1.0\n",
      "1.0\n",
      "1.0\n",
      "1.0\n",
      "1.0\n",
      "1.0\n",
      "1.0\n",
      "1.0\n",
      "1.0\n",
      "1.0\n",
      "1.0\n",
      "1.0\n",
      "1.0\n",
      "1.0\n",
      "1.0\n",
      "1.0\n",
      "1.0\n",
      "1.0\n",
      "1.0\n",
      "1.0\n",
      "1.0\n",
      "1.0\n",
      "1.0\n",
      "1.0\n"
     ]
    }
   ],
   "source": [
    "for i in y2:\n",
    "    print(i)"
   ]
  },
  {
   "cell_type": "code",
   "execution_count": 14,
   "metadata": {},
   "outputs": [
    {
     "data": {
      "text/plain": [
       "array([  1.,   1.,   1.,   1.,   1.,   1.,   1.,   1.,   1.,   1.,   1.,\n",
       "         1.,   1.,   1.,   1.,   1.,   1.,   1.,   1.,   1.,   1.,   1.,\n",
       "         1.,   1.,   1.,   1.,   2.,   2.,   2.,   2.,   3.,   4.,   4.,\n",
       "         4.,   5.,   6.,   7.,   9.,  11.,  13.,  17.,  22.,  23.,  22.,\n",
       "        19.,  14.,   7.,   5.,   2.,   1.,   1.,   1.,   1.,   1.,   1.,\n",
       "         1.,   1.,   1.,   1.,   1.,   1.,   1.,   1.,   1.,   1.,   1.,\n",
       "         1.,   1.,   1.,   1.,   1.,   1.,   1.,   1.,   1.,   1.,   1.,\n",
       "         1.,   1.,   1.,   1.,   1.,   1.,   1.,   1.,   1.,   1.,   1.,\n",
       "         1.,   1.,   1.,   1.,   1.,   1.,   1.,   1.,   1.,   1.,   1.,\n",
       "         1.,   1.])"
      ]
     },
     "execution_count": 14,
     "metadata": {},
     "output_type": "execute_result"
    }
   ],
   "source": [
    "y2\n",
    "\n",
    "\n"
   ]
  },
  {
   "cell_type": "code",
   "execution_count": 15,
   "metadata": {},
   "outputs": [
    {
     "data": {
      "text/plain": [
       "[<matplotlib.lines.Line2D at 0x7fe75822fcf8>]"
      ]
     },
     "execution_count": 15,
     "metadata": {},
     "output_type": "execute_result"
    },
    {
     "data": {
      "image/png": "[encoded data removed]",
      "text/plain": [
       "<matplotlib.figure.Figure at 0x7fe7581ecdd8>"
      ]
     },
     "metadata": {},
     "output_type": "display_data"
    }
   ],
   "source": [
    "plt.plot(alp,y1)"
   ]
  },
  {
   "cell_type": "code",
   "execution_count": 16,
   "metadata": {},
   "outputs": [
    {
     "data": {
      "text/plain": [
       "[<matplotlib.lines.Line2D at 0x7fe757274d68>]"
      ]
     },
     "execution_count": 16,
     "metadata": {},
     "output_type": "execute_result"
    },
    {
     "data": {
      "image/png": "[encoded data removed]",
      "text/plain": [
       "<matplotlib.figure.Figure at 0x7fe7581d0128>"
      ]
     },
     "metadata": {},
     "output_type": "display_data"
    }
   ],
   "source": [
    "plt.plot(alp,y2)"
   ]
  },
  {
   "cell_type": "code",
   "execution_count": 31,
   "metadata": {},
   "outputs": [
    {
     "name": "stdout",
     "output_type": "stream",
     "text": [
      "there are: 52 nodes\n",
      "there are: 39 links\n"
     ]
    }
   ],
   "source": [
    "bb,dens,comp=extract_bb(G,0.34)\n",
    "print(\"there are:\", len(bb.nodes()), \"nodes\")\n",
    "print(\"there are:\", len(bb.edges()), \"links\")"
   ]
  },
  {
   "cell_type": "code",
   "execution_count": 32,
   "metadata": {},
   "outputs": [],
   "source": [
    "ww=open(\"/home/ccoquide/Bureau/PhD/CNWW/PROJECT/cell_lines_corr-0-34.net\",\"w\")\n",
    "ww.write(\"#SOURCE\\t#TARGET\\t#WEIGHT\\n\")\n",
    "Link_tab=nx.get_edge_attributes(bb,'weight')\n",
    "for i in bb.edges():\n",
    "    ww.write(str(i[0]+1)+\"\\t\"+str(i[1]+1)+\"\\t\"+str(Link_tab[i])+\"\\n\")\n",
    "ww.close()\n"
   ]
  },
  {
   "cell_type": "code",
   "execution_count": 33,
   "metadata": {},
   "outputs": [],
   "source": [
    "info=open(\"/home/ccoquide/Bureau/PhD/CNWW/PROJECT/GIT/cancer_networks/data/cell_info.txt\",'r').read()\n",
    "info=info.split(\"\\n\")\n",
    "info.remove(\"\")\n",
    "header=info[0].split(\"\\t\")[0]+\"\\t\"+info[0].split(\"\\t\")[5]+\"\\t\"+info[0].split(\"\\t\")[37]#information related to DepMap_ID/Cancer_Type/Gender\n",
    "info.remove(info[0])\n",
    "dic={}\n",
    "for i in info:\n",
    "    tmp=i.split(\"\\t\")\n",
    "    dic[tmp[0]]=tmp[1:]\n",
    "ww=open(\"/home/ccoquide/Bureau/PhD/CNWW/PROJECT/cell_lines_corr-0-34.nodes\",\"w\")\n",
    "ww.write(\"Node_ID\\t\"+header+\"\\n\")\n",
    "for i in sorted(list(bb.nodes())):\n",
    "    ww.write(str(i+1)+\"\\t\"+Cell[i]+\"\\t\")\n",
    "    if Cell[i] in dic.keys():\n",
    "        ww.write(dic[Cell[i]][4]+\"\\t\"+dic[Cell[i]][-1])\n",
    "        ww.write(\"\\n\")\n",
    "    else:\n",
    "        for j in header.split(\"\\t\"):\n",
    "            ww.write(\"\\t\"+\"NA\")\n",
    "        ww.write(\"\\n\")\n",
    "ww.close()"
   ]
  },
  {
   "cell_type": "code",
   "execution_count": null,
   "metadata": {},
   "outputs": [],
   "source": [
    "y"
   ]
  },
  {
   "cell_type": "code",
   "execution_count": null,
   "metadata": {},
   "outputs": [],
   "source": []
  },
  {
   "cell_type": "code",
   "execution_count": null,
   "metadata": {},
   "outputs": [],
   "source": []
  }
 ],
 "metadata": {
  "kernelspec": {
   "display_name": "Python 3",
   "language": "python",
   "name": "python3"
  },
  "language_info": {
   "codemirror_mode": {
    "name": "ipython",
    "version": 3
   },
   "file_extension": ".py",
   "mimetype": "text/x-python",
   "name": "python",
   "nbconvert_exporter": "python",
   "pygments_lexer": "ipython3",
   "version": "3.6.9"
  }
 },
 "nbformat": 4,
 "nbformat_minor": 2
}
