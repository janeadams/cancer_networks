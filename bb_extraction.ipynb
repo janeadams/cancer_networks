{
 "cells": [
  {
   "cell_type": "code",
   "execution_count": 1,
   "metadata": {},
   "outputs": [],
   "source": [
    "import pandas as pd\n",
    "import numpy as np\n",
    "import networkx as nx\n",
    "import random\n",
    "from scipy import stats\n",
    "import matplotlib.pyplot as plt\n",
    "import plotly.express as px\n",
    "import plotly.io as pio\n",
    "pio.templates.default = 'plotly_white'"
   ]
  },
  {
   "cell_type": "code",
   "execution_count": 2,
   "metadata": {},
   "outputs": [],
   "source": [
    "ranks = pd.read_pickle(\"data/gene_dependency_ranks_above_0-5.pkl\")\n",
    "#ranks = pd.read_csv(\"/home/ccoquide/Bureau/PhD/CNWW/PROJECT/GIT/cancer_networks/data/gene_dependency_ranks_above_0-5.csv\")"
   ]
  },
  {
   "cell_type": "code",
   "execution_count": 3,
   "metadata": {},
   "outputs": [
    {
     "data": {
      "text/plain": [
       "Index(['ACH-000004', 'ACH-000005', 'ACH-000007', 'ACH-000009', 'ACH-000011',\n",
       "       'ACH-000012', 'ACH-000013', 'ACH-000014', 'ACH-000015', 'ACH-000017',\n",
       "       ...\n",
       "       'ACH-001736', 'ACH-001737', 'ACH-001740', 'ACH-001745', 'ACH-001750',\n",
       "       'ACH-001765', 'ACH-001814', 'ACH-001838', 'ACH-001956', 'ACH-001957'],\n",
       "      dtype='object', length=625)"
      ]
     },
     "execution_count": 3,
     "metadata": {},
     "output_type": "execute_result"
    }
   ],
   "source": [
    "correlation_matrix = ranks[ranks.columns].corr()\n",
    "correlation_matrix.columns\n"
   ]
  },
  {
   "cell_type": "code",
   "execution_count": 4,
   "metadata": {},
   "outputs": [
    {
     "data": {
      "text/html": [
       "<div>\n",
       "<style scoped>\n",
       "    .dataframe tbody tr th:only-of-type {\n",
       "        vertical-align: middle;\n",
       "    }\n",
       "\n",
       "    .dataframe tbody tr th {\n",
       "        vertical-align: top;\n",
       "    }\n",
       "\n",
       "    .dataframe thead th {\n",
       "        text-align: right;\n",
       "    }\n",
       "</style>\n",
       "<table border=\"1\" class=\"dataframe\">\n",
       "  <thead>\n",
       "    <tr style=\"text-align: right;\">\n",
       "      <th></th>\n",
       "      <th>ACH-000004</th>\n",
       "      <th>ACH-000005</th>\n",
       "      <th>ACH-000007</th>\n",
       "      <th>ACH-000009</th>\n",
       "      <th>ACH-000011</th>\n",
       "      <th>ACH-000012</th>\n",
       "      <th>ACH-000013</th>\n",
       "      <th>ACH-000014</th>\n",
       "      <th>ACH-000015</th>\n",
       "      <th>ACH-000017</th>\n",
       "      <th>...</th>\n",
       "      <th>ACH-001736</th>\n",
       "      <th>ACH-001737</th>\n",
       "      <th>ACH-001740</th>\n",
       "      <th>ACH-001745</th>\n",
       "      <th>ACH-001750</th>\n",
       "      <th>ACH-001765</th>\n",
       "      <th>ACH-001814</th>\n",
       "      <th>ACH-001838</th>\n",
       "      <th>ACH-001956</th>\n",
       "      <th>ACH-001957</th>\n",
       "    </tr>\n",
       "  </thead>\n",
       "  <tbody>\n",
       "    <tr>\n",
       "      <th>ACH-000004</th>\n",
       "      <td>1.000000</td>\n",
       "      <td>0.670811</td>\n",
       "      <td>0.634086</td>\n",
       "      <td>0.668743</td>\n",
       "      <td>0.627837</td>\n",
       "      <td>0.683202</td>\n",
       "      <td>0.674804</td>\n",
       "      <td>0.645831</td>\n",
       "      <td>0.678091</td>\n",
       "      <td>0.644843</td>\n",
       "      <td>...</td>\n",
       "      <td>0.674436</td>\n",
       "      <td>0.515364</td>\n",
       "      <td>0.682904</td>\n",
       "      <td>0.679575</td>\n",
       "      <td>0.653029</td>\n",
       "      <td>0.684327</td>\n",
       "      <td>0.600411</td>\n",
       "      <td>0.645787</td>\n",
       "      <td>0.694980</td>\n",
       "      <td>0.647552</td>\n",
       "    </tr>\n",
       "    <tr>\n",
       "      <th>ACH-000005</th>\n",
       "      <td>0.670811</td>\n",
       "      <td>1.000000</td>\n",
       "      <td>0.595817</td>\n",
       "      <td>0.612021</td>\n",
       "      <td>0.618527</td>\n",
       "      <td>0.637441</td>\n",
       "      <td>0.647392</td>\n",
       "      <td>0.605953</td>\n",
       "      <td>0.637074</td>\n",
       "      <td>0.631191</td>\n",
       "      <td>...</td>\n",
       "      <td>0.645563</td>\n",
       "      <td>0.508010</td>\n",
       "      <td>0.619845</td>\n",
       "      <td>0.642149</td>\n",
       "      <td>0.633958</td>\n",
       "      <td>0.655382</td>\n",
       "      <td>0.576940</td>\n",
       "      <td>0.615256</td>\n",
       "      <td>0.655533</td>\n",
       "      <td>0.635836</td>\n",
       "    </tr>\n",
       "    <tr>\n",
       "      <th>ACH-000007</th>\n",
       "      <td>0.634086</td>\n",
       "      <td>0.595817</td>\n",
       "      <td>1.000000</td>\n",
       "      <td>0.689916</td>\n",
       "      <td>0.659210</td>\n",
       "      <td>0.689017</td>\n",
       "      <td>0.686473</td>\n",
       "      <td>0.656473</td>\n",
       "      <td>0.689560</td>\n",
       "      <td>0.664908</td>\n",
       "      <td>...</td>\n",
       "      <td>0.662469</td>\n",
       "      <td>0.506101</td>\n",
       "      <td>0.665620</td>\n",
       "      <td>0.682570</td>\n",
       "      <td>0.668785</td>\n",
       "      <td>0.687120</td>\n",
       "      <td>0.623574</td>\n",
       "      <td>0.662435</td>\n",
       "      <td>0.697441</td>\n",
       "      <td>0.678311</td>\n",
       "    </tr>\n",
       "    <tr>\n",
       "      <th>ACH-000009</th>\n",
       "      <td>0.668743</td>\n",
       "      <td>0.612021</td>\n",
       "      <td>0.689916</td>\n",
       "      <td>1.000000</td>\n",
       "      <td>0.674617</td>\n",
       "      <td>0.745205</td>\n",
       "      <td>0.724943</td>\n",
       "      <td>0.690675</td>\n",
       "      <td>0.731248</td>\n",
       "      <td>0.682845</td>\n",
       "      <td>...</td>\n",
       "      <td>0.678239</td>\n",
       "      <td>0.542141</td>\n",
       "      <td>0.690460</td>\n",
       "      <td>0.706106</td>\n",
       "      <td>0.697572</td>\n",
       "      <td>0.726958</td>\n",
       "      <td>0.637741</td>\n",
       "      <td>0.685768</td>\n",
       "      <td>0.739834</td>\n",
       "      <td>0.726810</td>\n",
       "    </tr>\n",
       "    <tr>\n",
       "      <th>ACH-000011</th>\n",
       "      <td>0.627837</td>\n",
       "      <td>0.618527</td>\n",
       "      <td>0.659210</td>\n",
       "      <td>0.674617</td>\n",
       "      <td>1.000000</td>\n",
       "      <td>0.689373</td>\n",
       "      <td>0.700604</td>\n",
       "      <td>0.676628</td>\n",
       "      <td>0.684779</td>\n",
       "      <td>0.670969</td>\n",
       "      <td>...</td>\n",
       "      <td>0.672168</td>\n",
       "      <td>0.552894</td>\n",
       "      <td>0.666295</td>\n",
       "      <td>0.684159</td>\n",
       "      <td>0.700965</td>\n",
       "      <td>0.712906</td>\n",
       "      <td>0.643263</td>\n",
       "      <td>0.688556</td>\n",
       "      <td>0.730965</td>\n",
       "      <td>0.731748</td>\n",
       "    </tr>\n",
       "  </tbody>\n",
       "</table>\n",
       "<p>5 rows × 625 columns</p>\n",
       "</div>"
      ],
      "text/plain": [
       "            ACH-000004  ACH-000005  ACH-000007  ACH-000009  ACH-000011  \\\n",
       "ACH-000004    1.000000    0.670811    0.634086    0.668743    0.627837   \n",
       "ACH-000005    0.670811    1.000000    0.595817    0.612021    0.618527   \n",
       "ACH-000007    0.634086    0.595817    1.000000    0.689916    0.659210   \n",
       "ACH-000009    0.668743    0.612021    0.689916    1.000000    0.674617   \n",
       "ACH-000011    0.627837    0.618527    0.659210    0.674617    1.000000   \n",
       "\n",
       "            ACH-000012  ACH-000013  ACH-000014  ACH-000015  ACH-000017  ...  \\\n",
       "ACH-000004    0.683202    0.674804    0.645831    0.678091    0.644843  ...   \n",
       "ACH-000005    0.637441    0.647392    0.605953    0.637074    0.631191  ...   \n",
       "ACH-000007    0.689017    0.686473    0.656473    0.689560    0.664908  ...   \n",
       "ACH-000009    0.745205    0.724943    0.690675    0.731248    0.682845  ...   \n",
       "ACH-000011    0.689373    0.700604    0.676628    0.684779    0.670969  ...   \n",
       "\n",
       "            ACH-001736  ACH-001737  ACH-001740  ACH-001745  ACH-001750  \\\n",
       "ACH-000004    0.674436    0.515364    0.682904    0.679575    0.653029   \n",
       "ACH-000005    0.645563    0.508010    0.619845    0.642149    0.633958   \n",
       "ACH-000007    0.662469    0.506101    0.665620    0.682570    0.668785   \n",
       "ACH-000009    0.678239    0.542141    0.690460    0.706106    0.697572   \n",
       "ACH-000011    0.672168    0.552894    0.666295    0.684159    0.700965   \n",
       "\n",
       "            ACH-001765  ACH-001814  ACH-001838  ACH-001956  ACH-001957  \n",
       "ACH-000004    0.684327    0.600411    0.645787    0.694980    0.647552  \n",
       "ACH-000005    0.655382    0.576940    0.615256    0.655533    0.635836  \n",
       "ACH-000007    0.687120    0.623574    0.662435    0.697441    0.678311  \n",
       "ACH-000009    0.726958    0.637741    0.685768    0.739834    0.726810  \n",
       "ACH-000011    0.712906    0.643263    0.688556    0.730965    0.731748  \n",
       "\n",
       "[5 rows x 625 columns]"
      ]
     },
     "execution_count": 4,
     "metadata": {},
     "output_type": "execute_result"
    }
   ],
   "source": [
    "correlation_matrix.head()"
   ]
  },
  {
   "cell_type": "code",
   "execution_count": 5,
   "metadata": {},
   "outputs": [],
   "source": [
    "T_Links={}\n",
    "N=len(correlation_matrix.columns)\n",
    "Cell=correlation_matrix.columns\n",
    "ww=open(\"data/cell_lines_corr_above0_5.dat\",\"w\")"
   ]
  },
  {
   "cell_type": "code",
   "execution_count": 6,
   "metadata": {},
   "outputs": [],
   "source": [
    "for j in range(N):\n",
    "    for i in range(j+1,N):\n",
    "        T_Links[str(j)+\",\"+str(i)]=correlation_matrix[Cell[j]][Cell[i]]\n",
    "        ww.write(str(j)+\"\\t\"+str(i)+\"\\t\"+str(correlation_matrix[Cell[j]][Cell[i]])+\"\\n\")\n",
    "ww.close()"
   ]
  },
  {
   "cell_type": "code",
   "execution_count": 7,
   "metadata": {},
   "outputs": [],
   "source": [
    "def extract_bb(G,alp):\n",
    "    keep_graph = nx.Graph()\n",
    "    for i in G:\n",
    "        neigh=G[i]\n",
    "        k=len(neigh)\n",
    "        if k>1:\n",
    "            W=sum(G.get_edge_data(i,j)['weight'] for j in neigh)\n",
    "            for j in neigh:\n",
    "                p=1.0*G.get_edge_data(i,j)['weight']/W\n",
    "                if (1-p)**(k-1) < alp:\n",
    "                    keep_graph.add_edge(i,j, weight = G.get_edge_data(i,j))\n",
    "    return keep_graph, 1.0*len(keep_graph.edges())/(1.0*len(G.edges())),nx.number_connected_components(keep_graph) "
   ]
  },
  {
   "cell_type": "code",
   "execution_count": 8,
   "metadata": {},
   "outputs": [],
   "source": [
    "G=nx.Graph()"
   ]
  },
  {
   "cell_type": "code",
   "execution_count": 9,
   "metadata": {},
   "outputs": [],
   "source": [
    "G.add_nodes_from(range(N))"
   ]
  },
  {
   "cell_type": "code",
   "execution_count": 10,
   "metadata": {},
   "outputs": [],
   "source": [
    "A=[]"
   ]
  },
  {
   "cell_type": "code",
   "execution_count": 11,
   "metadata": {},
   "outputs": [],
   "source": [
    "for i in list(T_Links.keys()):\n",
    "    A.append((int(i.split(\",\")[0]), int(i.split(',')[1]), {'weight': T_Links[i]}))"
   ]
  },
  {
   "cell_type": "code",
   "execution_count": 12,
   "metadata": {},
   "outputs": [],
   "source": [
    "G.add_edges_from(A)"
   ]
  },
  {
   "cell_type": "code",
   "execution_count": 14,
   "metadata": {
    "scrolled": true
   },
   "outputs": [
    {
     "name": "stdout",
     "output_type": "stream",
     "text": [
      "0.27 5.12820512821e-06 1.0\n",
      "0.271 5.12820512821e-06 1.0\n",
      "0.272 5.12820512821e-06 1.0\n",
      "0.273 5.12820512821e-06 1.0\n",
      "0.274 5.12820512821e-06 1.0\n",
      "0.275 5.12820512821e-06 1.0\n",
      "0.276 5.12820512821e-06 1.0\n",
      "0.277 5.12820512821e-06 1.0\n",
      "0.278 1.02564102564e-05 1.0\n",
      "0.279 1.02564102564e-05 1.0\n",
      "0.28 1.02564102564e-05 1.0\n",
      "0.281 1.53846153846e-05 1.0\n",
      "0.282 1.53846153846e-05 1.0\n",
      "0.283 1.53846153846e-05 1.0\n",
      "0.284 1.53846153846e-05 1.0\n",
      "0.285 1.53846153846e-05 1.0\n",
      "0.286 1.53846153846e-05 1.0\n",
      "0.287 1.53846153846e-05 1.0\n",
      "0.288 1.53846153846e-05 1.0\n",
      "0.289 1.53846153846e-05 1.0\n",
      "0.29 1.53846153846e-05 1.0\n",
      "0.291 1.53846153846e-05 1.0\n",
      "0.292 1.53846153846e-05 1.0\n",
      "0.293 1.53846153846e-05 1.0\n",
      "0.294 1.53846153846e-05 1.0\n",
      "0.295 1.53846153846e-05 1.0\n",
      "0.296 1.53846153846e-05 1.0\n",
      "0.297 2.5641025641e-05 3.0\n",
      "0.298 2.5641025641e-05 3.0\n",
      "0.299 2.5641025641e-05 3.0\n",
      "0.3 3.07692307692e-05 4.0\n",
      "0.301 3.58974358974e-05 5.0\n",
      "0.302 3.58974358974e-05 5.0\n",
      "0.303 3.58974358974e-05 5.0\n",
      "0.304 3.58974358974e-05 5.0\n",
      "0.305 4.10256410256e-05 6.0\n",
      "0.306 5.12820512821e-05 7.0\n",
      "0.307 6.15384615385e-05 8.0\n",
      "0.308 6.15384615385e-05 8.0\n",
      "0.309 7.69230769231e-05 10.0\n",
      "0.31 8.71794871795e-05 11.0\n",
      "0.311 9.23076923077e-05 11.0\n",
      "0.312 0.000102564102564 11.0\n",
      "0.313 0.000117948717949 11.0\n",
      "0.314 0.000128205128205 11.0\n",
      "0.315 0.000164102564103 14.0\n",
      "0.316 0.000189743589744 15.0\n",
      "0.317 0.000215384615385 16.0\n",
      "0.318 0.000307692307692 14.0\n",
      "0.319 0.000353846153846 14.0\n",
      "0.32 0.000451282051282 17.0\n",
      "0.321 0.000579487179487 20.0\n",
      "0.322 0.000764102564103 19.0\n",
      "0.323 0.000953846153846 15.0\n",
      "0.324 0.00133333333333 14.0\n",
      "0.325 0.00166666666667 14.0\n",
      "0.326 0.00214871794872 10.0\n",
      "0.327 0.00276923076923 10.0\n",
      "0.328 0.00372820512821 8.0\n",
      "0.329 0.00471794871795 7.0\n",
      "0.33 0.00613846153846 4.0\n",
      "0.331 0.00789230769231 4.0\n",
      "0.332 0.0103179487179 3.0\n",
      "0.333 0.0131794871795 2.0\n",
      "0.334 0.0166923076923 1.0\n",
      "0.335 0.0211230769231 1.0\n",
      "0.336 0.0269179487179 1.0\n",
      "0.337 0.0337948717949 1.0\n",
      "0.338 0.0419487179487 1.0\n",
      "0.339 0.0514615384615 1.0\n"
     ]
    }
   ],
   "source": [
    "alp=np.arange(0.27,0.34,0.001)\n",
    "y1=alp.copy()\n",
    "y2=alp.copy()\n",
    "for i in np.arange(alp.size):\n",
    "    rez=extract_bb(G,alp[i])\n",
    "    y1[i]=rez[1]#fraction of remaining links\n",
    "    y2[i]=rez[2]#number of connected components  \n",
    "    print(alp[i], y1[i], y2[i])\n",
    "    "
   ]
  },
  {
   "cell_type": "code",
   "execution_count": 16,
   "metadata": {},
   "outputs": [
    {
     "data": {
      "text/plain": [
       "array([  1.,   1.,   1.,   1.,   1.,   1.,   1.,   1.,   1.,   1.,   1.,\n",
       "         1.,   1.,   1.,   1.,   1.,   1.,   1.,   1.,   1.,   1.,   1.,\n",
       "         1.,   1.,   1.,   1.,   1.,   3.,   3.,   3.,   4.,   5.,   5.,\n",
       "         5.,   5.,   6.,   7.,   8.,   8.,  10.,  11.,  11.,  11.,  11.,\n",
       "        11.,  14.,  15.,  16.,  14.,  14.,  17.,  20.,  19.,  15.,  14.,\n",
       "        14.,  10.,  10.,   8.,   7.,   4.,   4.,   3.,   2.,   1.,   1.,\n",
       "         1.,   1.,   1.,   1.])"
      ]
     },
     "execution_count": 16,
     "metadata": {},
     "output_type": "execute_result"
    }
   ],
   "source": [
    "y2\n",
    "\n",
    "\n"
   ]
  },
  {
   "cell_type": "code",
   "execution_count": 17,
   "metadata": {},
   "outputs": [
    {
     "data": {
      "text/plain": [
       "[<matplotlib.lines.Line2D at 0x7f53c69220f0>]"
      ]
     },
     "execution_count": 17,
     "metadata": {},
     "output_type": "execute_result"
    },
    {
     "data": {
      "image/png": "[encoded data removed]",
      "text/plain": [
       "<matplotlib.figure.Figure at 0x7f53c68f0630>"
      ]
     },
     "metadata": {},
     "output_type": "display_data"
    }
   ],
   "source": [
    "plt.plot(alp,y1)"
   ]
  },
  {
   "cell_type": "code",
   "execution_count": 18,
   "metadata": {},
   "outputs": [
    {
     "data": {
      "text/plain": [
       "[<matplotlib.lines.Line2D at 0x7f53c6955f28>]"
      ]
     },
     "execution_count": 18,
     "metadata": {},
     "output_type": "execute_result"
    },
    {
     "data": {
      "image/png": "[encoded data removed]",
      "text/plain": [
       "<matplotlib.figure.Figure at 0x7f53c6938e10>"
      ]
     },
     "metadata": {},
     "output_type": "display_data"
    }
   ],
   "source": [
    "plt.plot(alp,y2)"
   ]
  },
  {
   "cell_type": "code",
   "execution_count": 27,
   "metadata": {},
   "outputs": [
    {
     "name": "stdout",
     "output_type": "stream",
     "text": [
      "there are: 92 nodes\n",
      "there are: 113 links\n"
     ]
    }
   ],
   "source": [
    "alp=\"0-321\"#alpha value with - instead of . (for output name automatic change)\n",
    "bb,dens,comp=extract_bb(G,float(alp.replace('-','.')))\n",
    "print(\"there are:\", len(bb.nodes()), \"nodes\")\n",
    "print(\"there are:\", len(bb.edges()), \"links\")"
   ]
  },
  {
   "cell_type": "code",
   "execution_count": 28,
   "metadata": {},
   "outputs": [],
   "source": [
    "ww=open(\"data/cell_lines_corr-above0-5-\"+alp+\".net\",\"w\")\n",
    "ww.write(\"#SOURCE\\t#TARGET\\t#WEIGHT\\n\")\n",
    "Link_tab=nx.get_edge_attributes(bb,'weight')\n",
    "for i in bb.edges():\n",
    "    ww.write(str(i[0]+1)+\"\\t\"+str(i[1]+1)+\"\\t\"+str(Link_tab[i][\"weight\"])+\"\\n\")\n",
    "ww.close()\n"
   ]
  },
  {
   "cell_type": "code",
   "execution_count": 29,
   "metadata": {},
   "outputs": [],
   "source": [
    "info=open(\"data/cell_info.txt\",'r').read()\n",
    "info=info.split(\"\\n\")\n",
    "info.remove(\"\")\n",
    "header=info[0].split(\"\\t\")[0]+\"\\t\"+info[0].split(\"\\t\")[5]+\"\\t\"+info[0].split(\"\\t\")[37]#information related to DepMap_ID/Cancer_Type/Gender\n",
    "info.remove(info[0])\n",
    "dic={}\n",
    "for i in info:\n",
    "    tmp=i.split(\"\\t\")\n",
    "    dic[tmp[0]]=[tmp[5],tmp[-1]]\n",
    "for i in Cell:\n",
    "    if i not in dic.keys():\n",
    "        dic[i]=[\"NA\", \"NA\"]\n",
    "ww=open(\"data/cell_lines_corr-above0-5-\"+alp+\".nodes\",\"w\")\n",
    "ww.write(\"Node_ID\\t\"+header+\"\\n\")\n",
    "for i in sorted(list(bb.nodes())):\n",
    "    ww.write(str(i+1)+\"\\t\"+Cell[i]+\"\\t\"+dic[Cell[i]][0]+\"\\t\"+dic[Cell[i]][1]+\"\\n\")    \n",
    "ww.close()"
   ]
  },
  {
   "cell_type": "markdown",
   "metadata": {},
   "source": [
    "## Computing cancer_type-cancer_type links and node statistics"
   ]
  },
  {
   "cell_type": "code",
   "execution_count": 30,
   "metadata": {},
   "outputs": [],
   "source": [
    "net=open(\"data/cell_lines_corr-above0-5-\"+alp+\".net\",\"r\").read()\n",
    "net=net.split(\"\\n\")\n",
    "net.remove(\"\")\n",
    "net.remove(net[0])\n",
    "link_class={}\n",
    "Nl=len(net)\n",
    "C={}\n",
    "ww1=open(\"data/cell_lines_corr-above0-5-\"+alp+\".linkclass.dat\",\"w\")\n",
    "ww2=open(\"data/cell_lines_corr-above0-5-\"+alp+\".nodeclass.dat\",\"w\")\n",
    "for i in Cell:\n",
    "    for j in Cell:        \n",
    "        link_class[dic[i][0]+\":\"+dic[j][0]]=0\n",
    "        C[dic[i][0]]=0\n",
    "        C[dic[j][0]]=0\n",
    "LIST=[]\n",
    "for l in net:\n",
    "    tmp=l.split(\"\\t\")[0:2]\n",
    "    link_class[dic[Cell[int(tmp[0])-1]][0]+\":\"+dic[Cell[int(tmp[1])-1]][0]]+=1\n",
    "    if tmp[0] not in LIST:\n",
    "        C[dic[Cell[int(tmp[0])-1]][0]]+=1\n",
    "        LIST.append(tmp[0])\n",
    "    if tmp[1] not in LIST:\n",
    "        C[dic[Cell[int(tmp[1])-1]][0]]+=1\n",
    "        LIST.append(tmp[1])\n",
    "N=len(LIST)\n",
    "rez={}\n",
    "LIST=[]\n",
    "cncer=[]\n",
    "W=0\n",
    "for i in link_class.keys():\n",
    "    if i.split(\":\")[0] not in cncer:\n",
    "        cncer.append(i.split(\":\")[0])\n",
    "    if i.split(\":\")[1] not in cncer:\n",
    "        cncer.append(i.split(\":\")[1])\n",
    "    W+=link_class[i]\n",
    "for i in range(len(cncer)):\n",
    "    for j in range(i,len(cncer)):\n",
    "        I=cncer[i]\n",
    "        J=cncer[j]\n",
    "        LIST.append(I+\":\"+J)\n",
    "        if I!=J:\n",
    "            rez[I+\":\"+J]=link_class[I+\":\"+J]+link_class[J+\":\"+I]\n",
    "        if I==J:\n",
    "            rez[I+\":\"+J]=link_class[I+\":\"+J]\n",
    "link_class=[]\n",
    "link_class_name=[]\n",
    "for i in LIST:\n",
    "    if rez[i]>0:\n",
    "        z=0\n",
    "        link_class_name.append(i)\n",
    "        link_class.append(rez[i])\n",
    "tmp=sorted(range(len(link_class)), key=lambda k : link_class[k], reverse=True)\n",
    "ww1.write(\"#SOURCE\\t#TARGET\\t#LINK\\n\")\n",
    "for i in tmp:\n",
    "    ww1.write(link_class_name[i].replace(\":\",\"\\t\")+\"\\t\"+str(link_class[i])+\"\\n\")\n",
    "ww1.close()\n",
    "LIST=[[],[]]\n",
    "for i in C.keys():\n",
    "    if C[i]>0:        \n",
    "        LIST[0].append(i)\n",
    "        LIST[1].append(C[i])\n",
    "tmp=sorted(range(len(LIST[0])), key=lambda k : LIST[1][k], reverse=True)\n",
    "ww2.write(\"#CANCER\"+\"\\t\"+\"#OCCURANCE\"+\"\\n\")\n",
    "for i in tmp:\n",
    "    ww2.write(LIST[0][i]+\"\\t\"+str(LIST[1][i])+\"\\n\")\n",
    "ww2.close()\n"
   ]
  },
  {
   "cell_type": "markdown",
   "metadata": {},
   "source": [
    "## Homophiliness\n"
   ]
  },
  {
   "cell_type": "code",
   "execution_count": 31,
   "metadata": {},
   "outputs": [
    {
     "name": "stdout",
     "output_type": "stream",
     "text": [
      "there are 66.67  % cancer types having heterophylic connections\n"
     ]
    }
   ],
   "source": [
    "a=open(\"data/cell_lines_corr-above0-5-\"+alp+\".linkclass.dat\",\"r\").read()\n",
    "a=a.split(\"\\n\")\n",
    "a.remove(\"\")\n",
    "a.remove(a[0])\n",
    "b=open(\"data/cell_lines_corr-above0-5-\"+alp+\".nodeclass.dat\",\"r\").read()\n",
    "b=b.split(\"\\n\")\n",
    "b.remove(\"\")\n",
    "b.remove(b[0])\n",
    "HOM={}\n",
    "DIFF={}\n",
    "LINK=[]\n",
    "BAL={}\n",
    "ww=open(\"data/cell_lines_corr-above0-5-\"+alp+\".homophiliness\",\"w\")\n",
    "for i in a:\n",
    "    tmp=i.split(\"\\t\")\n",
    "    HOM[tmp[0]]=0\n",
    "    HOM[tmp[1]]=0\n",
    "    DIFF[tmp[0]]=0\n",
    "    DIFF[tmp[1]]=0\n",
    "for i in a:\n",
    "    tmp=i.split(\"\\t\")\n",
    "    if tmp[0] != tmp[1]:\n",
    "        DIFF[tmp[0]]+=int(tmp[2])\n",
    "        DIFF[tmp[1]]+=int(tmp[2])\n",
    "    else:\n",
    "        HOM[tmp[0]]+=int(tmp[2])\n",
    "LIST=[[],[]]\n",
    "for i in a:\n",
    "    tmp=i.split(\"\\t\")\n",
    "    BAL[tmp[0]]=(1.0*(HOM[tmp[0]]-DIFF[tmp[0]]))/(1.0*(HOM[tmp[0]]+DIFF[tmp[0]]))\n",
    "    if tmp[0] not in LIST[0]:\n",
    "        LIST[0].append(tmp[0])\n",
    "        LIST[1].append(BAL[tmp[0]])\n",
    "    BAL[tmp[1]]=(1.0*(HOM[tmp[1]]-DIFF[tmp[1]]))/(1.0*(HOM[tmp[1]]+DIFF[tmp[1]]))\n",
    "    if tmp[1] not in LIST[0]:\n",
    "        LIST[0].append(tmp[1])\n",
    "        LIST[1].append(BAL[tmp[1]])\n",
    "C={}\n",
    "for i in b:\n",
    "    tmp=i.split(\"\\t\")\n",
    "    C[tmp[0]]=tmp[1]\n",
    "tmp=sorted(range(len(LIST[0])), key=lambda k : LIST[1][k], reverse=True)\n",
    "ww.write(\"#CANCER\"+\"\\t\"+\"#HOMOPHILINESS\"+\"\\t\"+\"#NODE_OCCURANCE\"+\"\\n\")\n",
    "w=0.0\n",
    "for i in tmp:\n",
    "    ww.write(LIST[0][i]+\"\\t\"+str(LIST[1][i])+\"\\t\"+C[LIST[0][i]]+\"\\n\")    \n",
    "    if(LIST[1][i]<0.0):\n",
    "        w+=1.0/len(tmp)\n",
    "ww.close()\n",
    "print(\"there are\", round(w*100,2), \" % cancer types having heterophylic connections\")"
   ]
  },
  {
   "cell_type": "markdown",
   "metadata": {},
   "source": [
    "### Cell_Line Homophily\n"
   ]
  },
  {
   "cell_type": "code",
   "execution_count": 32,
   "metadata": {},
   "outputs": [
    {
     "name": "stdout",
     "output_type": "stream",
     "text": [
      "12\t16\t0.751291222148\n",
      "12\tACH-000019\tBreast Cancer\tFemale\n",
      "there are 41.3  % cell_lines having heterophylic connections\n"
     ]
    }
   ],
   "source": [
    "ww=open(\"data/cell_lines_corr-above0-5\"+alp+\"-cell.homophily\",\"w\")\n",
    "ww.write(\"Node_ID\\tDepMap_ID\\t#HOMOPHILINESS\\n\")\n",
    "a=open(\"data/cell_lines_corr-above0-5-\"+alp+\".net\",\"r\").read()\n",
    "b=open(\"data/cell_lines_corr-above0-5-\"+alp+\".nodes\",\"r\").read()\n",
    "a=a.split(\"\\n\")\n",
    "b=b.split(\"\\n\")\n",
    "a.remove(\"\")\n",
    "a.remove(a[0])\n",
    "b.remove(\"\")\n",
    "b.remove(b[0])\n",
    "print(a[0])\n",
    "print(b[0])\n",
    "w=0.0\n",
    "D={}\n",
    "H={}#Homophily\n",
    "h={}#Heterophily\n",
    "B={}\n",
    "for i in b:\n",
    "    tmp=i.split(\"\\t\")\n",
    "    D[tmp[0]]=[tmp[1],tmp[2]]\n",
    "    H[tmp[0]]=0.0\n",
    "    h[tmp[0]]=0.0\n",
    "    B[tmp[0]]=0.0\n",
    "for i in a:\n",
    "    tmp=i.split(\"\\t\")\n",
    "    if(D[tmp[0]][1]==D[tmp[1]][1]):\n",
    "        H[tmp[0]]+=1\n",
    "        H[tmp[1]]+=1\n",
    "    else:\n",
    "        h[tmp[0]]+=1\n",
    "        h[tmp[1]]+=1\n",
    "for i in D.keys():\n",
    "    B[i]=(H[i]-h[i])/(H[i]+h[i])\n",
    "    if B[i]<0.0:\n",
    "        w+=1.0/len(b)\n",
    "for i in D.keys():\n",
    "    ww.write(D[i][0]+\"\\t\"+D[i][1]+str(B[i])+\"\\n\")\n",
    "ww.close()\n",
    "print(\"there are\", round(w*100,2), \" % cell_lines having heterophylic connections\")"
   ]
  },
  {
   "cell_type": "code",
   "execution_count": 33,
   "metadata": {},
   "outputs": [
    {
     "data": {
      "text/html": [
       "<div>\n",
       "<style scoped>\n",
       "    .dataframe tbody tr th:only-of-type {\n",
       "        vertical-align: middle;\n",
       "    }\n",
       "\n",
       "    .dataframe tbody tr th {\n",
       "        vertical-align: top;\n",
       "    }\n",
       "\n",
       "    .dataframe thead th {\n",
       "        text-align: right;\n",
       "    }\n",
       "</style>\n",
       "<table border=\"1\" class=\"dataframe\">\n",
       "  <thead>\n",
       "    <tr style=\"text-align: right;\">\n",
       "      <th></th>\n",
       "    </tr>\n",
       "  </thead>\n",
       "  <tbody>\n",
       "  </tbody>\n",
       "</table>\n",
       "</div>"
      ],
      "text/plain": [
       "Empty DataFrame\n",
       "Columns: []\n",
       "Index: []"
      ]
     },
     "execution_count": 33,
     "metadata": {},
     "output_type": "execute_result"
    }
   ],
   "source": [
    "pd.DataFrame()"
   ]
  },
  {
   "cell_type": "code",
   "execution_count": 34,
   "metadata": {},
   "outputs": [
    {
     "data": {
      "text/html": [
       "<div>\n",
       "<style scoped>\n",
       "    .dataframe tbody tr th:only-of-type {\n",
       "        vertical-align: middle;\n",
       "    }\n",
       "\n",
       "    .dataframe tbody tr th {\n",
       "        vertical-align: top;\n",
       "    }\n",
       "\n",
       "    .dataframe thead th {\n",
       "        text-align: right;\n",
       "    }\n",
       "</style>\n",
       "<table border=\"1\" class=\"dataframe\">\n",
       "  <thead>\n",
       "    <tr style=\"text-align: right;\">\n",
       "      <th></th>\n",
       "      <th>#CANCER</th>\n",
       "      <th>Homophiliness</th>\n",
       "      <th>Number of Cell Lines</th>\n",
       "    </tr>\n",
       "  </thead>\n",
       "  <tbody>\n",
       "    <tr>\n",
       "      <th>0</th>\n",
       "      <td>Kidney Cancer</td>\n",
       "      <td>1.000000</td>\n",
       "      <td>3</td>\n",
       "    </tr>\n",
       "    <tr>\n",
       "      <th>1</th>\n",
       "      <td>Leukemia</td>\n",
       "      <td>0.800000</td>\n",
       "      <td>13</td>\n",
       "    </tr>\n",
       "    <tr>\n",
       "      <th>2</th>\n",
       "      <td>Neuroblastoma</td>\n",
       "      <td>0.230769</td>\n",
       "      <td>7</td>\n",
       "    </tr>\n",
       "    <tr>\n",
       "      <th>3</th>\n",
       "      <td>Pancreatic Cancer</td>\n",
       "      <td>0.058824</td>\n",
       "      <td>13</td>\n",
       "    </tr>\n",
       "    <tr>\n",
       "      <th>4</th>\n",
       "      <td>Lymphoma</td>\n",
       "      <td>0.000000</td>\n",
       "      <td>5</td>\n",
       "    </tr>\n",
       "  </tbody>\n",
       "</table>\n",
       "</div>"
      ],
      "text/plain": [
       "             #CANCER  Homophiliness  Number of Cell Lines\n",
       "0      Kidney Cancer       1.000000                     3\n",
       "1           Leukemia       0.800000                    13\n",
       "2      Neuroblastoma       0.230769                     7\n",
       "3  Pancreatic Cancer       0.058824                    13\n",
       "4           Lymphoma       0.000000                     5"
      ]
     },
     "execution_count": 34,
     "metadata": {},
     "output_type": "execute_result"
    }
   ],
   "source": [
    "cdata = pd.read_csv(\"data/cell_lines_corr-above0-5-\"+alp+\".homophiliness\",sep=\"\\t\")\n",
    "cdata=cdata.rename(columns={'#HOMOPHILINESS':'Homophiliness', '#NODE_OCCURANCE':'Number of Cell Lines'})\n",
    "cdata.head(5)"
   ]
  },
  {
   "cell_type": "code",
   "execution_count": 71,
   "metadata": {},
   "outputs": [
    {
     "ename": "ValueError",
     "evalue": "Image generation requires the psutil package.\n\nInstall using pip:\n    $ pip install psutil\n\nInstall using conda:\n    $ conda install psutil\n",
     "output_type": "error",
     "traceback": [
      "\u001b[0;31m---------------------------------------------------------------------------\u001b[0m",
      "\u001b[0;31mValueError\u001b[0m                                Traceback (most recent call last)",
      "\u001b[0;32m<ipython-input-71-1f93b378c5ce>\u001b[0m in \u001b[0;36m<module>\u001b[0;34m()\u001b[0m\n\u001b[1;32m      1\u001b[0m \u001b[0mfig\u001b[0m \u001b[0;34m=\u001b[0m \u001b[0mpx\u001b[0m\u001b[0;34m.\u001b[0m\u001b[0mscatter\u001b[0m\u001b[0;34m(\u001b[0m\u001b[0mcdata\u001b[0m\u001b[0;34m,\u001b[0m \u001b[0mx\u001b[0m\u001b[0;34m=\u001b[0m\u001b[0;34m'Number of Cell Lines'\u001b[0m\u001b[0;34m,\u001b[0m \u001b[0my\u001b[0m\u001b[0;34m=\u001b[0m\u001b[0;34m'Homophiliness'\u001b[0m\u001b[0;34m,\u001b[0m\u001b[0mtext\u001b[0m\u001b[0;34m=\u001b[0m\u001b[0;34m\"#CANCER\"\u001b[0m\u001b[0;34m)\u001b[0m\u001b[0;34m\u001b[0m\u001b[0;34m\u001b[0m\u001b[0m\n\u001b[1;32m      2\u001b[0m \u001b[0mfig\u001b[0m\u001b[0;34m.\u001b[0m\u001b[0mupdate_traces\u001b[0m\u001b[0;34m(\u001b[0m\u001b[0mtextposition\u001b[0m\u001b[0;34m=\u001b[0m\u001b[0;34m'top center'\u001b[0m\u001b[0;34m,\u001b[0m\u001b[0mmarker\u001b[0m\u001b[0;34m=\u001b[0m\u001b[0;34m{\u001b[0m\u001b[0;34m'size'\u001b[0m\u001b[0;34m:\u001b[0m\u001b[0;36m12\u001b[0m\u001b[0;34m}\u001b[0m\u001b[0;34m)\u001b[0m\u001b[0;34m\u001b[0m\u001b[0;34m\u001b[0m\u001b[0m\n\u001b[0;32m----> 3\u001b[0;31m \u001b[0mfig\u001b[0m\u001b[0;34m.\u001b[0m\u001b[0mwrite_image\u001b[0m\u001b[0;34m(\u001b[0m\u001b[0;34m\"figures/node-count_vs_homophily.svg\"\u001b[0m\u001b[0;34m)\u001b[0m\u001b[0;34m\u001b[0m\u001b[0;34m\u001b[0m\u001b[0m\n\u001b[0m\u001b[1;32m      4\u001b[0m \u001b[0mfig\u001b[0m\u001b[0;34m.\u001b[0m\u001b[0mwrite_image\u001b[0m\u001b[0;34m(\u001b[0m\u001b[0;34m\"figures/node-count_vs_homophily.png\"\u001b[0m\u001b[0;34m)\u001b[0m\u001b[0;34m\u001b[0m\u001b[0;34m\u001b[0m\u001b[0m\n\u001b[1;32m      5\u001b[0m \u001b[0mfig\u001b[0m\u001b[0;34m.\u001b[0m\u001b[0mshow\u001b[0m\u001b[0;34m(\u001b[0m\u001b[0;34m)\u001b[0m\u001b[0;34m\u001b[0m\u001b[0;34m\u001b[0m\u001b[0m\n",
      "\u001b[0;32m/home/ccoquide/.local/lib/python3.6/site-packages/plotly/basedatatypes.py\u001b[0m in \u001b[0;36mwrite_image\u001b[0;34m(self, *args, **kwargs)\u001b[0m\n\u001b[1;32m   2822\u001b[0m         \u001b[0;32mimport\u001b[0m \u001b[0mplotly\u001b[0m\u001b[0;34m.\u001b[0m\u001b[0mio\u001b[0m \u001b[0;32mas\u001b[0m \u001b[0mpio\u001b[0m\u001b[0;34m\u001b[0m\u001b[0;34m\u001b[0m\u001b[0m\n\u001b[1;32m   2823\u001b[0m \u001b[0;34m\u001b[0m\u001b[0m\n\u001b[0;32m-> 2824\u001b[0;31m         \u001b[0;32mreturn\u001b[0m \u001b[0mpio\u001b[0m\u001b[0;34m.\u001b[0m\u001b[0mwrite_image\u001b[0m\u001b[0;34m(\u001b[0m\u001b[0mself\u001b[0m\u001b[0;34m,\u001b[0m \u001b[0;34m*\u001b[0m\u001b[0margs\u001b[0m\u001b[0;34m,\u001b[0m \u001b[0;34m**\u001b[0m\u001b[0mkwargs\u001b[0m\u001b[0;34m)\u001b[0m\u001b[0;34m\u001b[0m\u001b[0;34m\u001b[0m\u001b[0m\n\u001b[0m\u001b[1;32m   2825\u001b[0m \u001b[0;34m\u001b[0m\u001b[0m\n\u001b[1;32m   2826\u001b[0m     \u001b[0;31m# Static helpers\u001b[0m\u001b[0;34m\u001b[0m\u001b[0;34m\u001b[0m\u001b[0;34m\u001b[0m\u001b[0m\n",
      "\u001b[0;32m/home/ccoquide/.local/lib/python3.6/site-packages/plotly/io/_orca.py\u001b[0m in \u001b[0;36mwrite_image\u001b[0;34m(fig, file, format, scale, width, height, validate)\u001b[0m\n\u001b[1;32m   1765\u001b[0m     \u001b[0;31m# Do this first so we don't create a file if image conversion fails\u001b[0m\u001b[0;34m\u001b[0m\u001b[0;34m\u001b[0m\u001b[0;34m\u001b[0m\u001b[0m\n\u001b[1;32m   1766\u001b[0m     img_data = to_image(\n\u001b[0;32m-> 1767\u001b[0;31m         \u001b[0mfig\u001b[0m\u001b[0;34m,\u001b[0m \u001b[0mformat\u001b[0m\u001b[0;34m=\u001b[0m\u001b[0mformat\u001b[0m\u001b[0;34m,\u001b[0m \u001b[0mscale\u001b[0m\u001b[0;34m=\u001b[0m\u001b[0mscale\u001b[0m\u001b[0;34m,\u001b[0m \u001b[0mwidth\u001b[0m\u001b[0;34m=\u001b[0m\u001b[0mwidth\u001b[0m\u001b[0;34m,\u001b[0m \u001b[0mheight\u001b[0m\u001b[0;34m=\u001b[0m\u001b[0mheight\u001b[0m\u001b[0;34m,\u001b[0m \u001b[0mvalidate\u001b[0m\u001b[0;34m=\u001b[0m\u001b[0mvalidate\u001b[0m\u001b[0;34m\u001b[0m\u001b[0;34m\u001b[0m\u001b[0m\n\u001b[0m\u001b[1;32m   1768\u001b[0m     )\n\u001b[1;32m   1769\u001b[0m \u001b[0;34m\u001b[0m\u001b[0m\n",
      "\u001b[0;32m/home/ccoquide/.local/lib/python3.6/site-packages/plotly/io/_orca.py\u001b[0m in \u001b[0;36mto_image\u001b[0;34m(fig, format, width, height, scale, validate)\u001b[0m\n\u001b[1;32m   1530\u001b[0m     \u001b[0;31m# Make sure orca sever is running\u001b[0m\u001b[0;34m\u001b[0m\u001b[0;34m\u001b[0m\u001b[0;34m\u001b[0m\u001b[0m\n\u001b[1;32m   1531\u001b[0m     \u001b[0;31m# -------------------------------\u001b[0m\u001b[0;34m\u001b[0m\u001b[0;34m\u001b[0m\u001b[0;34m\u001b[0m\u001b[0m\n\u001b[0;32m-> 1532\u001b[0;31m     \u001b[0mensure_server\u001b[0m\u001b[0;34m(\u001b[0m\u001b[0;34m)\u001b[0m\u001b[0;34m\u001b[0m\u001b[0;34m\u001b[0m\u001b[0m\n\u001b[0m\u001b[1;32m   1533\u001b[0m \u001b[0;34m\u001b[0m\u001b[0m\n\u001b[1;32m   1534\u001b[0m     \u001b[0;31m# Handle defaults\u001b[0m\u001b[0;34m\u001b[0m\u001b[0;34m\u001b[0m\u001b[0;34m\u001b[0m\u001b[0m\n",
      "\u001b[0;32m/home/ccoquide/.local/lib/python3.6/site-packages/plotly/io/_orca.py\u001b[0m in \u001b[0;36mensure_server\u001b[0;34m()\u001b[0m\n\u001b[1;32m   1368\u001b[0m \u001b[0mInstall\u001b[0m \u001b[0musing\u001b[0m \u001b[0mconda\u001b[0m\u001b[0;34m:\u001b[0m\u001b[0;34m\u001b[0m\u001b[0;34m\u001b[0m\u001b[0m\n\u001b[1;32m   1369\u001b[0m     \u001b[0;31m$\u001b[0m \u001b[0mconda\u001b[0m \u001b[0minstall\u001b[0m \u001b[0mpsutil\u001b[0m\u001b[0;34m\u001b[0m\u001b[0;34m\u001b[0m\u001b[0m\n\u001b[0;32m-> 1370\u001b[0;31m \"\"\"\n\u001b[0m\u001b[1;32m   1371\u001b[0m         )\n\u001b[1;32m   1372\u001b[0m \u001b[0;34m\u001b[0m\u001b[0m\n",
      "\u001b[0;31mValueError\u001b[0m: Image generation requires the psutil package.\n\nInstall using pip:\n    $ pip install psutil\n\nInstall using conda:\n    $ conda install psutil\n"
     ]
    }
   ],
   "source": [
    "fig = px.scatter(cdata, x='Number of Cell Lines', y='Homophiliness',text=\"#CANCER\")\n",
    "fig.update_traces(textposition='top center',marker={'size':12})\n",
    "fig.write_image(\"figures/node-count_vs_homophily.svg\")\n",
    "fig.write_image(\"figures/node-count_vs_homophily.png\")\n",
    "fig.show()"
   ]
  },
  {
   "cell_type": "code",
   "execution_count": null,
   "metadata": {},
   "outputs": [],
   "source": []
  },
  {
   "cell_type": "code",
   "execution_count": null,
   "metadata": {},
   "outputs": [],
   "source": []
  }
 ],
 "metadata": {
  "kernelspec": {
   "display_name": "Python 3",
   "language": "python",
   "name": "python3"
  },
  "language_info": {
   "codemirror_mode": {
    "name": "ipython",
    "version": 3
   },
   "file_extension": ".py",
   "mimetype": "text/x-python",
   "name": "python",
   "nbconvert_exporter": "python",
   "pygments_lexer": "ipython3",
   "version": "3.6.9"
  }
 },
 "nbformat": 4,
 "nbformat_minor": 2
}
