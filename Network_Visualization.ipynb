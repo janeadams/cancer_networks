{
 "cells": [
  {
   "cell_type": "markdown",
   "metadata": {
    "toc": true
   },
   "source": [
    "<h1>Table of Contents<span class=\"tocSkip\"></span></h1>\n",
    "<div class=\"toc\"><ul class=\"toc-item\"></ul></div>"
   ]
  },
  {
   "cell_type": "code",
   "execution_count": 10,
   "metadata": {},
   "outputs": [],
   "source": [
    "import pandas as pd\n",
    "import networkx as nx"
   ]
  },
  {
   "cell_type": "code",
   "execution_count": 17,
   "metadata": {},
   "outputs": [],
   "source": [
    "import plotly as py\n",
    "import plotly.graph_objs as go"
   ]
  },
  {
   "cell_type": "code",
   "execution_count": 62,
   "metadata": {},
   "outputs": [],
   "source": [
    "network = pd.read_csv('data/cell_lines_corr-0-34.net', sep='\\t')\n",
    "node_lookup = pd.read_csv('data/cell_lines_corr-0-34.nodes', sep='\\t')"
   ]
  },
  {
   "cell_type": "code",
   "execution_count": 27,
   "metadata": {},
   "outputs": [
    {
     "data": {
      "text/html": [
       "<div>\n",
       "<style scoped>\n",
       "    .dataframe tbody tr th:only-of-type {\n",
       "        vertical-align: middle;\n",
       "    }\n",
       "\n",
       "    .dataframe tbody tr th {\n",
       "        vertical-align: top;\n",
       "    }\n",
       "\n",
       "    .dataframe thead th {\n",
       "        text-align: right;\n",
       "    }\n",
       "</style>\n",
       "<table border=\"1\" class=\"dataframe\">\n",
       "  <thead>\n",
       "    <tr style=\"text-align: right;\">\n",
       "      <th></th>\n",
       "      <th>Node_ID</th>\n",
       "      <th>DepMap_ID</th>\n",
       "      <th>Primary Disease</th>\n",
       "      <th>Gender</th>\n",
       "    </tr>\n",
       "  </thead>\n",
       "  <tbody>\n",
       "    <tr>\n",
       "      <th>0</th>\n",
       "      <td>10</td>\n",
       "      <td>ACH-000017</td>\n",
       "      <td>Breast Cancer</td>\n",
       "      <td>Female</td>\n",
       "    </tr>\n",
       "    <tr>\n",
       "      <th>1</th>\n",
       "      <td>25</td>\n",
       "      <td>ACH-000042</td>\n",
       "      <td>Pancreatic Cancer</td>\n",
       "      <td>Female</td>\n",
       "    </tr>\n",
       "    <tr>\n",
       "      <th>2</th>\n",
       "      <td>26</td>\n",
       "      <td>ACH-000045</td>\n",
       "      <td>Leukemia</td>\n",
       "      <td>Male</td>\n",
       "    </tr>\n",
       "    <tr>\n",
       "      <th>3</th>\n",
       "      <td>36</td>\n",
       "      <td>ACH-000078</td>\n",
       "      <td>Neuroblastoma</td>\n",
       "      <td>Male</td>\n",
       "    </tr>\n",
       "    <tr>\n",
       "      <th>4</th>\n",
       "      <td>42</td>\n",
       "      <td>ACH-000095</td>\n",
       "      <td>Brain Cancer</td>\n",
       "      <td>Male</td>\n",
       "    </tr>\n",
       "  </tbody>\n",
       "</table>\n",
       "</div>"
      ],
      "text/plain": [
       "   Node_ID   DepMap_ID    Primary Disease  Gender\n",
       "0       10  ACH-000017      Breast Cancer  Female\n",
       "1       25  ACH-000042  Pancreatic Cancer  Female\n",
       "2       26  ACH-000045           Leukemia    Male\n",
       "3       36  ACH-000078      Neuroblastoma    Male\n",
       "4       42  ACH-000095       Brain Cancer    Male"
      ]
     },
     "execution_count": 27,
     "metadata": {},
     "output_type": "execute_result"
    }
   ],
   "source": [
    "node_lookup.head(5)"
   ]
  },
  {
   "cell_type": "code",
   "execution_count": 57,
   "metadata": {},
   "outputs": [],
   "source": [
    "def calculate_positions(thresh_stack):\n",
    "\n",
    "  # Create a networkx graph from the list of pairs\n",
    "  G=nx.from_pandas_edgelist(thresh_stack, '#SOURCE', '#TARGET', ['#WEIGHT'])\n",
    "\n",
    "  # Generate position data for each node:\n",
    "  #pos=layout(G)\n",
    "  # if weighted:\n",
    "  pos=nx.spring_layout(G, weight='#WEIGHT')\n",
    "      \n",
    "  # Save x, y locations of each edge\n",
    "  edge_x = []\n",
    "  edge_y = []\n",
    "\n",
    "  # Calculate x,y positions of an edge's 'start' (x0,y0) and 'end' (x1,y1) points\n",
    "  for edge in G.edges():\n",
    "      x0, y0 = pos[edge[0]]\n",
    "      x1, y1 = pos[edge[1]]\n",
    "      edge_x.append(x0)\n",
    "      edge_x.append(x1)\n",
    "      edge_y.append(y0)\n",
    "      edge_y.append(y1)\n",
    "\n",
    "  # Bundle it all up in a dict:\n",
    "  edges = dict(x=edge_x,y=edge_y)\n",
    "\n",
    "  # Save x, y locations of each node\n",
    "  node_x = []\n",
    "  node_y = []\n",
    "\n",
    "  # Save node stats for annotation\n",
    "  node_name = []\n",
    "  node_adjacencies = []\n",
    "  node_centralities = []\n",
    "\n",
    "  # Calculate x,y positions of nodes\n",
    "  for node in G.nodes():\n",
    "      node_name.append(node)# Save node names\n",
    "      x, y = pos[node]\n",
    "      node_x.append(x)\n",
    "      node_y.append(y)\n",
    "\n",
    "  for node, adjacencies in enumerate(G.adjacency()):\n",
    "      node_adjacencies.append(len(adjacencies[1]))\n",
    "\n",
    "  for n in G.nodes():\n",
    "      node_centralities.append(nx.degree_centrality(G)[n])\n",
    "\n",
    "  # Bundle it all up in a dict:\n",
    "  nodes = dict(x=node_x,y=node_y,name=node_name,adjacencies=node_adjacencies,centralities=node_centralities)\n",
    "\n",
    "  return edges,nodes"
   ]
  },
  {
   "cell_type": "code",
   "execution_count": 58,
   "metadata": {},
   "outputs": [],
   "source": [
    "[edges,nodes] = calculate_positions(network)"
   ]
  },
  {
   "cell_type": "code",
   "execution_count": 59,
   "metadata": {},
   "outputs": [],
   "source": [
    "def draw_graph(edges,nodes,title,**kwargs):\n",
    "\n",
    "  # Draw edges\n",
    "  edge_trace = go.Scatter(\n",
    "      x=edges['x'], y=edges['y'],\n",
    "      line=dict(width=0.5, color='#888'),\n",
    "      mode='lines+markers',\n",
    "      hoverinfo='text')\n",
    "\n",
    "  # Draw nodes\n",
    "  node_trace = go.Scatter(\n",
    "      x=nodes['x'],\n",
    "      y=nodes['y'],\n",
    "      # Optional: Add labels to points *without* hovering (can get a little messy)\n",
    "      mode='markers+text',\n",
    "      # ...or, just add markers (no text)\n",
    "      #mode='markers',\n",
    "      text=[list(node_lookup[node_lookup['Node_ID']==x]['Primary Disease'])[0] for x in nodes['name']],\n",
    "      hoverinfo='text')\n",
    "  filename=title.lower().replace(\" \",\"_\")\n",
    "\n",
    "  # Color the node by its number of connections\n",
    "  #node_trace.marker.color = nodes['adjacencies']\n",
    "  node_trace.marker.color = nodes['centralities']\n",
    "  \n",
    "  # Draw figure\n",
    "  fig = go.Figure(data=[edge_trace,node_trace],\n",
    "            layout=go.Layout(\n",
    "              title=title,\n",
    "              height=600,\n",
    "              titlefont_size=16,\n",
    "              showlegend=False,\n",
    "              hovermode='closest',\n",
    "              margin=dict(b=20,l=5,r=5,t=120),\n",
    "              xaxis=dict(showgrid=False, zeroline=False, showticklabels=False),\n",
    "              yaxis=dict(showgrid=False, zeroline=False, showticklabels=False),\n",
    "              template='plotly_white')\n",
    "              )\n",
    "  \n",
    "  fig.update_traces(textposition='top center')\n",
    "  # Show figure\n",
    "  fig.show()"
   ]
  },
  {
   "cell_type": "code",
   "execution_count": 60,
   "metadata": {},
   "outputs": [
    {
     "data": {
      "application/vnd.plotly.v1+json": {
       "config": {
        "plotlyServerURL": "https://plot.ly"
       },
       "data": [
        {
         "hoverinfo": "text",
         "line": {
          "color": "#888",
          "width": 0.5
         },
         "mode": "lines+markers",
         "textposition": "top center",
         "type": "scatter",
         "x": [
          -0.29493610647643353,
          -0.3277008046342328,
          -0.77604319921441,
          -0.7243839046546269,
          -0.77604319921441,
          -0.7623339636149425,
          -0.7243839046546269,
          -0.7623339636149425,
          -0.4846466607027429,
          -0.38976797357277476,
          -0.4846466607027429,
          -0.558115943907871,
          -0.38976797357277476,
          -0.2749013548968238,
          -0.2749013548968238,
          -0.21575598269699006,
          -0.2749013548968238,
          -0.31664164838304754,
          -0.2749013548968238,
          -0.24055428668636614,
          -0.2749013548968238,
          -0.23897612149857436,
          -0.2749013548968238,
          -0.3086961820405782,
          -0.2749013548968238,
          -0.2045175687550768,
          0.46195653632754147,
          0.40295733681220536,
          0.40295733681220536,
          0.35683055270547714,
          0.40295733681220536,
          0.40677712533477833,
          0.35683055270547714,
          0.35198747639541395,
          0.35683055270547714,
          0.29515742229952757,
          -0.21575598269699006,
          -0.23897612149857436,
          -0.21575598269699006,
          -0.2045175687550768,
          -0.23897612149857436,
          -0.2045175687550768,
          -0.24055428668636614,
          -0.22160468782532203,
          -0.20523192048897634,
          -0.21032844533880654,
          -0.21032844533880654,
          -0.22160468782532203,
          -0.6488623590749263,
          -0.7204603991537541,
          -0.7204603991537541,
          -0.7702930648000862,
          0.30311806876594327,
          0.2941799476636545,
          0.7030806295474751,
          0.7716611038611031,
          0.7030806295474751,
          0.626886890086607,
          0.7012557036083499,
          0.7556166619829571,
          0.45736751141008136,
          0.4977931521866664,
          -0.3944774687196422,
          -0.4179744109281107,
          0.8932407710764511,
          0.8666851733045301,
          0.10563132400981026,
          0.1046253910643902,
          -1,
          -0.9611931806121097,
          0.6906494789337204,
          0.7459732230122789,
          0.37280578063482694,
          0.32291867515652734,
          0.8904891893954165,
          0.8612276874027113,
          -0.7806589663153077,
          -0.791816207985912
         ],
         "y": [
          -0.7075883398814284,
          -0.7449777756481696,
          0.6390018987705882,
          0.6160609039032054,
          0.6390018987705882,
          0.5884543430984652,
          0.6160609039032054,
          0.5884543430984652,
          0.14625719799517464,
          0.10702034492177202,
          0.14625719799517464,
          0.17636977967985973,
          0.10702034492177202,
          0.06432566996662235,
          0.06432566996662235,
          0.08119103363796194,
          0.06432566996662235,
          0.12587214484614573,
          0.06432566996662235,
          -0.05718470888362873,
          0.06432566996662235,
          0.1259806048265224,
          0.06432566996662235,
          0.010854128149633725,
          0.06432566996662235,
          0.11497203259968608,
          0.6236396511967733,
          0.5728292193336773,
          0.5728292193336773,
          0.4735178591186322,
          0.5728292193336773,
          0.6542697160976693,
          0.4735178591186322,
          0.38973532446684395,
          0.4735178591186322,
          0.4242367550639192,
          0.08119103363796194,
          0.1259806048265224,
          0.08119103363796194,
          0.11497203259968608,
          0.1259806048265224,
          0.11497203259968608,
          -0.05718470888362873,
          -0.16536304382806125,
          -0.3326051205755991,
          -0.2588742887968658,
          -0.2588742887968658,
          -0.16536304382806125,
          -0.40630442812089296,
          -0.42163049308933354,
          -0.42163049308933354,
          -0.3962981531978782,
          -0.7464567622139328,
          -0.6811365523855188,
          -0.18957476189803987,
          -0.2063277774277653,
          -0.18957476189803987,
          -0.17098908269986818,
          -0.39866384048719117,
          -0.4371869730154659,
          -0.5646634280538606,
          -0.6095128831903595,
          0.7991744228137494,
          0.8686688760767061,
          0.1853539280163919,
          0.12332385435084132,
          0.7585511594137245,
          0.829406173722506,
          -0.0932687166129386,
          -0.06203964031138895,
          0.48753053460048734,
          0.5301579442795847,
          -0.9563005656281127,
          -0.9574408119076626,
          0.08162328618670954,
          0.1465815504271569,
          -0.5666262348097321,
          -0.6139459548973167
         ]
        },
        {
         "hoverinfo": "text",
         "marker": {
          "color": [
           0.0196078431372549,
           0.0196078431372549,
           0.0392156862745098,
           0.0392156862745098,
           0.0392156862745098,
           0.0392156862745098,
           0.0392156862745098,
           0.0196078431372549,
           0.13725490196078433,
           0.0196078431372549,
           0.058823529411764705,
           0.058823529411764705,
           0.0196078431372549,
           0.058823529411764705,
           0.058823529411764705,
           0.058823529411764705,
           0.0196078431372549,
           0.0392156862745098,
           0.0196078431372549,
           0.0196078431372549,
           0.0392156862745098,
           0.0392156862745098,
           0.0196078431372549,
           0.0392156862745098,
           0.0196078431372549,
           0.0196078431372549,
           0.0196078431372549,
           0.0392156862745098,
           0.0196078431372549,
           0.0196078431372549,
           0.0196078431372549,
           0.0196078431372549,
           0.0196078431372549,
           0.0196078431372549,
           0.0196078431372549,
           0.0196078431372549,
           0.0196078431372549,
           0.0196078431372549,
           0.0196078431372549,
           0.0196078431372549,
           0.0196078431372549,
           0.0196078431372549,
           0.0196078431372549,
           0.0196078431372549,
           0.0196078431372549,
           0.0196078431372549,
           0.0196078431372549,
           0.0196078431372549,
           0.0196078431372549,
           0.0196078431372549,
           0.0196078431372549,
           0.0196078431372549
          ]
         },
         "mode": "markers+text",
         "text": [
          "Breast Cancer",
          "Breast Cancer",
          "Pancreatic Cancer",
          "Pancreatic Cancer",
          "Pancreatic Cancer",
          "Pancreatic Cancer",
          "Esophageal Cancer",
          "Lung Cancer",
          "Esophageal Cancer",
          "Breast Cancer",
          "Ovarian Cancer",
          "Kidney Cancer",
          "Lung Cancer",
          "Rhabdoid",
          "Esophageal Cancer",
          "Skin Cancer",
          "Head and Neck Cancer",
          "Colon/Colorectal Cancer",
          "Lung Cancer",
          "Lung Cancer",
          "Pancreatic Cancer",
          "Endometrial/Uterine Cancer",
          "Skin Cancer",
          "Skin Cancer",
          "Brain Cancer",
          "Neuroblastoma",
          "Neuroblastoma",
          "Leukemia",
          "Leukemia",
          "Leukemia",
          "Leukemia",
          "Colon/Colorectal Cancer",
          "Head and Neck Cancer",
          "Head and Neck Cancer",
          "Leukemia",
          "Leukemia",
          "Kidney Cancer",
          "Kidney Cancer",
          "Ovarian Cancer",
          "Lung Cancer",
          "Skin Cancer",
          "Skin Cancer",
          "Leukemia",
          "Leukemia",
          "Bladder Cancer",
          "Bladder Cancer",
          "Ovarian Cancer",
          "Ovarian Cancer",
          "Eye Cancer",
          "Brain Cancer",
          "Sarcoma",
          "Sarcoma"
         ],
         "textposition": "top center",
         "type": "scatter",
         "x": [
          -0.29493610647643353,
          -0.3277008046342328,
          -0.77604319921441,
          -0.7243839046546269,
          -0.7623339636149425,
          -0.4846466607027429,
          -0.38976797357277476,
          -0.558115943907871,
          -0.2749013548968238,
          0.46195653632754147,
          0.40295733681220536,
          0.35683055270547714,
          0.40677712533477833,
          -0.21575598269699006,
          -0.23897612149857436,
          -0.2045175687550768,
          -0.31664164838304754,
          -0.24055428668636614,
          -0.3086961820405782,
          -0.20523192048897634,
          -0.21032844533880654,
          -0.22160468782532203,
          -0.6488623590749263,
          -0.7204603991537541,
          -0.7702930648000862,
          0.30311806876594327,
          0.2941799476636545,
          0.7030806295474751,
          0.7716611038611031,
          0.626886890086607,
          0.35198747639541395,
          0.29515742229952757,
          0.7012557036083499,
          0.7556166619829571,
          0.45736751141008136,
          0.4977931521866664,
          -0.3944774687196422,
          -0.4179744109281107,
          0.8932407710764511,
          0.8666851733045301,
          0.10563132400981026,
          0.1046253910643902,
          -1,
          -0.9611931806121097,
          0.6906494789337204,
          0.7459732230122789,
          0.37280578063482694,
          0.32291867515652734,
          0.8904891893954165,
          0.8612276874027113,
          -0.7806589663153077,
          -0.791816207985912
         ],
         "y": [
          -0.7075883398814284,
          -0.7449777756481696,
          0.6390018987705882,
          0.6160609039032054,
          0.5884543430984652,
          0.14625719799517464,
          0.10702034492177202,
          0.17636977967985973,
          0.06432566996662235,
          0.6236396511967733,
          0.5728292193336773,
          0.4735178591186322,
          0.6542697160976693,
          0.08119103363796194,
          0.1259806048265224,
          0.11497203259968608,
          0.12587214484614573,
          -0.05718470888362873,
          0.010854128149633725,
          -0.3326051205755991,
          -0.2588742887968658,
          -0.16536304382806125,
          -0.40630442812089296,
          -0.42163049308933354,
          -0.3962981531978782,
          -0.7464567622139328,
          -0.6811365523855188,
          -0.18957476189803987,
          -0.2063277774277653,
          -0.17098908269986818,
          0.38973532446684395,
          0.4242367550639192,
          -0.39866384048719117,
          -0.4371869730154659,
          -0.5646634280538606,
          -0.6095128831903595,
          0.7991744228137494,
          0.8686688760767061,
          0.1853539280163919,
          0.12332385435084132,
          0.7585511594137245,
          0.829406173722506,
          -0.0932687166129386,
          -0.06203964031138895,
          0.48753053460048734,
          0.5301579442795847,
          -0.9563005656281127,
          -0.9574408119076626,
          0.08162328618670954,
          0.1465815504271569,
          -0.5666262348097321,
          -0.6139459548973167
         ]
        }
       ],
       "layout": {
        "height": 600,
        "hovermode": "closest",
        "margin": {
         "b": 20,
         "l": 5,
         "r": 5,
         "t": 120
        },
        "showlegend": false,
        "template": {
         "data": {
          "bar": [
           {
            "error_x": {
             "color": "#2a3f5f"
            },
            "error_y": {
             "color": "#2a3f5f"
            },
            "marker": {
             "line": {
              "color": "white",
              "width": 0.5
             }
            },
            "type": "bar"
           }
          ],
          "barpolar": [
           {
            "marker": {
             "line": {
              "color": "white",
              "width": 0.5
             }
            },
            "type": "barpolar"
           }
          ],
          "carpet": [
           {
            "aaxis": {
             "endlinecolor": "#2a3f5f",
             "gridcolor": "#C8D4E3",
             "linecolor": "#C8D4E3",
             "minorgridcolor": "#C8D4E3",
             "startlinecolor": "#2a3f5f"
            },
            "baxis": {
             "endlinecolor": "#2a3f5f",
             "gridcolor": "#C8D4E3",
             "linecolor": "#C8D4E3",
             "minorgridcolor": "#C8D4E3",
             "startlinecolor": "#2a3f5f"
            },
            "type": "carpet"
           }
          ],
          "choropleth": [
           {
            "colorbar": {
             "outlinewidth": 0,
             "ticks": ""
            },
            "type": "choropleth"
           }
          ],
          "contour": [
           {
            "colorbar": {
             "outlinewidth": 0,
             "ticks": ""
            },
            "colorscale": [
             [
              0,
              "#0d0887"
             ],
             [
              0.1111111111111111,
              "#46039f"
             ],
             [
              0.2222222222222222,
              "#7201a8"
             ],
             [
              0.3333333333333333,
              "#9c179e"
             ],
             [
              0.4444444444444444,
              "#bd3786"
             ],
             [
              0.5555555555555556,
              "#d8576b"
             ],
             [
              0.6666666666666666,
              "#ed7953"
             ],
             [
              0.7777777777777778,
              "#fb9f3a"
             ],
             [
              0.8888888888888888,
              "#fdca26"
             ],
             [
              1,
              "#f0f921"
             ]
            ],
            "type": "contour"
           }
          ],
          "contourcarpet": [
           {
            "colorbar": {
             "outlinewidth": 0,
             "ticks": ""
            },
            "type": "contourcarpet"
           }
          ],
          "heatmap": [
           {
            "colorbar": {
             "outlinewidth": 0,
             "ticks": ""
            },
            "colorscale": [
             [
              0,
              "#0d0887"
             ],
             [
              0.1111111111111111,
              "#46039f"
             ],
             [
              0.2222222222222222,
              "#7201a8"
             ],
             [
              0.3333333333333333,
              "#9c179e"
             ],
             [
              0.4444444444444444,
              "#bd3786"
             ],
             [
              0.5555555555555556,
              "#d8576b"
             ],
             [
              0.6666666666666666,
              "#ed7953"
             ],
             [
              0.7777777777777778,
              "#fb9f3a"
             ],
             [
              0.8888888888888888,
              "#fdca26"
             ],
             [
              1,
              "#f0f921"
             ]
            ],
            "type": "heatmap"
           }
          ],
          "heatmapgl": [
           {
            "colorbar": {
             "outlinewidth": 0,
             "ticks": ""
            },
            "colorscale": [
             [
              0,
              "#0d0887"
             ],
             [
              0.1111111111111111,
              "#46039f"
             ],
             [
              0.2222222222222222,
              "#7201a8"
             ],
             [
              0.3333333333333333,
              "#9c179e"
             ],
             [
              0.4444444444444444,
              "#bd3786"
             ],
             [
              0.5555555555555556,
              "#d8576b"
             ],
             [
              0.6666666666666666,
              "#ed7953"
             ],
             [
              0.7777777777777778,
              "#fb9f3a"
             ],
             [
              0.8888888888888888,
              "#fdca26"
             ],
             [
              1,
              "#f0f921"
             ]
            ],
            "type": "heatmapgl"
           }
          ],
          "histogram": [
           {
            "marker": {
             "colorbar": {
              "outlinewidth": 0,
              "ticks": ""
             }
            },
            "type": "histogram"
           }
          ],
          "histogram2d": [
           {
            "colorbar": {
             "outlinewidth": 0,
             "ticks": ""
            },
            "colorscale": [
             [
              0,
              "#0d0887"
             ],
             [
              0.1111111111111111,
              "#46039f"
             ],
             [
              0.2222222222222222,
              "#7201a8"
             ],
             [
              0.3333333333333333,
              "#9c179e"
             ],
             [
              0.4444444444444444,
              "#bd3786"
             ],
             [
              0.5555555555555556,
              "#d8576b"
             ],
             [
              0.6666666666666666,
              "#ed7953"
             ],
             [
              0.7777777777777778,
              "#fb9f3a"
             ],
             [
              0.8888888888888888,
              "#fdca26"
             ],
             [
              1,
              "#f0f921"
             ]
            ],
            "type": "histogram2d"
           }
          ],
          "histogram2dcontour": [
           {
            "colorbar": {
             "outlinewidth": 0,
             "ticks": ""
            },
            "colorscale": [
             [
              0,
              "#0d0887"
             ],
             [
              0.1111111111111111,
              "#46039f"
             ],
             [
              0.2222222222222222,
              "#7201a8"
             ],
             [
              0.3333333333333333,
              "#9c179e"
             ],
             [
              0.4444444444444444,
              "#bd3786"
             ],
             [
              0.5555555555555556,
              "#d8576b"
             ],
             [
              0.6666666666666666,
              "#ed7953"
             ],
             [
              0.7777777777777778,
              "#fb9f3a"
             ],
             [
              0.8888888888888888,
              "#fdca26"
             ],
             [
              1,
              "#f0f921"
             ]
            ],
            "type": "histogram2dcontour"
           }
          ],
          "mesh3d": [
           {
            "colorbar": {
             "outlinewidth": 0,
             "ticks": ""
            },
            "type": "mesh3d"
           }
          ],
          "parcoords": [
           {
            "line": {
             "colorbar": {
              "outlinewidth": 0,
              "ticks": ""
             }
            },
            "type": "parcoords"
           }
          ],
          "pie": [
           {
            "automargin": true,
            "type": "pie"
           }
          ],
          "scatter": [
           {
            "marker": {
             "colorbar": {
              "outlinewidth": 0,
              "ticks": ""
             }
            },
            "type": "scatter"
           }
          ],
          "scatter3d": [
           {
            "line": {
             "colorbar": {
              "outlinewidth": 0,
              "ticks": ""
             }
            },
            "marker": {
             "colorbar": {
              "outlinewidth": 0,
              "ticks": ""
             }
            },
            "type": "scatter3d"
           }
          ],
          "scattercarpet": [
           {
            "marker": {
             "colorbar": {
              "outlinewidth": 0,
              "ticks": ""
             }
            },
            "type": "scattercarpet"
           }
          ],
          "scattergeo": [
           {
            "marker": {
             "colorbar": {
              "outlinewidth": 0,
              "ticks": ""
             }
            },
            "type": "scattergeo"
           }
          ],
          "scattergl": [
           {
            "marker": {
             "colorbar": {
              "outlinewidth": 0,
              "ticks": ""
             }
            },
            "type": "scattergl"
           }
          ],
          "scattermapbox": [
           {
            "marker": {
             "colorbar": {
              "outlinewidth": 0,
              "ticks": ""
             }
            },
            "type": "scattermapbox"
           }
          ],
          "scatterpolar": [
           {
            "marker": {
             "colorbar": {
              "outlinewidth": 0,
              "ticks": ""
             }
            },
            "type": "scatterpolar"
           }
          ],
          "scatterpolargl": [
           {
            "marker": {
             "colorbar": {
              "outlinewidth": 0,
              "ticks": ""
             }
            },
            "type": "scatterpolargl"
           }
          ],
          "scatterternary": [
           {
            "marker": {
             "colorbar": {
              "outlinewidth": 0,
              "ticks": ""
             }
            },
            "type": "scatterternary"
           }
          ],
          "surface": [
           {
            "colorbar": {
             "outlinewidth": 0,
             "ticks": ""
            },
            "colorscale": [
             [
              0,
              "#0d0887"
             ],
             [
              0.1111111111111111,
              "#46039f"
             ],
             [
              0.2222222222222222,
              "#7201a8"
             ],
             [
              0.3333333333333333,
              "#9c179e"
             ],
             [
              0.4444444444444444,
              "#bd3786"
             ],
             [
              0.5555555555555556,
              "#d8576b"
             ],
             [
              0.6666666666666666,
              "#ed7953"
             ],
             [
              0.7777777777777778,
              "#fb9f3a"
             ],
             [
              0.8888888888888888,
              "#fdca26"
             ],
             [
              1,
              "#f0f921"
             ]
            ],
            "type": "surface"
           }
          ],
          "table": [
           {
            "cells": {
             "fill": {
              "color": "#EBF0F8"
             },
             "line": {
              "color": "white"
             }
            },
            "header": {
             "fill": {
              "color": "#C8D4E3"
             },
             "line": {
              "color": "white"
             }
            },
            "type": "table"
           }
          ]
         },
         "layout": {
          "annotationdefaults": {
           "arrowcolor": "#2a3f5f",
           "arrowhead": 0,
           "arrowwidth": 1
          },
          "coloraxis": {
           "colorbar": {
            "outlinewidth": 0,
            "ticks": ""
           }
          },
          "colorscale": {
           "diverging": [
            [
             0,
             "#8e0152"
            ],
            [
             0.1,
             "#c51b7d"
            ],
            [
             0.2,
             "#de77ae"
            ],
            [
             0.3,
             "#f1b6da"
            ],
            [
             0.4,
             "#fde0ef"
            ],
            [
             0.5,
             "#f7f7f7"
            ],
            [
             0.6,
             "#e6f5d0"
            ],
            [
             0.7,
             "#b8e186"
            ],
            [
             0.8,
             "#7fbc41"
            ],
            [
             0.9,
             "#4d9221"
            ],
            [
             1,
             "#276419"
            ]
           ],
           "sequential": [
            [
             0,
             "#0d0887"
            ],
            [
             0.1111111111111111,
             "#46039f"
            ],
            [
             0.2222222222222222,
             "#7201a8"
            ],
            [
             0.3333333333333333,
             "#9c179e"
            ],
            [
             0.4444444444444444,
             "#bd3786"
            ],
            [
             0.5555555555555556,
             "#d8576b"
            ],
            [
             0.6666666666666666,
             "#ed7953"
            ],
            [
             0.7777777777777778,
             "#fb9f3a"
            ],
            [
             0.8888888888888888,
             "#fdca26"
            ],
            [
             1,
             "#f0f921"
            ]
           ],
           "sequentialminus": [
            [
             0,
             "#0d0887"
            ],
            [
             0.1111111111111111,
             "#46039f"
            ],
            [
             0.2222222222222222,
             "#7201a8"
            ],
            [
             0.3333333333333333,
             "#9c179e"
            ],
            [
             0.4444444444444444,
             "#bd3786"
            ],
            [
             0.5555555555555556,
             "#d8576b"
            ],
            [
             0.6666666666666666,
             "#ed7953"
            ],
            [
             0.7777777777777778,
             "#fb9f3a"
            ],
            [
             0.8888888888888888,
             "#fdca26"
            ],
            [
             1,
             "#f0f921"
            ]
           ]
          },
          "colorway": [
           "#636efa",
           "#EF553B",
           "#00cc96",
           "#ab63fa",
           "#FFA15A",
           "#19d3f3",
           "#FF6692",
           "#B6E880",
           "#FF97FF",
           "#FECB52"
          ],
          "font": {
           "color": "#2a3f5f"
          },
          "geo": {
           "bgcolor": "white",
           "lakecolor": "white",
           "landcolor": "white",
           "showlakes": true,
           "showland": true,
           "subunitcolor": "#C8D4E3"
          },
          "hoverlabel": {
           "align": "left"
          },
          "hovermode": "closest",
          "mapbox": {
           "style": "light"
          },
          "paper_bgcolor": "white",
          "plot_bgcolor": "white",
          "polar": {
           "angularaxis": {
            "gridcolor": "#EBF0F8",
            "linecolor": "#EBF0F8",
            "ticks": ""
           },
           "bgcolor": "white",
           "radialaxis": {
            "gridcolor": "#EBF0F8",
            "linecolor": "#EBF0F8",
            "ticks": ""
           }
          },
          "scene": {
           "xaxis": {
            "backgroundcolor": "white",
            "gridcolor": "#DFE8F3",
            "gridwidth": 2,
            "linecolor": "#EBF0F8",
            "showbackground": true,
            "ticks": "",
            "zerolinecolor": "#EBF0F8"
           },
           "yaxis": {
            "backgroundcolor": "white",
            "gridcolor": "#DFE8F3",
            "gridwidth": 2,
            "linecolor": "#EBF0F8",
            "showbackground": true,
            "ticks": "",
            "zerolinecolor": "#EBF0F8"
           },
           "zaxis": {
            "backgroundcolor": "white",
            "gridcolor": "#DFE8F3",
            "gridwidth": 2,
            "linecolor": "#EBF0F8",
            "showbackground": true,
            "ticks": "",
            "zerolinecolor": "#EBF0F8"
           }
          },
          "shapedefaults": {
           "line": {
            "color": "#2a3f5f"
           }
          },
          "ternary": {
           "aaxis": {
            "gridcolor": "#DFE8F3",
            "linecolor": "#A2B1C6",
            "ticks": ""
           },
           "baxis": {
            "gridcolor": "#DFE8F3",
            "linecolor": "#A2B1C6",
            "ticks": ""
           },
           "bgcolor": "white",
           "caxis": {
            "gridcolor": "#DFE8F3",
            "linecolor": "#A2B1C6",
            "ticks": ""
           }
          },
          "title": {
           "x": 0.05
          },
          "xaxis": {
           "automargin": true,
           "gridcolor": "#EBF0F8",
           "linecolor": "#EBF0F8",
           "ticks": "",
           "title": {
            "standoff": 15
           },
           "zerolinecolor": "#EBF0F8",
           "zerolinewidth": 2
          },
          "yaxis": {
           "automargin": true,
           "gridcolor": "#EBF0F8",
           "linecolor": "#EBF0F8",
           "ticks": "",
           "title": {
            "standoff": 15
           },
           "zerolinecolor": "#EBF0F8",
           "zerolinewidth": 2
          }
         }
        },
        "title": {
         "font": {
          "size": 16
         },
         "text": "Network Graph of Cell Lines"
        },
        "xaxis": {
         "showgrid": false,
         "showticklabels": false,
         "zeroline": false
        },
        "yaxis": {
         "showgrid": false,
         "showticklabels": false,
         "zeroline": false
        }
       }
      },
      "text/html": [
       "<div>\n",
       "        \n",
       "        \n",
       "            <div id=\"6193a2a1-8877-449b-a32f-1a4f5874b547\" class=\"plotly-graph-div\" style=\"height:600px; width:100%;\"></div>\n",
       "            <script type=\"text/javascript\">\n",
       "                require([\"plotly\"], function(Plotly) {\n",
       "                    window.PLOTLYENV=window.PLOTLYENV || {};\n",
       "                    \n",
       "                if (document.getElementById(\"6193a2a1-8877-449b-a32f-1a4f5874b547\")) {\n",
       "                    Plotly.newPlot(\n",
       "                        '6193a2a1-8877-449b-a32f-1a4f5874b547',\n",
       "                        [{\"hoverinfo\": \"text\", \"line\": {\"color\": \"#888\", \"width\": 0.5}, \"mode\": \"lines+markers\", \"textposition\": \"top center\", \"type\": \"scatter\", \"x\": [-0.29493610647643353, -0.3277008046342328, -0.77604319921441, -0.7243839046546269, -0.77604319921441, -0.7623339636149425, -0.7243839046546269, -0.7623339636149425, -0.4846466607027429, -0.38976797357277476, -0.4846466607027429, -0.558115943907871, -0.38976797357277476, -0.2749013548968238, -0.2749013548968238, -0.21575598269699006, -0.2749013548968238, -0.31664164838304754, -0.2749013548968238, -0.24055428668636614, -0.2749013548968238, -0.23897612149857436, -0.2749013548968238, -0.3086961820405782, -0.2749013548968238, -0.2045175687550768, 0.46195653632754147, 0.40295733681220536, 0.40295733681220536, 0.35683055270547714, 0.40295733681220536, 0.40677712533477833, 0.35683055270547714, 0.35198747639541395, 0.35683055270547714, 0.29515742229952757, -0.21575598269699006, -0.23897612149857436, -0.21575598269699006, -0.2045175687550768, -0.23897612149857436, -0.2045175687550768, -0.24055428668636614, -0.22160468782532203, -0.20523192048897634, -0.21032844533880654, -0.21032844533880654, -0.22160468782532203, -0.6488623590749263, -0.7204603991537541, -0.7204603991537541, -0.7702930648000862, 0.30311806876594327, 0.2941799476636545, 0.7030806295474751, 0.7716611038611031, 0.7030806295474751, 0.626886890086607, 0.7012557036083499, 0.7556166619829571, 0.45736751141008136, 0.4977931521866664, -0.3944774687196422, -0.4179744109281107, 0.8932407710764511, 0.8666851733045301, 0.10563132400981026, 0.1046253910643902, -1.0, -0.9611931806121097, 0.6906494789337204, 0.7459732230122789, 0.37280578063482694, 0.32291867515652734, 0.8904891893954165, 0.8612276874027113, -0.7806589663153077, -0.791816207985912], \"y\": [-0.7075883398814284, -0.7449777756481696, 0.6390018987705882, 0.6160609039032054, 0.6390018987705882, 0.5884543430984652, 0.6160609039032054, 0.5884543430984652, 0.14625719799517464, 0.10702034492177202, 0.14625719799517464, 0.17636977967985973, 0.10702034492177202, 0.06432566996662235, 0.06432566996662235, 0.08119103363796194, 0.06432566996662235, 0.12587214484614573, 0.06432566996662235, -0.05718470888362873, 0.06432566996662235, 0.1259806048265224, 0.06432566996662235, 0.010854128149633725, 0.06432566996662235, 0.11497203259968608, 0.6236396511967733, 0.5728292193336773, 0.5728292193336773, 0.4735178591186322, 0.5728292193336773, 0.6542697160976693, 0.4735178591186322, 0.38973532446684395, 0.4735178591186322, 0.4242367550639192, 0.08119103363796194, 0.1259806048265224, 0.08119103363796194, 0.11497203259968608, 0.1259806048265224, 0.11497203259968608, -0.05718470888362873, -0.16536304382806125, -0.3326051205755991, -0.2588742887968658, -0.2588742887968658, -0.16536304382806125, -0.40630442812089296, -0.42163049308933354, -0.42163049308933354, -0.3962981531978782, -0.7464567622139328, -0.6811365523855188, -0.18957476189803987, -0.2063277774277653, -0.18957476189803987, -0.17098908269986818, -0.39866384048719117, -0.4371869730154659, -0.5646634280538606, -0.6095128831903595, 0.7991744228137494, 0.8686688760767061, 0.1853539280163919, 0.12332385435084132, 0.7585511594137245, 0.829406173722506, -0.0932687166129386, -0.06203964031138895, 0.48753053460048734, 0.5301579442795847, -0.9563005656281127, -0.9574408119076626, 0.08162328618670954, 0.1465815504271569, -0.5666262348097321, -0.6139459548973167]}, {\"hoverinfo\": \"text\", \"marker\": {\"color\": [0.0196078431372549, 0.0196078431372549, 0.0392156862745098, 0.0392156862745098, 0.0392156862745098, 0.0392156862745098, 0.0392156862745098, 0.0196078431372549, 0.13725490196078433, 0.0196078431372549, 0.058823529411764705, 0.058823529411764705, 0.0196078431372549, 0.058823529411764705, 0.058823529411764705, 0.058823529411764705, 0.0196078431372549, 0.0392156862745098, 0.0196078431372549, 0.0196078431372549, 0.0392156862745098, 0.0392156862745098, 0.0196078431372549, 0.0392156862745098, 0.0196078431372549, 0.0196078431372549, 0.0196078431372549, 0.0392156862745098, 0.0196078431372549, 0.0196078431372549, 0.0196078431372549, 0.0196078431372549, 0.0196078431372549, 0.0196078431372549, 0.0196078431372549, 0.0196078431372549, 0.0196078431372549, 0.0196078431372549, 0.0196078431372549, 0.0196078431372549, 0.0196078431372549, 0.0196078431372549, 0.0196078431372549, 0.0196078431372549, 0.0196078431372549, 0.0196078431372549, 0.0196078431372549, 0.0196078431372549, 0.0196078431372549, 0.0196078431372549, 0.0196078431372549, 0.0196078431372549]}, \"mode\": \"markers+text\", \"text\": [\"Breast Cancer\", \"Breast Cancer\", \"Pancreatic Cancer\", \"Pancreatic Cancer\", \"Pancreatic Cancer\", \"Pancreatic Cancer\", \"Esophageal Cancer\", \"Lung Cancer\", \"Esophageal Cancer\", \"Breast Cancer\", \"Ovarian Cancer\", \"Kidney Cancer\", \"Lung Cancer\", \"Rhabdoid\", \"Esophageal Cancer\", \"Skin Cancer\", \"Head and Neck Cancer\", \"Colon/Colorectal Cancer\", \"Lung Cancer\", \"Lung Cancer\", \"Pancreatic Cancer\", \"Endometrial/Uterine Cancer\", \"Skin Cancer\", \"Skin Cancer\", \"Brain Cancer\", \"Neuroblastoma\", \"Neuroblastoma\", \"Leukemia\", \"Leukemia\", \"Leukemia\", \"Leukemia\", \"Colon/Colorectal Cancer\", \"Head and Neck Cancer\", \"Head and Neck Cancer\", \"Leukemia\", \"Leukemia\", \"Kidney Cancer\", \"Kidney Cancer\", \"Ovarian Cancer\", \"Lung Cancer\", \"Skin Cancer\", \"Skin Cancer\", \"Leukemia\", \"Leukemia\", \"Bladder Cancer\", \"Bladder Cancer\", \"Ovarian Cancer\", \"Ovarian Cancer\", \"Eye Cancer\", \"Brain Cancer\", \"Sarcoma\", \"Sarcoma\"], \"textposition\": \"top center\", \"type\": \"scatter\", \"x\": [-0.29493610647643353, -0.3277008046342328, -0.77604319921441, -0.7243839046546269, -0.7623339636149425, -0.4846466607027429, -0.38976797357277476, -0.558115943907871, -0.2749013548968238, 0.46195653632754147, 0.40295733681220536, 0.35683055270547714, 0.40677712533477833, -0.21575598269699006, -0.23897612149857436, -0.2045175687550768, -0.31664164838304754, -0.24055428668636614, -0.3086961820405782, -0.20523192048897634, -0.21032844533880654, -0.22160468782532203, -0.6488623590749263, -0.7204603991537541, -0.7702930648000862, 0.30311806876594327, 0.2941799476636545, 0.7030806295474751, 0.7716611038611031, 0.626886890086607, 0.35198747639541395, 0.29515742229952757, 0.7012557036083499, 0.7556166619829571, 0.45736751141008136, 0.4977931521866664, -0.3944774687196422, -0.4179744109281107, 0.8932407710764511, 0.8666851733045301, 0.10563132400981026, 0.1046253910643902, -1.0, -0.9611931806121097, 0.6906494789337204, 0.7459732230122789, 0.37280578063482694, 0.32291867515652734, 0.8904891893954165, 0.8612276874027113, -0.7806589663153077, -0.791816207985912], \"y\": [-0.7075883398814284, -0.7449777756481696, 0.6390018987705882, 0.6160609039032054, 0.5884543430984652, 0.14625719799517464, 0.10702034492177202, 0.17636977967985973, 0.06432566996662235, 0.6236396511967733, 0.5728292193336773, 0.4735178591186322, 0.6542697160976693, 0.08119103363796194, 0.1259806048265224, 0.11497203259968608, 0.12587214484614573, -0.05718470888362873, 0.010854128149633725, -0.3326051205755991, -0.2588742887968658, -0.16536304382806125, -0.40630442812089296, -0.42163049308933354, -0.3962981531978782, -0.7464567622139328, -0.6811365523855188, -0.18957476189803987, -0.2063277774277653, -0.17098908269986818, 0.38973532446684395, 0.4242367550639192, -0.39866384048719117, -0.4371869730154659, -0.5646634280538606, -0.6095128831903595, 0.7991744228137494, 0.8686688760767061, 0.1853539280163919, 0.12332385435084132, 0.7585511594137245, 0.829406173722506, -0.0932687166129386, -0.06203964031138895, 0.48753053460048734, 0.5301579442795847, -0.9563005656281127, -0.9574408119076626, 0.08162328618670954, 0.1465815504271569, -0.5666262348097321, -0.6139459548973167]}],\n",
       "                        {\"height\": 600, \"hovermode\": \"closest\", \"margin\": {\"b\": 20, \"l\": 5, \"r\": 5, \"t\": 120}, \"showlegend\": false, \"template\": {\"data\": {\"bar\": [{\"error_x\": {\"color\": \"#2a3f5f\"}, \"error_y\": {\"color\": \"#2a3f5f\"}, \"marker\": {\"line\": {\"color\": \"white\", \"width\": 0.5}}, \"type\": \"bar\"}], \"barpolar\": [{\"marker\": {\"line\": {\"color\": \"white\", \"width\": 0.5}}, \"type\": \"barpolar\"}], \"carpet\": [{\"aaxis\": {\"endlinecolor\": \"#2a3f5f\", \"gridcolor\": \"#C8D4E3\", \"linecolor\": \"#C8D4E3\", \"minorgridcolor\": \"#C8D4E3\", \"startlinecolor\": \"#2a3f5f\"}, \"baxis\": {\"endlinecolor\": \"#2a3f5f\", \"gridcolor\": \"#C8D4E3\", \"linecolor\": \"#C8D4E3\", \"minorgridcolor\": \"#C8D4E3\", \"startlinecolor\": \"#2a3f5f\"}, \"type\": \"carpet\"}], \"choropleth\": [{\"colorbar\": {\"outlinewidth\": 0, \"ticks\": \"\"}, \"type\": \"choropleth\"}], \"contour\": [{\"colorbar\": {\"outlinewidth\": 0, \"ticks\": \"\"}, \"colorscale\": [[0.0, \"#0d0887\"], [0.1111111111111111, \"#46039f\"], [0.2222222222222222, \"#7201a8\"], [0.3333333333333333, \"#9c179e\"], [0.4444444444444444, \"#bd3786\"], [0.5555555555555556, \"#d8576b\"], [0.6666666666666666, \"#ed7953\"], [0.7777777777777778, \"#fb9f3a\"], [0.8888888888888888, \"#fdca26\"], [1.0, \"#f0f921\"]], \"type\": \"contour\"}], \"contourcarpet\": [{\"colorbar\": {\"outlinewidth\": 0, \"ticks\": \"\"}, \"type\": \"contourcarpet\"}], \"heatmap\": [{\"colorbar\": {\"outlinewidth\": 0, \"ticks\": \"\"}, \"colorscale\": [[0.0, \"#0d0887\"], [0.1111111111111111, \"#46039f\"], [0.2222222222222222, \"#7201a8\"], [0.3333333333333333, \"#9c179e\"], [0.4444444444444444, \"#bd3786\"], [0.5555555555555556, \"#d8576b\"], [0.6666666666666666, \"#ed7953\"], [0.7777777777777778, \"#fb9f3a\"], [0.8888888888888888, \"#fdca26\"], [1.0, \"#f0f921\"]], \"type\": \"heatmap\"}], \"heatmapgl\": [{\"colorbar\": {\"outlinewidth\": 0, \"ticks\": \"\"}, \"colorscale\": [[0.0, \"#0d0887\"], [0.1111111111111111, \"#46039f\"], [0.2222222222222222, \"#7201a8\"], [0.3333333333333333, \"#9c179e\"], [0.4444444444444444, \"#bd3786\"], [0.5555555555555556, \"#d8576b\"], [0.6666666666666666, \"#ed7953\"], [0.7777777777777778, \"#fb9f3a\"], [0.8888888888888888, \"#fdca26\"], [1.0, \"#f0f921\"]], \"type\": \"heatmapgl\"}], \"histogram\": [{\"marker\": {\"colorbar\": {\"outlinewidth\": 0, \"ticks\": \"\"}}, \"type\": \"histogram\"}], \"histogram2d\": [{\"colorbar\": {\"outlinewidth\": 0, \"ticks\": \"\"}, \"colorscale\": [[0.0, \"#0d0887\"], [0.1111111111111111, \"#46039f\"], [0.2222222222222222, \"#7201a8\"], [0.3333333333333333, \"#9c179e\"], [0.4444444444444444, \"#bd3786\"], [0.5555555555555556, \"#d8576b\"], [0.6666666666666666, \"#ed7953\"], [0.7777777777777778, \"#fb9f3a\"], [0.8888888888888888, \"#fdca26\"], [1.0, \"#f0f921\"]], \"type\": \"histogram2d\"}], \"histogram2dcontour\": [{\"colorbar\": {\"outlinewidth\": 0, \"ticks\": \"\"}, \"colorscale\": [[0.0, \"#0d0887\"], [0.1111111111111111, \"#46039f\"], [0.2222222222222222, \"#7201a8\"], [0.3333333333333333, \"#9c179e\"], [0.4444444444444444, \"#bd3786\"], [0.5555555555555556, \"#d8576b\"], [0.6666666666666666, \"#ed7953\"], [0.7777777777777778, \"#fb9f3a\"], [0.8888888888888888, \"#fdca26\"], [1.0, \"#f0f921\"]], \"type\": \"histogram2dcontour\"}], \"mesh3d\": [{\"colorbar\": {\"outlinewidth\": 0, \"ticks\": \"\"}, \"type\": \"mesh3d\"}], \"parcoords\": [{\"line\": {\"colorbar\": {\"outlinewidth\": 0, \"ticks\": \"\"}}, \"type\": \"parcoords\"}], \"pie\": [{\"automargin\": true, \"type\": \"pie\"}], \"scatter\": [{\"marker\": {\"colorbar\": {\"outlinewidth\": 0, \"ticks\": \"\"}}, \"type\": \"scatter\"}], \"scatter3d\": [{\"line\": {\"colorbar\": {\"outlinewidth\": 0, \"ticks\": \"\"}}, \"marker\": {\"colorbar\": {\"outlinewidth\": 0, \"ticks\": \"\"}}, \"type\": \"scatter3d\"}], \"scattercarpet\": [{\"marker\": {\"colorbar\": {\"outlinewidth\": 0, \"ticks\": \"\"}}, \"type\": \"scattercarpet\"}], \"scattergeo\": [{\"marker\": {\"colorbar\": {\"outlinewidth\": 0, \"ticks\": \"\"}}, \"type\": \"scattergeo\"}], \"scattergl\": [{\"marker\": {\"colorbar\": {\"outlinewidth\": 0, \"ticks\": \"\"}}, \"type\": \"scattergl\"}], \"scattermapbox\": [{\"marker\": {\"colorbar\": {\"outlinewidth\": 0, \"ticks\": \"\"}}, \"type\": \"scattermapbox\"}], \"scatterpolar\": [{\"marker\": {\"colorbar\": {\"outlinewidth\": 0, \"ticks\": \"\"}}, \"type\": \"scatterpolar\"}], \"scatterpolargl\": [{\"marker\": {\"colorbar\": {\"outlinewidth\": 0, \"ticks\": \"\"}}, \"type\": \"scatterpolargl\"}], \"scatterternary\": [{\"marker\": {\"colorbar\": {\"outlinewidth\": 0, \"ticks\": \"\"}}, \"type\": \"scatterternary\"}], \"surface\": [{\"colorbar\": {\"outlinewidth\": 0, \"ticks\": \"\"}, \"colorscale\": [[0.0, \"#0d0887\"], [0.1111111111111111, \"#46039f\"], [0.2222222222222222, \"#7201a8\"], [0.3333333333333333, \"#9c179e\"], [0.4444444444444444, \"#bd3786\"], [0.5555555555555556, \"#d8576b\"], [0.6666666666666666, \"#ed7953\"], [0.7777777777777778, \"#fb9f3a\"], [0.8888888888888888, \"#fdca26\"], [1.0, \"#f0f921\"]], \"type\": \"surface\"}], \"table\": [{\"cells\": {\"fill\": {\"color\": \"#EBF0F8\"}, \"line\": {\"color\": \"white\"}}, \"header\": {\"fill\": {\"color\": \"#C8D4E3\"}, \"line\": {\"color\": \"white\"}}, \"type\": \"table\"}]}, \"layout\": {\"annotationdefaults\": {\"arrowcolor\": \"#2a3f5f\", \"arrowhead\": 0, \"arrowwidth\": 1}, \"coloraxis\": {\"colorbar\": {\"outlinewidth\": 0, \"ticks\": \"\"}}, \"colorscale\": {\"diverging\": [[0, \"#8e0152\"], [0.1, \"#c51b7d\"], [0.2, \"#de77ae\"], [0.3, \"#f1b6da\"], [0.4, \"#fde0ef\"], [0.5, \"#f7f7f7\"], [0.6, \"#e6f5d0\"], [0.7, \"#b8e186\"], [0.8, \"#7fbc41\"], [0.9, \"#4d9221\"], [1, \"#276419\"]], \"sequential\": [[0.0, \"#0d0887\"], [0.1111111111111111, \"#46039f\"], [0.2222222222222222, \"#7201a8\"], [0.3333333333333333, \"#9c179e\"], [0.4444444444444444, \"#bd3786\"], [0.5555555555555556, \"#d8576b\"], [0.6666666666666666, \"#ed7953\"], [0.7777777777777778, \"#fb9f3a\"], [0.8888888888888888, \"#fdca26\"], [1.0, \"#f0f921\"]], \"sequentialminus\": [[0.0, \"#0d0887\"], [0.1111111111111111, \"#46039f\"], [0.2222222222222222, \"#7201a8\"], [0.3333333333333333, \"#9c179e\"], [0.4444444444444444, \"#bd3786\"], [0.5555555555555556, \"#d8576b\"], [0.6666666666666666, \"#ed7953\"], [0.7777777777777778, \"#fb9f3a\"], [0.8888888888888888, \"#fdca26\"], [1.0, \"#f0f921\"]]}, \"colorway\": [\"#636efa\", \"#EF553B\", \"#00cc96\", \"#ab63fa\", \"#FFA15A\", \"#19d3f3\", \"#FF6692\", \"#B6E880\", \"#FF97FF\", \"#FECB52\"], \"font\": {\"color\": \"#2a3f5f\"}, \"geo\": {\"bgcolor\": \"white\", \"lakecolor\": \"white\", \"landcolor\": \"white\", \"showlakes\": true, \"showland\": true, \"subunitcolor\": \"#C8D4E3\"}, \"hoverlabel\": {\"align\": \"left\"}, \"hovermode\": \"closest\", \"mapbox\": {\"style\": \"light\"}, \"paper_bgcolor\": \"white\", \"plot_bgcolor\": \"white\", \"polar\": {\"angularaxis\": {\"gridcolor\": \"#EBF0F8\", \"linecolor\": \"#EBF0F8\", \"ticks\": \"\"}, \"bgcolor\": \"white\", \"radialaxis\": {\"gridcolor\": \"#EBF0F8\", \"linecolor\": \"#EBF0F8\", \"ticks\": \"\"}}, \"scene\": {\"xaxis\": {\"backgroundcolor\": \"white\", \"gridcolor\": \"#DFE8F3\", \"gridwidth\": 2, \"linecolor\": \"#EBF0F8\", \"showbackground\": true, \"ticks\": \"\", \"zerolinecolor\": \"#EBF0F8\"}, \"yaxis\": {\"backgroundcolor\": \"white\", \"gridcolor\": \"#DFE8F3\", \"gridwidth\": 2, \"linecolor\": \"#EBF0F8\", \"showbackground\": true, \"ticks\": \"\", \"zerolinecolor\": \"#EBF0F8\"}, \"zaxis\": {\"backgroundcolor\": \"white\", \"gridcolor\": \"#DFE8F3\", \"gridwidth\": 2, \"linecolor\": \"#EBF0F8\", \"showbackground\": true, \"ticks\": \"\", \"zerolinecolor\": \"#EBF0F8\"}}, \"shapedefaults\": {\"line\": {\"color\": \"#2a3f5f\"}}, \"ternary\": {\"aaxis\": {\"gridcolor\": \"#DFE8F3\", \"linecolor\": \"#A2B1C6\", \"ticks\": \"\"}, \"baxis\": {\"gridcolor\": \"#DFE8F3\", \"linecolor\": \"#A2B1C6\", \"ticks\": \"\"}, \"bgcolor\": \"white\", \"caxis\": {\"gridcolor\": \"#DFE8F3\", \"linecolor\": \"#A2B1C6\", \"ticks\": \"\"}}, \"title\": {\"x\": 0.05}, \"xaxis\": {\"automargin\": true, \"gridcolor\": \"#EBF0F8\", \"linecolor\": \"#EBF0F8\", \"ticks\": \"\", \"title\": {\"standoff\": 15}, \"zerolinecolor\": \"#EBF0F8\", \"zerolinewidth\": 2}, \"yaxis\": {\"automargin\": true, \"gridcolor\": \"#EBF0F8\", \"linecolor\": \"#EBF0F8\", \"ticks\": \"\", \"title\": {\"standoff\": 15}, \"zerolinecolor\": \"#EBF0F8\", \"zerolinewidth\": 2}}}, \"title\": {\"font\": {\"size\": 16}, \"text\": \"Network Graph of Cell Lines\"}, \"xaxis\": {\"showgrid\": false, \"showticklabels\": false, \"zeroline\": false}, \"yaxis\": {\"showgrid\": false, \"showticklabels\": false, \"zeroline\": false}},\n",
       "                        {\"responsive\": true}\n",
       "                    ).then(function(){\n",
       "                            \n",
       "var gd = document.getElementById('6193a2a1-8877-449b-a32f-1a4f5874b547');\n",
       "var x = new MutationObserver(function (mutations, observer) {{\n",
       "        var display = window.getComputedStyle(gd).display;\n",
       "        if (!display || display === 'none') {{\n",
       "            console.log([gd, 'removed!']);\n",
       "            Plotly.purge(gd);\n",
       "            observer.disconnect();\n",
       "        }}\n",
       "}});\n",
       "\n",
       "// Listen for the removal of the full notebook cells\n",
       "var notebookContainer = gd.closest('#notebook-container');\n",
       "if (notebookContainer) {{\n",
       "    x.observe(notebookContainer, {childList: true});\n",
       "}}\n",
       "\n",
       "// Listen for the clearing of the current output cell\n",
       "var outputEl = gd.closest('.output');\n",
       "if (outputEl) {{\n",
       "    x.observe(outputEl, {childList: true});\n",
       "}}\n",
       "\n",
       "                        })\n",
       "                };\n",
       "                });\n",
       "            </script>\n",
       "        </div>"
      ]
     },
     "metadata": {},
     "output_type": "display_data"
    }
   ],
   "source": [
    "draw_graph(edges,nodes,'Network Graph of Cell Lines')"
   ]
  },
  {
   "cell_type": "code",
   "execution_count": null,
   "metadata": {},
   "outputs": [],
   "source": []
  }
 ],
 "metadata": {
  "kernelspec": {
   "display_name": "Python 3",
   "language": "python",
   "name": "python3"
  },
  "language_info": {
   "codemirror_mode": {
    "name": "ipython",
    "version": 3
   },
   "file_extension": ".py",
   "mimetype": "text/x-python",
   "name": "python",
   "nbconvert_exporter": "python",
   "pygments_lexer": "ipython3",
   "version": "3.6.8"
  },
  "toc": {
   "base_numbering": 1,
   "nav_menu": {},
   "number_sections": true,
   "sideBar": true,
   "skip_h1_title": false,
   "title_cell": "Table of Contents",
   "title_sidebar": "Contents",
   "toc_cell": true,
   "toc_position": {},
   "toc_section_display": true,
   "toc_window_display": true
  }
 },
 "nbformat": 4,
 "nbformat_minor": 2
}
