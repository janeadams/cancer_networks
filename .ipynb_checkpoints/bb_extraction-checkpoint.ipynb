{
 "cells": [
  {
   "cell_type": "code",
   "execution_count": 89,
   "metadata": {},
   "outputs": [],
   "source": [
    "import pandas as pd\n",
    "import numpy as np\n",
    "import networkx as nx\n",
    "import random\n",
    "from scipy import stats\n",
    "import matplotlib.pyplot as plt\n",
    "import plotly.express as px\n",
    "import plotly.io as pio\n",
    "pio.templates.default = 'plotly_white'"
   ]
  },
  {
   "cell_type": "code",
   "execution_count": 90,
   "metadata": {},
   "outputs": [],
   "source": [
    "ranks = pd.read_pickle(\"data/gene_dependency_ranks_above_0-5.pkl\")\n",
    "#ranks = pd.read_csv(\"/home/ccoquide/Bureau/PhD/CNWW/PROJECT/GIT/cancer_networks/data/gene_dependency_ranks_above_0-5.csv\")"
   ]
  },
  {
   "cell_type": "code",
   "execution_count": 91,
   "metadata": {},
   "outputs": [
    {
     "data": {
      "text/plain": [
       "Index(['ACH-000004', 'ACH-000005', 'ACH-000007', 'ACH-000009', 'ACH-000011',\n",
       "       'ACH-000012', 'ACH-000013', 'ACH-000014', 'ACH-000015', 'ACH-000017',\n",
       "       ...\n",
       "       'ACH-001736', 'ACH-001737', 'ACH-001740', 'ACH-001745', 'ACH-001750',\n",
       "       'ACH-001765', 'ACH-001814', 'ACH-001838', 'ACH-001956', 'ACH-001957'],\n",
       "      dtype='object', length=625)"
      ]
     },
     "execution_count": 91,
     "metadata": {},
     "output_type": "execute_result"
    }
   ],
   "source": [
    "correlation_matrix = ranks[ranks.columns].corr()\n",
    "correlation_matrix.columns\n"
   ]
  },
  {
   "cell_type": "code",
   "execution_count": 92,
   "metadata": {},
   "outputs": [
    {
     "data": {
      "text/html": [
       "<div>\n",
       "<style scoped>\n",
       "    .dataframe tbody tr th:only-of-type {\n",
       "        vertical-align: middle;\n",
       "    }\n",
       "\n",
       "    .dataframe tbody tr th {\n",
       "        vertical-align: top;\n",
       "    }\n",
       "\n",
       "    .dataframe thead th {\n",
       "        text-align: right;\n",
       "    }\n",
       "</style>\n",
       "<table border=\"1\" class=\"dataframe\">\n",
       "  <thead>\n",
       "    <tr style=\"text-align: right;\">\n",
       "      <th></th>\n",
       "      <th>ACH-000004</th>\n",
       "      <th>ACH-000005</th>\n",
       "      <th>ACH-000007</th>\n",
       "      <th>ACH-000009</th>\n",
       "      <th>ACH-000011</th>\n",
       "      <th>ACH-000012</th>\n",
       "      <th>ACH-000013</th>\n",
       "      <th>ACH-000014</th>\n",
       "      <th>ACH-000015</th>\n",
       "      <th>ACH-000017</th>\n",
       "      <th>...</th>\n",
       "      <th>ACH-001736</th>\n",
       "      <th>ACH-001737</th>\n",
       "      <th>ACH-001740</th>\n",
       "      <th>ACH-001745</th>\n",
       "      <th>ACH-001750</th>\n",
       "      <th>ACH-001765</th>\n",
       "      <th>ACH-001814</th>\n",
       "      <th>ACH-001838</th>\n",
       "      <th>ACH-001956</th>\n",
       "      <th>ACH-001957</th>\n",
       "    </tr>\n",
       "  </thead>\n",
       "  <tbody>\n",
       "    <tr>\n",
       "      <th>ACH-000004</th>\n",
       "      <td>1.000000</td>\n",
       "      <td>0.670811</td>\n",
       "      <td>0.634086</td>\n",
       "      <td>0.668743</td>\n",
       "      <td>0.627837</td>\n",
       "      <td>0.683202</td>\n",
       "      <td>0.674804</td>\n",
       "      <td>0.645831</td>\n",
       "      <td>0.678091</td>\n",
       "      <td>0.644843</td>\n",
       "      <td>...</td>\n",
       "      <td>0.674436</td>\n",
       "      <td>0.515364</td>\n",
       "      <td>0.682904</td>\n",
       "      <td>0.679575</td>\n",
       "      <td>0.653029</td>\n",
       "      <td>0.684327</td>\n",
       "      <td>0.600411</td>\n",
       "      <td>0.645787</td>\n",
       "      <td>0.694980</td>\n",
       "      <td>0.647552</td>\n",
       "    </tr>\n",
       "    <tr>\n",
       "      <th>ACH-000005</th>\n",
       "      <td>0.670811</td>\n",
       "      <td>1.000000</td>\n",
       "      <td>0.595817</td>\n",
       "      <td>0.612021</td>\n",
       "      <td>0.618527</td>\n",
       "      <td>0.637441</td>\n",
       "      <td>0.647392</td>\n",
       "      <td>0.605953</td>\n",
       "      <td>0.637074</td>\n",
       "      <td>0.631191</td>\n",
       "      <td>...</td>\n",
       "      <td>0.645563</td>\n",
       "      <td>0.508010</td>\n",
       "      <td>0.619845</td>\n",
       "      <td>0.642149</td>\n",
       "      <td>0.633958</td>\n",
       "      <td>0.655382</td>\n",
       "      <td>0.576940</td>\n",
       "      <td>0.615256</td>\n",
       "      <td>0.655533</td>\n",
       "      <td>0.635836</td>\n",
       "    </tr>\n",
       "    <tr>\n",
       "      <th>ACH-000007</th>\n",
       "      <td>0.634086</td>\n",
       "      <td>0.595817</td>\n",
       "      <td>1.000000</td>\n",
       "      <td>0.689916</td>\n",
       "      <td>0.659210</td>\n",
       "      <td>0.689017</td>\n",
       "      <td>0.686473</td>\n",
       "      <td>0.656473</td>\n",
       "      <td>0.689560</td>\n",
       "      <td>0.664908</td>\n",
       "      <td>...</td>\n",
       "      <td>0.662469</td>\n",
       "      <td>0.506101</td>\n",
       "      <td>0.665620</td>\n",
       "      <td>0.682570</td>\n",
       "      <td>0.668785</td>\n",
       "      <td>0.687120</td>\n",
       "      <td>0.623574</td>\n",
       "      <td>0.662435</td>\n",
       "      <td>0.697441</td>\n",
       "      <td>0.678311</td>\n",
       "    </tr>\n",
       "    <tr>\n",
       "      <th>ACH-000009</th>\n",
       "      <td>0.668743</td>\n",
       "      <td>0.612021</td>\n",
       "      <td>0.689916</td>\n",
       "      <td>1.000000</td>\n",
       "      <td>0.674617</td>\n",
       "      <td>0.745205</td>\n",
       "      <td>0.724943</td>\n",
       "      <td>0.690675</td>\n",
       "      <td>0.731248</td>\n",
       "      <td>0.682845</td>\n",
       "      <td>...</td>\n",
       "      <td>0.678239</td>\n",
       "      <td>0.542141</td>\n",
       "      <td>0.690460</td>\n",
       "      <td>0.706106</td>\n",
       "      <td>0.697572</td>\n",
       "      <td>0.726958</td>\n",
       "      <td>0.637741</td>\n",
       "      <td>0.685768</td>\n",
       "      <td>0.739834</td>\n",
       "      <td>0.726810</td>\n",
       "    </tr>\n",
       "    <tr>\n",
       "      <th>ACH-000011</th>\n",
       "      <td>0.627837</td>\n",
       "      <td>0.618527</td>\n",
       "      <td>0.659210</td>\n",
       "      <td>0.674617</td>\n",
       "      <td>1.000000</td>\n",
       "      <td>0.689373</td>\n",
       "      <td>0.700604</td>\n",
       "      <td>0.676628</td>\n",
       "      <td>0.684779</td>\n",
       "      <td>0.670969</td>\n",
       "      <td>...</td>\n",
       "      <td>0.672168</td>\n",
       "      <td>0.552894</td>\n",
       "      <td>0.666295</td>\n",
       "      <td>0.684159</td>\n",
       "      <td>0.700965</td>\n",
       "      <td>0.712906</td>\n",
       "      <td>0.643263</td>\n",
       "      <td>0.688556</td>\n",
       "      <td>0.730965</td>\n",
       "      <td>0.731748</td>\n",
       "    </tr>\n",
       "  </tbody>\n",
       "</table>\n",
       "<p>5 rows × 625 columns</p>\n",
       "</div>"
      ],
      "text/plain": [
       "            ACH-000004  ACH-000005  ACH-000007  ACH-000009  ACH-000011  \\\n",
       "ACH-000004    1.000000    0.670811    0.634086    0.668743    0.627837   \n",
       "ACH-000005    0.670811    1.000000    0.595817    0.612021    0.618527   \n",
       "ACH-000007    0.634086    0.595817    1.000000    0.689916    0.659210   \n",
       "ACH-000009    0.668743    0.612021    0.689916    1.000000    0.674617   \n",
       "ACH-000011    0.627837    0.618527    0.659210    0.674617    1.000000   \n",
       "\n",
       "            ACH-000012  ACH-000013  ACH-000014  ACH-000015  ACH-000017  ...  \\\n",
       "ACH-000004    0.683202    0.674804    0.645831    0.678091    0.644843  ...   \n",
       "ACH-000005    0.637441    0.647392    0.605953    0.637074    0.631191  ...   \n",
       "ACH-000007    0.689017    0.686473    0.656473    0.689560    0.664908  ...   \n",
       "ACH-000009    0.745205    0.724943    0.690675    0.731248    0.682845  ...   \n",
       "ACH-000011    0.689373    0.700604    0.676628    0.684779    0.670969  ...   \n",
       "\n",
       "            ACH-001736  ACH-001737  ACH-001740  ACH-001745  ACH-001750  \\\n",
       "ACH-000004    0.674436    0.515364    0.682904    0.679575    0.653029   \n",
       "ACH-000005    0.645563    0.508010    0.619845    0.642149    0.633958   \n",
       "ACH-000007    0.662469    0.506101    0.665620    0.682570    0.668785   \n",
       "ACH-000009    0.678239    0.542141    0.690460    0.706106    0.697572   \n",
       "ACH-000011    0.672168    0.552894    0.666295    0.684159    0.700965   \n",
       "\n",
       "            ACH-001765  ACH-001814  ACH-001838  ACH-001956  ACH-001957  \n",
       "ACH-000004    0.684327    0.600411    0.645787    0.694980    0.647552  \n",
       "ACH-000005    0.655382    0.576940    0.615256    0.655533    0.635836  \n",
       "ACH-000007    0.687120    0.623574    0.662435    0.697441    0.678311  \n",
       "ACH-000009    0.726958    0.637741    0.685768    0.739834    0.726810  \n",
       "ACH-000011    0.712906    0.643263    0.688556    0.730965    0.731748  \n",
       "\n",
       "[5 rows x 625 columns]"
      ]
     },
     "execution_count": 92,
     "metadata": {},
     "output_type": "execute_result"
    }
   ],
   "source": [
    "correlation_matrix.head()"
   ]
  },
  {
   "cell_type": "code",
   "execution_count": 93,
   "metadata": {},
   "outputs": [],
   "source": [
    "T_Links={}\n",
    "N=len(correlation_matrix.columns)\n",
    "Cell=correlation_matrix.columns\n",
    "ww=open(\"data/cell_lines_corr_above0_5.dat\",\"w\")"
   ]
  },
  {
   "cell_type": "code",
   "execution_count": 94,
   "metadata": {},
   "outputs": [],
   "source": [
    "for j in range(N):\n",
    "    for i in range(j+1,N):\n",
    "        T_Links[str(j)+\",\"+str(i)]=correlation_matrix[Cell[j]][Cell[i]]\n",
    "        ww.write(str(j)+\"\\t\"+str(i)+\"\\t\"+str(correlation_matrix[Cell[j]][Cell[i]])+\"\\n\")\n",
    "ww.close()"
   ]
  },
  {
   "cell_type": "code",
   "execution_count": 95,
   "metadata": {},
   "outputs": [],
   "source": [
    "def extract_bb(G,alp):\n",
    "    keep_graph = nx.Graph()\n",
    "    for i in G:\n",
    "        neigh=G[i]\n",
    "        k=len(neigh)\n",
    "        if k>1:\n",
    "            W=sum(G.get_edge_data(i,j)['weight'] for j in neigh)\n",
    "            for j in neigh:\n",
    "                p=1.0*G.get_edge_data(i,j)['weight']/W\n",
    "                if (1-p)**(k-1) < alp:\n",
    "                    keep_graph.add_edge(i,j, weight = G.get_edge_data(i,j))\n",
    "    return keep_graph, 1.0*len(keep_graph.edges())/(1.0*len(G.edges())),nx.number_connected_components(keep_graph) "
   ]
  },
  {
   "cell_type": "code",
   "execution_count": 96,
   "metadata": {},
   "outputs": [],
   "source": [
    "G=nx.Graph()"
   ]
  },
  {
   "cell_type": "code",
   "execution_count": 97,
   "metadata": {},
   "outputs": [],
   "source": [
    "G.add_nodes_from(range(N))"
   ]
  },
  {
   "cell_type": "code",
   "execution_count": 98,
   "metadata": {},
   "outputs": [],
   "source": [
    "A=[]"
   ]
  },
  {
   "cell_type": "code",
   "execution_count": 99,
   "metadata": {},
   "outputs": [],
   "source": [
    "for i in list(T_Links.keys()):\n",
    "    A.append((int(i.split(\",\")[0]), int(i.split(',')[1]), {'weight': T_Links[i]}))"
   ]
  },
  {
   "cell_type": "code",
   "execution_count": 100,
   "metadata": {},
   "outputs": [],
   "source": [
    "G.add_edges_from(A)"
   ]
  },
  {
   "cell_type": "code",
   "execution_count": 101,
   "metadata": {
    "scrolled": true
   },
   "outputs": [
    {
     "name": "stdout",
     "output_type": "stream",
     "text": [
      "0.27 5.12820512821e-06 1.0\n",
      "0.271 5.12820512821e-06 1.0\n",
      "0.272 5.12820512821e-06 1.0\n",
      "0.273 5.12820512821e-06 1.0\n",
      "0.274 5.12820512821e-06 1.0\n",
      "0.275 5.12820512821e-06 1.0\n",
      "0.276 5.12820512821e-06 1.0\n",
      "0.277 5.12820512821e-06 1.0\n",
      "0.278 1.02564102564e-05 1.0\n",
      "0.279 1.02564102564e-05 1.0\n",
      "0.28 1.02564102564e-05 1.0\n",
      "0.281 1.53846153846e-05 1.0\n",
      "0.282 1.53846153846e-05 1.0\n",
      "0.283 1.53846153846e-05 1.0\n",
      "0.284 1.53846153846e-05 1.0\n",
      "0.285 1.53846153846e-05 1.0\n",
      "0.286 1.53846153846e-05 1.0\n",
      "0.287 1.53846153846e-05 1.0\n",
      "0.288 1.53846153846e-05 1.0\n",
      "0.289 1.53846153846e-05 1.0\n",
      "0.29 1.53846153846e-05 1.0\n",
      "0.291 1.53846153846e-05 1.0\n",
      "0.292 1.53846153846e-05 1.0\n",
      "0.293 1.53846153846e-05 1.0\n",
      "0.294 1.53846153846e-05 1.0\n",
      "0.295 1.53846153846e-05 1.0\n",
      "0.296 1.53846153846e-05 1.0\n",
      "0.297 2.5641025641e-05 3.0\n",
      "0.298 2.5641025641e-05 3.0\n",
      "0.299 2.5641025641e-05 3.0\n",
      "0.3 3.07692307692e-05 4.0\n",
      "0.301 3.58974358974e-05 5.0\n",
      "0.302 3.58974358974e-05 5.0\n",
      "0.303 3.58974358974e-05 5.0\n",
      "0.304 3.58974358974e-05 5.0\n",
      "0.305 4.10256410256e-05 6.0\n",
      "0.306 5.12820512821e-05 7.0\n",
      "0.307 6.15384615385e-05 8.0\n",
      "0.308 6.15384615385e-05 8.0\n",
      "0.309 7.69230769231e-05 10.0\n",
      "0.31 8.71794871795e-05 11.0\n",
      "0.311 9.23076923077e-05 11.0\n",
      "0.312 0.000102564102564 11.0\n",
      "0.313 0.000117948717949 11.0\n",
      "0.314 0.000128205128205 11.0\n",
      "0.315 0.000164102564103 14.0\n",
      "0.316 0.000189743589744 15.0\n",
      "0.317 0.000215384615385 16.0\n",
      "0.318 0.000307692307692 14.0\n",
      "0.319 0.000353846153846 14.0\n",
      "0.32 0.000451282051282 17.0\n",
      "0.321 0.000579487179487 20.0\n",
      "0.322 0.000764102564103 19.0\n",
      "0.323 0.000953846153846 15.0\n",
      "0.324 0.00133333333333 14.0\n",
      "0.325 0.00166666666667 14.0\n",
      "0.326 0.00214871794872 10.0\n",
      "0.327 0.00276923076923 10.0\n",
      "0.328 0.00372820512821 8.0\n",
      "0.329 0.00471794871795 7.0\n",
      "0.33 0.00613846153846 4.0\n",
      "0.331 0.00789230769231 4.0\n",
      "0.332 0.0103179487179 3.0\n",
      "0.333 0.0131794871795 2.0\n",
      "0.334 0.0166923076923 1.0\n",
      "0.335 0.0211230769231 1.0\n",
      "0.336 0.0269179487179 1.0\n",
      "0.337 0.0337948717949 1.0\n",
      "0.338 0.0419487179487 1.0\n",
      "0.339 0.0514615384615 1.0\n"
     ]
    }
   ],
   "source": [
    "alp=np.arange(0.27,0.34,0.001)\n",
    "y1=alp.copy()\n",
    "y2=alp.copy()\n",
    "for i in np.arange(alp.size):\n",
    "    rez=extract_bb(G,alp[i])\n",
    "    y1[i]=rez[1]#fraction of remaining links\n",
    "    y2[i]=rez[2]#number of connected components \n",
    "    print(alp[i], y1[i], y2[i])\n",
    "    "
   ]
  },
  {
   "cell_type": "code",
   "execution_count": 102,
   "metadata": {},
   "outputs": [
    {
     "data": {
      "text/plain": [
       "array([  1.,   1.,   1.,   1.,   1.,   1.,   1.,   1.,   1.,   1.,   1.,\n",
       "         1.,   1.,   1.,   1.,   1.,   1.,   1.,   1.,   1.,   1.,   1.,\n",
       "         1.,   1.,   1.,   1.,   1.,   3.,   3.,   3.,   4.,   5.,   5.,\n",
       "         5.,   5.,   6.,   7.,   8.,   8.,  10.,  11.,  11.,  11.,  11.,\n",
       "        11.,  14.,  15.,  16.,  14.,  14.,  17.,  20.,  19.,  15.,  14.,\n",
       "        14.,  10.,  10.,   8.,   7.,   4.,   4.,   3.,   2.,   1.,   1.,\n",
       "         1.,   1.,   1.,   1.])"
      ]
     },
     "execution_count": 102,
     "metadata": {},
     "output_type": "execute_result"
    }
   ],
   "source": [
    "y2\n",
    "\n",
    "\n"
   ]
  },
  {
   "cell_type": "code",
   "execution_count": 103,
   "metadata": {},
   "outputs": [
    {
     "data": {
      "text/plain": [
       "[<matplotlib.lines.Line2D at 0x7f69b84cf6d8>]"
      ]
     },
     "execution_count": 103,
     "metadata": {},
     "output_type": "execute_result"
    },
    {
     "data": {
      "image/png": "[encoded data removed]",
      "text/plain": [
       "<matplotlib.figure.Figure at 0x7f6981b491d0>"
      ]
     },
     "metadata": {},
     "output_type": "display_data"
    }
   ],
   "source": [
    "plt.plot(alp,y1)"
   ]
  },
  {
   "cell_type": "code",
   "execution_count": 104,
   "metadata": {},
   "outputs": [
    {
     "data": {
      "text/plain": [
       "[<matplotlib.lines.Line2D at 0x7f697ab744a8>]"
      ]
     },
     "execution_count": 104,
     "metadata": {},
     "output_type": "execute_result"
    },
    {
     "data": {
      "image/png": "[encoded data removed]",
      "text/plain": [
       "<matplotlib.figure.Figure at 0x7f698195f668>"
      ]
     },
     "metadata": {},
     "output_type": "display_data"
    }
   ],
   "source": [
    "plt.plot(alp,y2)"
   ]
  },
  {
   "cell_type": "code",
   "execution_count": 105,
   "metadata": {},
   "outputs": [
    {
     "name": "stdout",
     "output_type": "stream",
     "text": [
      "there are: 126 nodes\n",
      "there are: 186 links\n",
      "15 connected commponent\n"
     ]
    }
   ],
   "source": [
    "alp=\"0-323\"#alpha value with - instead of . (for output name automatic change)\n",
    "bb,dens,comp=extract_bb(G,float(alp.replace('-','.')))\n",
    "print(\"there are:\", len(bb.nodes()), \"nodes\")\n",
    "print(\"there are:\", len(bb.edges()), \"links\")\n",
    "print(comp, \"connected commponent\")"
   ]
  },
  {
   "cell_type": "code",
   "execution_count": 106,
   "metadata": {},
   "outputs": [],
   "source": [
    "ww=open(\"data/cell_lines_corr-above0-5-\"+alp+\".net\",\"w\")\n",
    "ww.write(\"#SOURCE\\t#TARGET\\t#WEIGHT\\n\")\n",
    "Link_tab=nx.get_edge_attributes(bb,'weight')\n",
    "for i in bb.edges():\n",
    "    ww.write(str(i[0]+1)+\"\\t\"+str(i[1]+1)+\"\\t\"+str(Link_tab[i][\"weight\"])+\"\\n\")\n",
    "ww.close()\n"
   ]
  },
  {
   "cell_type": "code",
   "execution_count": 107,
   "metadata": {},
   "outputs": [],
   "source": [
    "info=open(\"data/cell_info.txt\",'r').read()\n",
    "info=info.split(\"\\n\")\n",
    "info.remove(\"\")\n",
    "header=info[0].split(\"\\t\")[0]+\"\\t\"+info[0].split(\"\\t\")[5]+\"\\t\"+info[0].split(\"\\t\")[37]#information related to DepMap_ID/Cancer_Type/Gender\n",
    "info.remove(info[0])\n",
    "dic={}\n",
    "subtype=open(\"data/cell_lines_corr-above0-5-0-323-subtypes.nodes\", \"r\").read()\n",
    "subtype=subtype.split(\"\\n\")\n",
    "subtype.remove(\"\")\n",
    "subtype.remove(subtype[0])\n",
    "for i in info:\n",
    "    tmp=i.split(\"\\t\")\n",
    "    dic[tmp[0]]=[tmp[5],tmp[-1], \"\"]#cancer type, gender, cancer subtype\n",
    "for i in subtype:\n",
    "    tmp=i.split(\"\\t\")\n",
    "    dic[tmp[1]][2]=tmp[-1]\n",
    "for i in Cell:\n",
    "    if i not in dic.keys():\n",
    "        dic[i]=[\"NA\", \"NA\", \"NA\"]\n",
    "ww=open(\"data/cell_lines_corr-above0-5-\"+alp+\".nodes\",\"w\")\n",
    "ww.write(\"Node_ID\\t\"+header+\"\\t\"+\"Cancer_subtype\"+\"\\n\")\n",
    "for i in sorted(list(bb.nodes())):\n",
    "    ww.write(str(i+1)+\"\\t\"+Cell[i]+\"\\t\"+dic[Cell[i]][0]+\"\\t\"+dic[Cell[i]][1]+\"\\t\"+dic[Cell[i]][-1]+\"\\n\")    \n",
    "ww.close()"
   ]
  },
  {
   "cell_type": "markdown",
   "metadata": {},
   "source": [
    "## Computing cancer_type-cancer_type links and node statistics"
   ]
  },
  {
   "cell_type": "code",
   "execution_count": 108,
   "metadata": {},
   "outputs": [],
   "source": [
    "net=open(\"data/cell_lines_corr-above0-5-\"+alp+\".net\",\"r\").read()\n",
    "net=net.split(\"\\n\")\n",
    "net.remove(\"\")\n",
    "net.remove(net[0])\n",
    "link_class={}\n",
    "Nl=len(net)\n",
    "C={}\n",
    "ww1=open(\"data/cell_lines_corr-above0-5-\"+alp+\".linkclass.dat\",\"w\")\n",
    "ww2=open(\"data/cell_lines_corr-above0-5-\"+alp+\".nodeclass.dat\",\"w\")\n",
    "for i in Cell:\n",
    "    for j in Cell:        \n",
    "        link_class[dic[i][0]+\":\"+dic[j][0]]=0\n",
    "        C[dic[i][0]]=0\n",
    "        C[dic[j][0]]=0\n",
    "LIST=[]\n",
    "for l in net:\n",
    "    tmp=l.split(\"\\t\")[0:2]\n",
    "    link_class[dic[Cell[int(tmp[0])-1]][0]+\":\"+dic[Cell[int(tmp[1])-1]][0]]+=1\n",
    "    if tmp[0] not in LIST:\n",
    "        C[dic[Cell[int(tmp[0])-1]][0]]+=1\n",
    "        LIST.append(tmp[0])\n",
    "    if tmp[1] not in LIST:\n",
    "        C[dic[Cell[int(tmp[1])-1]][0]]+=1\n",
    "        LIST.append(tmp[1])\n",
    "N=len(LIST)\n",
    "rez={}\n",
    "LIST=[]\n",
    "cncer=[]\n",
    "W=0\n",
    "for i in link_class.keys():\n",
    "    if i.split(\":\")[0] not in cncer:\n",
    "        cncer.append(i.split(\":\")[0])\n",
    "    if i.split(\":\")[1] not in cncer:\n",
    "        cncer.append(i.split(\":\")[1])\n",
    "    W+=link_class[i]\n",
    "for i in range(len(cncer)):\n",
    "    for j in range(i,len(cncer)):\n",
    "        I=cncer[i]\n",
    "        J=cncer[j]\n",
    "        LIST.append(I+\":\"+J)\n",
    "        if I!=J:\n",
    "            rez[I+\":\"+J]=link_class[I+\":\"+J]+link_class[J+\":\"+I]\n",
    "        if I==J:\n",
    "            rez[I+\":\"+J]=link_class[I+\":\"+J]\n",
    "link_class=[]\n",
    "link_class_name=[]\n",
    "for i in LIST:\n",
    "    if rez[i]>0:\n",
    "        z=0\n",
    "        link_class_name.append(i)\n",
    "        link_class.append(rez[i])\n",
    "tmp=sorted(range(len(link_class)), key=lambda k : link_class[k], reverse=True)\n",
    "ww1.write(\"#SOURCE\\t#TARGET\\t#LINK\\n\")\n",
    "for i in tmp:\n",
    "    ww1.write(link_class_name[i].replace(\":\",\"\\t\")+\"\\t\"+str(link_class[i])+\"\\n\")\n",
    "ww1.close()\n",
    "LIST=[[],[]]\n",
    "for i in C.keys():\n",
    "    if C[i]>0:        \n",
    "        LIST[0].append(i)\n",
    "        LIST[1].append(C[i])\n",
    "tmp=sorted(range(len(LIST[0])), key=lambda k : LIST[1][k], reverse=True)\n",
    "ww2.write(\"#CANCER\"+\"\\t\"+\"#OCCURANCE\"+\"\\n\")\n",
    "for i in tmp:\n",
    "    ww2.write(LIST[0][i]+\"\\t\"+str(LIST[1][i])+\"\\n\")\n",
    "ww2.close()\n"
   ]
  },
  {
   "cell_type": "code",
   "execution_count": 109,
   "metadata": {},
   "outputs": [],
   "source": [
    " ##Computing cancer_subtype-cancer_subtype links and node statistics"
   ]
  },
  {
   "cell_type": "code",
   "execution_count": 110,
   "metadata": {},
   "outputs": [],
   "source": [
    "stlink_class={}\n",
    "stC={}\n",
    "ww1=open(\"data/cell_lines_corr-above0-5-\"+alp+\"-subtypes.linkclass.dat\",\"w\")\n",
    "ww2=open(\"data/cell_lines_corr-above0-5-\"+alp+\"-subtypes.nodeclass.dat\",\"w\")\n",
    "for i in Cell:\n",
    "    for j in Cell:        \n",
    "        stlink_class[dic[i][-1]+\":\"+dic[j][-1]]=0\n",
    "        stC[dic[i][-1]]=0\n",
    "        stC[dic[j][-1]]=0\n",
    "stLIST=[]\n",
    "for l in net:\n",
    "    tmp=l.split(\"\\t\")[0:2]\n",
    "    stlink_class[dic[Cell[int(tmp[0])-1]][-1]+\":\"+dic[Cell[int(tmp[1])-1]][-1]]+=1\n",
    "    if tmp[0] not in stLIST:\n",
    "        stC[dic[Cell[int(tmp[0])-1]][-1]]+=1\n",
    "        stLIST.append(tmp[0])\n",
    "    if tmp[1] not in stLIST:\n",
    "        stC[dic[Cell[int(tmp[1])-1]][-1]]+=1\n",
    "        stLIST.append(tmp[1])\n",
    "N=len(stLIST)\n",
    "strez={}\n",
    "stLIST=[]\n",
    "stcncer=[]\n",
    "W=0\n",
    "for i in stlink_class.keys():\n",
    "    if i.split(\":\")[0] not in stcncer:\n",
    "        stcncer.append(i.split(\":\")[0])\n",
    "    if i.split(\":\")[1] not in stcncer:\n",
    "        stcncer.append(i.split(\":\")[1])\n",
    "    W+=stlink_class[i]\n",
    "for i in range(len(stcncer)):\n",
    "    for j in range(i,len(stcncer)):\n",
    "        I=stcncer[i]\n",
    "        J=stcncer[j]\n",
    "        stLIST.append(I+\":\"+J)\n",
    "        if I!=J:\n",
    "            strez[I+\":\"+J]=stlink_class[I+\":\"+J]+stlink_class[J+\":\"+I]\n",
    "        if I==J:\n",
    "            strez[I+\":\"+J]=stlink_class[I+\":\"+J]\n",
    "stlink_class=[]\n",
    "stlink_class_name=[]\n",
    "for i in stLIST:\n",
    "    if strez[i]>0:\n",
    "        z=0\n",
    "        stlink_class_name.append(i)\n",
    "        stlink_class.append(strez[i])\n",
    "tmp=sorted(range(len(stlink_class)), key=lambda k : stlink_class[k], reverse=True)\n",
    "ww1.write(\"#SOURCE\\t#TARGET\\t#LINK\\n\")\n",
    "for i in tmp:\n",
    "    ww1.write(stlink_class_name[i].replace(\":\",\"\\t\")+\"\\t\"+str(stlink_class[i])+\"\\n\")\n",
    "ww1.close()\n",
    "stLIST=[[],[]]\n",
    "for i in stC.keys():\n",
    "    if stC[i]>0:        \n",
    "        stLIST[0].append(i)\n",
    "        stLIST[1].append(stC[i])\n",
    "tmp=sorted(range(len(stLIST[0])), key=lambda k : stLIST[1][k], reverse=True)\n",
    "ww2.write(\"#CANCER_Subtype\"+\"\\t\"+\"#OCCURANCE\"+\"\\n\")\n",
    "for i in tmp:\n",
    "    ww2.write(stLIST[0][i]+\"\\t\"+str(stLIST[1][i])+\"\\n\")\n",
    "ww2.close()"
   ]
  },
  {
   "cell_type": "markdown",
   "metadata": {},
   "source": [
    "## Homophiliness cancer type\n"
   ]
  },
  {
   "cell_type": "code",
   "execution_count": 111,
   "metadata": {},
   "outputs": [
    {
     "name": "stdout",
     "output_type": "stream",
     "text": [
      "there are 80.0  % cancer types having heterophylic connections\n"
     ]
    }
   ],
   "source": [
    "a=open(\"data/cell_lines_corr-above0-5-\"+alp+\".linkclass.dat\",\"r\").read()\n",
    "a=a.split(\"\\n\")\n",
    "a.remove(\"\")\n",
    "a.remove(a[0])\n",
    "b=open(\"data/cell_lines_corr-above0-5-\"+alp+\".nodeclass.dat\",\"r\").read()\n",
    "b=b.split(\"\\n\")\n",
    "b.remove(\"\")\n",
    "b.remove(b[0])\n",
    "HOM={}\n",
    "DIFF={}\n",
    "LINK=[]\n",
    "BAL={}\n",
    "ww=open(\"data/cell_lines_corr-above0-5-\"+alp+\".homophiliness\",\"w\")\n",
    "for i in a:\n",
    "    tmp=i.split(\"\\t\")\n",
    "    HOM[tmp[0]]=0\n",
    "    HOM[tmp[1]]=0\n",
    "    DIFF[tmp[0]]=0\n",
    "    DIFF[tmp[1]]=0\n",
    "for i in a:\n",
    "    tmp=i.split(\"\\t\")\n",
    "    if tmp[0] != tmp[1]:\n",
    "        DIFF[tmp[0]]+=int(tmp[2])\n",
    "        DIFF[tmp[1]]+=int(tmp[2])\n",
    "    else:\n",
    "        HOM[tmp[0]]+=int(tmp[2])\n",
    "LIST=[[],[]]\n",
    "for i in a:\n",
    "    tmp=i.split(\"\\t\")\n",
    "    BAL[tmp[0]]=(1.0*(HOM[tmp[0]]-DIFF[tmp[0]]))/(1.0*(HOM[tmp[0]]+DIFF[tmp[0]]))\n",
    "    if tmp[0] not in LIST[0]:\n",
    "        LIST[0].append(tmp[0])\n",
    "        LIST[1].append(BAL[tmp[0]])\n",
    "    BAL[tmp[1]]=(1.0*(HOM[tmp[1]]-DIFF[tmp[1]]))/(1.0*(HOM[tmp[1]]+DIFF[tmp[1]]))\n",
    "    if tmp[1] not in LIST[0]:\n",
    "        LIST[0].append(tmp[1])\n",
    "        LIST[1].append(BAL[tmp[1]])\n",
    "C={}\n",
    "for i in b:\n",
    "    tmp=i.split(\"\\t\")\n",
    "    C[tmp[0]]=tmp[1]\n",
    "tmp=sorted(range(len(LIST[0])), key=lambda k : LIST[1][k], reverse=True)\n",
    "ww.write(\"#CANCER\"+\"\\t\"+\"#HOMOPHILINESS\"+\"\\t\"+\"#NODE_OCCURANCE\"+\"\\n\")\n",
    "w=0.0\n",
    "for i in tmp:\n",
    "    ww.write(LIST[0][i]+\"\\t\"+str(LIST[1][i])+\"\\t\"+C[LIST[0][i]]+\"\\n\")    \n",
    "    if(LIST[1][i]<0.0):\n",
    "        w+=1.0/len(tmp)\n",
    "ww.close()\n",
    "print(\"there are\", round(w*100,2), \" % cancer types having heterophylic connections\")"
   ]
  },
  {
   "cell_type": "code",
   "execution_count": 112,
   "metadata": {},
   "outputs": [],
   "source": [
    "##HOMOPHILINESS cancer subtype"
   ]
  },
  {
   "cell_type": "code",
   "execution_count": 113,
   "metadata": {},
   "outputs": [
    {
     "name": "stdout",
     "output_type": "stream",
     "text": [
      "there are 85.29  % cancer subtypes having heterophylic connections\n"
     ]
    }
   ],
   "source": [
    "a=open(\"data/cell_lines_corr-above0-5-\"+alp+\"-subtypes.linkclass.dat\",\"r\").read()\n",
    "a=a.split(\"\\n\")\n",
    "a.remove(\"\")\n",
    "a.remove(a[0])\n",
    "b=open(\"data/cell_lines_corr-above0-5-\"+alp+\"-subtypes.nodeclass.dat\",\"r\").read()\n",
    "b=b.split(\"\\n\")\n",
    "b.remove(\"\")\n",
    "b.remove(b[0])\n",
    "HOM={}\n",
    "DIFF={}\n",
    "LINK=[]\n",
    "BAL={}\n",
    "ww=open(\"data/cell_lines_corr-above0-5-\"+alp+\"-subtypes.homophiliness\",\"w\")\n",
    "for i in a:\n",
    "    tmp=i.split(\"\\t\")\n",
    "    HOM[tmp[0]]=0\n",
    "    HOM[tmp[1]]=0\n",
    "    DIFF[tmp[0]]=0\n",
    "    DIFF[tmp[1]]=0\n",
    "for i in a:\n",
    "    tmp=i.split(\"\\t\")\n",
    "    if tmp[0] != tmp[1]:\n",
    "        DIFF[tmp[0]]+=int(tmp[2])\n",
    "        DIFF[tmp[1]]+=int(tmp[2])\n",
    "    else:\n",
    "        HOM[tmp[0]]+=int(tmp[2])\n",
    "LIST=[[],[]]\n",
    "for i in a:\n",
    "    tmp=i.split(\"\\t\")\n",
    "    BAL[tmp[0]]=(1.0*(HOM[tmp[0]]-DIFF[tmp[0]]))/(1.0*(HOM[tmp[0]]+DIFF[tmp[0]]))\n",
    "    if tmp[0] not in LIST[0]:\n",
    "        LIST[0].append(tmp[0])\n",
    "        LIST[1].append(BAL[tmp[0]])\n",
    "    BAL[tmp[1]]=(1.0*(HOM[tmp[1]]-DIFF[tmp[1]]))/(1.0*(HOM[tmp[1]]+DIFF[tmp[1]]))\n",
    "    if tmp[1] not in LIST[0]:\n",
    "        LIST[0].append(tmp[1])\n",
    "        LIST[1].append(BAL[tmp[1]])\n",
    "C={}\n",
    "for i in b:\n",
    "    tmp=i.split(\"\\t\")\n",
    "    C[tmp[0]]=tmp[1]\n",
    "tmp=sorted(range(len(LIST[0])), key=lambda k : LIST[1][k], reverse=True)\n",
    "ww.write(\"#CANCER_Subtype\"+\"\\t\"+\"#HOMOPHILINESS\"+\"\\t\"+\"#NODE_OCCURANCE\"+\"\\n\")\n",
    "w=0.0\n",
    "for i in tmp:\n",
    "    ww.write(LIST[0][i]+\"\\t\"+str(LIST[1][i])+\"\\t\"+C[LIST[0][i]]+\"\\n\")    \n",
    "    if(LIST[1][i]<0.0):\n",
    "        w+=1.0/len(tmp)\n",
    "ww.close()\n",
    "print(\"there are\", round(w*100,2), \" % cancer subtypes having heterophylic connections\")"
   ]
  },
  {
   "cell_type": "markdown",
   "metadata": {},
   "source": [
    "### Cell_Line Homophily\n"
   ]
  },
  {
   "cell_type": "code",
   "execution_count": 114,
   "metadata": {},
   "outputs": [
    {
     "name": "stdout",
     "output_type": "stream",
     "text": [
      "6\t17\t0.817612181314\n",
      "6\tACH-000012\tLung Cancer\tFemale\tNSCLC-Adenocarcinoma\n",
      "there are 46.83  % cell_lines having heterophylic connections\n"
     ]
    }
   ],
   "source": [
    "ww=open(\"data/cell_lines_corr-above0-5\"+alp+\"-cell.homophily\",\"w\")\n",
    "ww.write(\"Node_ID\\tDepMap_ID\\t#HOMOPHILINESS\\n\")\n",
    "a=open(\"data/cell_lines_corr-above0-5-\"+alp+\".net\",\"r\").read()\n",
    "b=open(\"data/cell_lines_corr-above0-5-\"+alp+\".nodes\",\"r\").read()\n",
    "a=a.split(\"\\n\")\n",
    "b=b.split(\"\\n\")\n",
    "a.remove(\"\")\n",
    "a.remove(a[0])\n",
    "b.remove(\"\")\n",
    "b.remove(b[0])\n",
    "print(a[0])\n",
    "print(b[0])\n",
    "w=0.0\n",
    "D={}\n",
    "H={}#Homophily\n",
    "h={}#Heterophily\n",
    "B={}\n",
    "for i in b:\n",
    "    tmp=i.split(\"\\t\")\n",
    "    D[tmp[0]]=[tmp[1],tmp[2]]\n",
    "    H[tmp[0]]=0.0\n",
    "    h[tmp[0]]=0.0\n",
    "    B[tmp[0]]=0.0\n",
    "for i in a:\n",
    "    tmp=i.split(\"\\t\")\n",
    "    if(D[tmp[0]][1]==D[tmp[1]][1]):\n",
    "        H[tmp[0]]+=1\n",
    "        H[tmp[1]]+=1\n",
    "    else:\n",
    "        h[tmp[0]]+=1\n",
    "        h[tmp[1]]+=1\n",
    "for i in D.keys():\n",
    "    B[i]=(H[i]-h[i])/(H[i]+h[i])\n",
    "    if B[i]<0.0:\n",
    "        w+=1.0/len(b)\n",
    "for i in D.keys():\n",
    "    ww.write(D[i][0]+\"\\t\"+D[i][1]+\"\\t\"+str(B[i])+\"\\n\")\n",
    "ww.close()\n",
    "print(\"there are\", round(w*100,2), \" % cell_lines having heterophylic connections\")"
   ]
  },
  {
   "cell_type": "code",
   "execution_count": 119,
   "metadata": {},
   "outputs": [
    {
     "data": {
      "text/html": [
       "<div>\n",
       "<style scoped>\n",
       "    .dataframe tbody tr th:only-of-type {\n",
       "        vertical-align: middle;\n",
       "    }\n",
       "\n",
       "    .dataframe tbody tr th {\n",
       "        vertical-align: top;\n",
       "    }\n",
       "\n",
       "    .dataframe thead th {\n",
       "        text-align: right;\n",
       "    }\n",
       "</style>\n",
       "<table border=\"1\" class=\"dataframe\">\n",
       "  <thead>\n",
       "    <tr style=\"text-align: right;\">\n",
       "      <th></th>\n",
       "    </tr>\n",
       "  </thead>\n",
       "  <tbody>\n",
       "  </tbody>\n",
       "</table>\n",
       "</div>"
      ],
      "text/plain": [
       "Empty DataFrame\n",
       "Columns: []\n",
       "Index: []"
      ]
     },
     "execution_count": 119,
     "metadata": {},
     "output_type": "execute_result"
    }
   ],
   "source": [
    "pd.DataFrame()"
   ]
  },
  {
   "cell_type": "code",
   "execution_count": 120,
   "metadata": {},
   "outputs": [
    {
     "data": {
      "text/html": [
       "<div>\n",
       "<style scoped>\n",
       "    .dataframe tbody tr th:only-of-type {\n",
       "        vertical-align: middle;\n",
       "    }\n",
       "\n",
       "    .dataframe tbody tr th {\n",
       "        vertical-align: top;\n",
       "    }\n",
       "\n",
       "    .dataframe thead th {\n",
       "        text-align: right;\n",
       "    }\n",
       "</style>\n",
       "<table border=\"1\" class=\"dataframe\">\n",
       "  <thead>\n",
       "    <tr style=\"text-align: right;\">\n",
       "      <th></th>\n",
       "      <th>#CANCER</th>\n",
       "      <th>Homophiliness</th>\n",
       "      <th>Number of Cell Lines</th>\n",
       "    </tr>\n",
       "  </thead>\n",
       "  <tbody>\n",
       "    <tr>\n",
       "      <th>0</th>\n",
       "      <td>Kidney Cancer</td>\n",
       "      <td>1.000000</td>\n",
       "      <td>4</td>\n",
       "    </tr>\n",
       "    <tr>\n",
       "      <th>1</th>\n",
       "      <td>Leukemia</td>\n",
       "      <td>0.875000</td>\n",
       "      <td>15</td>\n",
       "    </tr>\n",
       "    <tr>\n",
       "      <th>2</th>\n",
       "      <td>Head and Neck Cancer</td>\n",
       "      <td>0.200000</td>\n",
       "      <td>6</td>\n",
       "    </tr>\n",
       "    <tr>\n",
       "      <th>3</th>\n",
       "      <td>Lymphoma</td>\n",
       "      <td>0.000000</td>\n",
       "      <td>5</td>\n",
       "    </tr>\n",
       "    <tr>\n",
       "      <th>4</th>\n",
       "      <td>Neuroblastoma</td>\n",
       "      <td>-0.157895</td>\n",
       "      <td>7</td>\n",
       "    </tr>\n",
       "  </tbody>\n",
       "</table>\n",
       "</div>"
      ],
      "text/plain": [
       "                #CANCER  Homophiliness  Number of Cell Lines\n",
       "0         Kidney Cancer       1.000000                     4\n",
       "1              Leukemia       0.875000                    15\n",
       "2  Head and Neck Cancer       0.200000                     6\n",
       "3              Lymphoma       0.000000                     5\n",
       "4         Neuroblastoma      -0.157895                     7"
      ]
     },
     "execution_count": 120,
     "metadata": {},
     "output_type": "execute_result"
    }
   ],
   "source": [
    "cdata = pd.read_csv(\"data/cell_lines_corr-above0-5-\"+alp+\".homophiliness\",sep=\"\\t\")\n",
    "cdata=cdata.rename(columns={'#HOMOPHILINESS':'Homophiliness', '#NODE_OCCURANCE':'Number of Cell Lines'})\n",
    "cdata.head(5)"
   ]
  },
  {
   "cell_type": "code",
   "execution_count": null,
   "metadata": {},
   "outputs": [],
   "source": []
  },
  {
   "cell_type": "code",
   "execution_count": 121,
   "metadata": {},
   "outputs": [
    {
     "data": {
      "application/vnd.plotly.v1+json": {
       "config": {
        "plotlyServerURL": "https://plot.ly"
       },
       "data": [
        {
         "hoverlabel": {
          "namelength": 0
         },
         "hovertemplate": "Number of Cell Lines=%{x}<br>Homophiliness=%{y}<br>#CANCER=%{text}",
         "legendgroup": "",
         "marker": {
          "color": "#636efa",
          "size": 12,
          "symbol": "circle"
         },
         "mode": "markers+text",
         "name": "",
         "showlegend": false,
         "text": [
          "Kidney Cancer",
          "Leukemia",
          "Head and Neck Cancer",
          "Lymphoma",
          "Neuroblastoma",
          "Pancreatic Cancer",
          "Breast Cancer",
          "Esophageal Cancer",
          "Lung Cancer",
          "Ovarian Cancer",
          "Sarcoma",
          "Skin Cancer",
          "Brain Cancer",
          "Colon/Colorectal Cancer",
          "Endometrial/Uterine Cancer",
          "Eye Cancer",
          "Rhabdoid",
          "Bladder Cancer",
          "Bone Cancer",
          "Liver Cancer"
         ],
         "textposition": "top center",
         "type": "scatter",
         "x": [
          4,
          15,
          6,
          5,
          7,
          16,
          8,
          5,
          21,
          10,
          6,
          4,
          5,
          2,
          3,
          2,
          2,
          3,
          1,
          1
         ],
         "xaxis": "x",
         "y": [
          1,
          0.875,
          0.2,
          0,
          -0.15789473684210525,
          -0.1868131868131868,
          -0.3333333333333333,
          -0.42857142857142855,
          -0.5862068965517241,
          -0.6153846153846154,
          -0.7142857142857143,
          -0.7142857142857143,
          -1,
          -1,
          -1,
          -1,
          -1,
          -1,
          -1,
          -1
         ],
         "yaxis": "y"
        }
       ],
       "layout": {
        "legend": {
         "tracegroupgap": 0
        },
        "margin": {
         "t": 60
        },
        "template": {
         "data": {
          "bar": [
           {
            "error_x": {
             "color": "#2a3f5f"
            },
            "error_y": {
             "color": "#2a3f5f"
            },
            "marker": {
             "line": {
              "color": "white",
              "width": 0.5
             }
            },
            "type": "bar"
           }
          ],
          "barpolar": [
           {
            "marker": {
             "line": {
              "color": "white",
              "width": 0.5
             }
            },
            "type": "barpolar"
           }
          ],
          "carpet": [
           {
            "aaxis": {
             "endlinecolor": "#2a3f5f",
             "gridcolor": "#C8D4E3",
             "linecolor": "#C8D4E3",
             "minorgridcolor": "#C8D4E3",
             "startlinecolor": "#2a3f5f"
            },
            "baxis": {
             "endlinecolor": "#2a3f5f",
             "gridcolor": "#C8D4E3",
             "linecolor": "#C8D4E3",
             "minorgridcolor": "#C8D4E3",
             "startlinecolor": "#2a3f5f"
            },
            "type": "carpet"
           }
          ],
          "choropleth": [
           {
            "colorbar": {
             "outlinewidth": 0,
             "ticks": ""
            },
            "type": "choropleth"
           }
          ],
          "contour": [
           {
            "colorbar": {
             "outlinewidth": 0,
             "ticks": ""
            },
            "colorscale": [
             [
              0,
              "#0d0887"
             ],
             [
              0.1111111111111111,
              "#46039f"
             ],
             [
              0.2222222222222222,
              "#7201a8"
             ],
             [
              0.3333333333333333,
              "#9c179e"
             ],
             [
              0.4444444444444444,
              "#bd3786"
             ],
             [
              0.5555555555555556,
              "#d8576b"
             ],
             [
              0.6666666666666666,
              "#ed7953"
             ],
             [
              0.7777777777777778,
              "#fb9f3a"
             ],
             [
              0.8888888888888888,
              "#fdca26"
             ],
             [
              1,
              "#f0f921"
             ]
            ],
            "type": "contour"
           }
          ],
          "contourcarpet": [
           {
            "colorbar": {
             "outlinewidth": 0,
             "ticks": ""
            },
            "type": "contourcarpet"
           }
          ],
          "heatmap": [
           {
            "colorbar": {
             "outlinewidth": 0,
             "ticks": ""
            },
            "colorscale": [
             [
              0,
              "#0d0887"
             ],
             [
              0.1111111111111111,
              "#46039f"
             ],
             [
              0.2222222222222222,
              "#7201a8"
             ],
             [
              0.3333333333333333,
              "#9c179e"
             ],
             [
              0.4444444444444444,
              "#bd3786"
             ],
             [
              0.5555555555555556,
              "#d8576b"
             ],
             [
              0.6666666666666666,
              "#ed7953"
             ],
             [
              0.7777777777777778,
              "#fb9f3a"
             ],
             [
              0.8888888888888888,
              "#fdca26"
             ],
             [
              1,
              "#f0f921"
             ]
            ],
            "type": "heatmap"
           }
          ],
          "heatmapgl": [
           {
            "colorbar": {
             "outlinewidth": 0,
             "ticks": ""
            },
            "colorscale": [
             [
              0,
              "#0d0887"
             ],
             [
              0.1111111111111111,
              "#46039f"
             ],
             [
              0.2222222222222222,
              "#7201a8"
             ],
             [
              0.3333333333333333,
              "#9c179e"
             ],
             [
              0.4444444444444444,
              "#bd3786"
             ],
             [
              0.5555555555555556,
              "#d8576b"
             ],
             [
              0.6666666666666666,
              "#ed7953"
             ],
             [
              0.7777777777777778,
              "#fb9f3a"
             ],
             [
              0.8888888888888888,
              "#fdca26"
             ],
             [
              1,
              "#f0f921"
             ]
            ],
            "type": "heatmapgl"
           }
          ],
          "histogram": [
           {
            "marker": {
             "colorbar": {
              "outlinewidth": 0,
              "ticks": ""
             }
            },
            "type": "histogram"
           }
          ],
          "histogram2d": [
           {
            "colorbar": {
             "outlinewidth": 0,
             "ticks": ""
            },
            "colorscale": [
             [
              0,
              "#0d0887"
             ],
             [
              0.1111111111111111,
              "#46039f"
             ],
             [
              0.2222222222222222,
              "#7201a8"
             ],
             [
              0.3333333333333333,
              "#9c179e"
             ],
             [
              0.4444444444444444,
              "#bd3786"
             ],
             [
              0.5555555555555556,
              "#d8576b"
             ],
             [
              0.6666666666666666,
              "#ed7953"
             ],
             [
              0.7777777777777778,
              "#fb9f3a"
             ],
             [
              0.8888888888888888,
              "#fdca26"
             ],
             [
              1,
              "#f0f921"
             ]
            ],
            "type": "histogram2d"
           }
          ],
          "histogram2dcontour": [
           {
            "colorbar": {
             "outlinewidth": 0,
             "ticks": ""
            },
            "colorscale": [
             [
              0,
              "#0d0887"
             ],
             [
              0.1111111111111111,
              "#46039f"
             ],
             [
              0.2222222222222222,
              "#7201a8"
             ],
             [
              0.3333333333333333,
              "#9c179e"
             ],
             [
              0.4444444444444444,
              "#bd3786"
             ],
             [
              0.5555555555555556,
              "#d8576b"
             ],
             [
              0.6666666666666666,
              "#ed7953"
             ],
             [
              0.7777777777777778,
              "#fb9f3a"
             ],
             [
              0.8888888888888888,
              "#fdca26"
             ],
             [
              1,
              "#f0f921"
             ]
            ],
            "type": "histogram2dcontour"
           }
          ],
          "mesh3d": [
           {
            "colorbar": {
             "outlinewidth": 0,
             "ticks": ""
            },
            "type": "mesh3d"
           }
          ],
          "parcoords": [
           {
            "line": {
             "colorbar": {
              "outlinewidth": 0,
              "ticks": ""
             }
            },
            "type": "parcoords"
           }
          ],
          "pie": [
           {
            "automargin": true,
            "type": "pie"
           }
          ],
          "scatter": [
           {
            "marker": {
             "colorbar": {
              "outlinewidth": 0,
              "ticks": ""
             }
            },
            "type": "scatter"
           }
          ],
          "scatter3d": [
           {
            "line": {
             "colorbar": {
              "outlinewidth": 0,
              "ticks": ""
             }
            },
            "marker": {
             "colorbar": {
              "outlinewidth": 0,
              "ticks": ""
             }
            },
            "type": "scatter3d"
           }
          ],
          "scattercarpet": [
           {
            "marker": {
             "colorbar": {
              "outlinewidth": 0,
              "ticks": ""
             }
            },
            "type": "scattercarpet"
           }
          ],
          "scattergeo": [
           {
            "marker": {
             "colorbar": {
              "outlinewidth": 0,
              "ticks": ""
             }
            },
            "type": "scattergeo"
           }
          ],
          "scattergl": [
           {
            "marker": {
             "colorbar": {
              "outlinewidth": 0,
              "ticks": ""
             }
            },
            "type": "scattergl"
           }
          ],
          "scattermapbox": [
           {
            "marker": {
             "colorbar": {
              "outlinewidth": 0,
              "ticks": ""
             }
            },
            "type": "scattermapbox"
           }
          ],
          "scatterpolar": [
           {
            "marker": {
             "colorbar": {
              "outlinewidth": 0,
              "ticks": ""
             }
            },
            "type": "scatterpolar"
           }
          ],
          "scatterpolargl": [
           {
            "marker": {
             "colorbar": {
              "outlinewidth": 0,
              "ticks": ""
             }
            },
            "type": "scatterpolargl"
           }
          ],
          "scatterternary": [
           {
            "marker": {
             "colorbar": {
              "outlinewidth": 0,
              "ticks": ""
             }
            },
            "type": "scatterternary"
           }
          ],
          "surface": [
           {
            "colorbar": {
             "outlinewidth": 0,
             "ticks": ""
            },
            "colorscale": [
             [
              0,
              "#0d0887"
             ],
             [
              0.1111111111111111,
              "#46039f"
             ],
             [
              0.2222222222222222,
              "#7201a8"
             ],
             [
              0.3333333333333333,
              "#9c179e"
             ],
             [
              0.4444444444444444,
              "#bd3786"
             ],
             [
              0.5555555555555556,
              "#d8576b"
             ],
             [
              0.6666666666666666,
              "#ed7953"
             ],
             [
              0.7777777777777778,
              "#fb9f3a"
             ],
             [
              0.8888888888888888,
              "#fdca26"
             ],
             [
              1,
              "#f0f921"
             ]
            ],
            "type": "surface"
           }
          ],
          "table": [
           {
            "cells": {
             "fill": {
              "color": "#EBF0F8"
             },
             "line": {
              "color": "white"
             }
            },
            "header": {
             "fill": {
              "color": "#C8D4E3"
             },
             "line": {
              "color": "white"
             }
            },
            "type": "table"
           }
          ]
         },
         "layout": {
          "annotationdefaults": {
           "arrowcolor": "#2a3f5f",
           "arrowhead": 0,
           "arrowwidth": 1
          },
          "coloraxis": {
           "colorbar": {
            "outlinewidth": 0,
            "ticks": ""
           }
          },
          "colorscale": {
           "diverging": [
            [
             0,
             "#8e0152"
            ],
            [
             0.1,
             "#c51b7d"
            ],
            [
             0.2,
             "#de77ae"
            ],
            [
             0.3,
             "#f1b6da"
            ],
            [
             0.4,
             "#fde0ef"
            ],
            [
             0.5,
             "#f7f7f7"
            ],
            [
             0.6,
             "#e6f5d0"
            ],
            [
             0.7,
             "#b8e186"
            ],
            [
             0.8,
             "#7fbc41"
            ],
            [
             0.9,
             "#4d9221"
            ],
            [
             1,
             "#276419"
            ]
           ],
           "sequential": [
            [
             0,
             "#0d0887"
            ],
            [
             0.1111111111111111,
             "#46039f"
            ],
            [
             0.2222222222222222,
             "#7201a8"
            ],
            [
             0.3333333333333333,
             "#9c179e"
            ],
            [
             0.4444444444444444,
             "#bd3786"
            ],
            [
             0.5555555555555556,
             "#d8576b"
            ],
            [
             0.6666666666666666,
             "#ed7953"
            ],
            [
             0.7777777777777778,
             "#fb9f3a"
            ],
            [
             0.8888888888888888,
             "#fdca26"
            ],
            [
             1,
             "#f0f921"
            ]
           ],
           "sequentialminus": [
            [
             0,
             "#0d0887"
            ],
            [
             0.1111111111111111,
             "#46039f"
            ],
            [
             0.2222222222222222,
             "#7201a8"
            ],
            [
             0.3333333333333333,
             "#9c179e"
            ],
            [
             0.4444444444444444,
             "#bd3786"
            ],
            [
             0.5555555555555556,
             "#d8576b"
            ],
            [
             0.6666666666666666,
             "#ed7953"
            ],
            [
             0.7777777777777778,
             "#fb9f3a"
            ],
            [
             0.8888888888888888,
             "#fdca26"
            ],
            [
             1,
             "#f0f921"
            ]
           ]
          },
          "colorway": [
           "#636efa",
           "#EF553B",
           "#00cc96",
           "#ab63fa",
           "#FFA15A",
           "#19d3f3",
           "#FF6692",
           "#B6E880",
           "#FF97FF",
           "#FECB52"
          ],
          "font": {
           "color": "#2a3f5f"
          },
          "geo": {
           "bgcolor": "white",
           "lakecolor": "white",
           "landcolor": "white",
           "showlakes": true,
           "showland": true,
           "subunitcolor": "#C8D4E3"
          },
          "hoverlabel": {
           "align": "left"
          },
          "hovermode": "closest",
          "mapbox": {
           "style": "light"
          },
          "paper_bgcolor": "white",
          "plot_bgcolor": "white",
          "polar": {
           "angularaxis": {
            "gridcolor": "#EBF0F8",
            "linecolor": "#EBF0F8",
            "ticks": ""
           },
           "bgcolor": "white",
           "radialaxis": {
            "gridcolor": "#EBF0F8",
            "linecolor": "#EBF0F8",
            "ticks": ""
           }
          },
          "scene": {
           "xaxis": {
            "backgroundcolor": "white",
            "gridcolor": "#DFE8F3",
            "gridwidth": 2,
            "linecolor": "#EBF0F8",
            "showbackground": true,
            "ticks": "",
            "zerolinecolor": "#EBF0F8"
           },
           "yaxis": {
            "backgroundcolor": "white",
            "gridcolor": "#DFE8F3",
            "gridwidth": 2,
            "linecolor": "#EBF0F8",
            "showbackground": true,
            "ticks": "",
            "zerolinecolor": "#EBF0F8"
           },
           "zaxis": {
            "backgroundcolor": "white",
            "gridcolor": "#DFE8F3",
            "gridwidth": 2,
            "linecolor": "#EBF0F8",
            "showbackground": true,
            "ticks": "",
            "zerolinecolor": "#EBF0F8"
           }
          },
          "shapedefaults": {
           "line": {
            "color": "#2a3f5f"
           }
          },
          "ternary": {
           "aaxis": {
            "gridcolor": "#DFE8F3",
            "linecolor": "#A2B1C6",
            "ticks": ""
           },
           "baxis": {
            "gridcolor": "#DFE8F3",
            "linecolor": "#A2B1C6",
            "ticks": ""
           },
           "bgcolor": "white",
           "caxis": {
            "gridcolor": "#DFE8F3",
            "linecolor": "#A2B1C6",
            "ticks": ""
           }
          },
          "title": {
           "x": 0.05
          },
          "xaxis": {
           "automargin": true,
           "gridcolor": "#EBF0F8",
           "linecolor": "#EBF0F8",
           "ticks": "",
           "title": {
            "standoff": 15
           },
           "zerolinecolor": "#EBF0F8",
           "zerolinewidth": 2
          },
          "yaxis": {
           "automargin": true,
           "gridcolor": "#EBF0F8",
           "linecolor": "#EBF0F8",
           "ticks": "",
           "title": {
            "standoff": 15
           },
           "zerolinecolor": "#EBF0F8",
           "zerolinewidth": 2
          }
         }
        },
        "xaxis": {
         "anchor": "y",
         "domain": [
          0,
          1
         ],
         "title": {
          "text": "Number of Cell Lines"
         }
        },
        "yaxis": {
         "anchor": "x",
         "domain": [
          0,
          1
         ],
         "title": {
          "text": "Homophiliness"
         }
        }
       }
      },
      "text/html": [
       "<div>\n",
       "        \n",
       "        \n",
       "            <div id=\"96a9d564-f833-4e95-a2cf-b7bb461328aa\" class=\"plotly-graph-div\" style=\"height:525px; width:100%;\"></div>\n",
       "            <script type=\"text/javascript\">\n",
       "                require([\"plotly\"], function(Plotly) {\n",
       "                    window.PLOTLYENV=window.PLOTLYENV || {};\n",
       "                    \n",
       "                if (document.getElementById(\"96a9d564-f833-4e95-a2cf-b7bb461328aa\")) {\n",
       "                    Plotly.newPlot(\n",
       "                        '96a9d564-f833-4e95-a2cf-b7bb461328aa',\n",
       "                        [{\"hoverlabel\": {\"namelength\": 0}, \"hovertemplate\": \"Number of Cell Lines=%{x}<br>Homophiliness=%{y}<br>#CANCER=%{text}\", \"legendgroup\": \"\", \"marker\": {\"color\": \"#636efa\", \"size\": 12, \"symbol\": \"circle\"}, \"mode\": \"markers+text\", \"name\": \"\", \"showlegend\": false, \"text\": [\"Kidney Cancer\", \"Leukemia\", \"Head and Neck Cancer\", \"Lymphoma\", \"Neuroblastoma\", \"Pancreatic Cancer\", \"Breast Cancer\", \"Esophageal Cancer\", \"Lung Cancer\", \"Ovarian Cancer\", \"Sarcoma\", \"Skin Cancer\", \"Brain Cancer\", \"Colon/Colorectal Cancer\", \"Endometrial/Uterine Cancer\", \"Eye Cancer\", \"Rhabdoid\", \"Bladder Cancer\", \"Bone Cancer\", \"Liver Cancer\"], \"textposition\": \"top center\", \"type\": \"scatter\", \"x\": [4, 15, 6, 5, 7, 16, 8, 5, 21, 10, 6, 4, 5, 2, 3, 2, 2, 3, 1, 1], \"xaxis\": \"x\", \"y\": [1.0, 0.875, 0.2, 0.0, -0.15789473684210525, -0.1868131868131868, -0.3333333333333333, -0.42857142857142855, -0.5862068965517241, -0.6153846153846154, -0.7142857142857143, -0.7142857142857143, -1.0, -1.0, -1.0, -1.0, -1.0, -1.0, -1.0, -1.0], \"yaxis\": \"y\"}],\n",
       "                        {\"legend\": {\"tracegroupgap\": 0}, \"margin\": {\"t\": 60}, \"template\": {\"data\": {\"bar\": [{\"error_x\": {\"color\": \"#2a3f5f\"}, \"error_y\": {\"color\": \"#2a3f5f\"}, \"marker\": {\"line\": {\"color\": \"white\", \"width\": 0.5}}, \"type\": \"bar\"}], \"barpolar\": [{\"marker\": {\"line\": {\"color\": \"white\", \"width\": 0.5}}, \"type\": \"barpolar\"}], \"carpet\": [{\"aaxis\": {\"endlinecolor\": \"#2a3f5f\", \"gridcolor\": \"#C8D4E3\", \"linecolor\": \"#C8D4E3\", \"minorgridcolor\": \"#C8D4E3\", \"startlinecolor\": \"#2a3f5f\"}, \"baxis\": {\"endlinecolor\": \"#2a3f5f\", \"gridcolor\": \"#C8D4E3\", \"linecolor\": \"#C8D4E3\", \"minorgridcolor\": \"#C8D4E3\", \"startlinecolor\": \"#2a3f5f\"}, \"type\": \"carpet\"}], \"choropleth\": [{\"colorbar\": {\"outlinewidth\": 0, \"ticks\": \"\"}, \"type\": \"choropleth\"}], \"contour\": [{\"colorbar\": {\"outlinewidth\": 0, \"ticks\": \"\"}, \"colorscale\": [[0.0, \"#0d0887\"], [0.1111111111111111, \"#46039f\"], [0.2222222222222222, \"#7201a8\"], [0.3333333333333333, \"#9c179e\"], [0.4444444444444444, \"#bd3786\"], [0.5555555555555556, \"#d8576b\"], [0.6666666666666666, \"#ed7953\"], [0.7777777777777778, \"#fb9f3a\"], [0.8888888888888888, \"#fdca26\"], [1.0, \"#f0f921\"]], \"type\": \"contour\"}], \"contourcarpet\": [{\"colorbar\": {\"outlinewidth\": 0, \"ticks\": \"\"}, \"type\": \"contourcarpet\"}], \"heatmap\": [{\"colorbar\": {\"outlinewidth\": 0, \"ticks\": \"\"}, \"colorscale\": [[0.0, \"#0d0887\"], [0.1111111111111111, \"#46039f\"], [0.2222222222222222, \"#7201a8\"], [0.3333333333333333, \"#9c179e\"], [0.4444444444444444, \"#bd3786\"], [0.5555555555555556, \"#d8576b\"], [0.6666666666666666, \"#ed7953\"], [0.7777777777777778, \"#fb9f3a\"], [0.8888888888888888, \"#fdca26\"], [1.0, \"#f0f921\"]], \"type\": \"heatmap\"}], \"heatmapgl\": [{\"colorbar\": {\"outlinewidth\": 0, \"ticks\": \"\"}, \"colorscale\": [[0.0, \"#0d0887\"], [0.1111111111111111, \"#46039f\"], [0.2222222222222222, \"#7201a8\"], [0.3333333333333333, \"#9c179e\"], [0.4444444444444444, \"#bd3786\"], [0.5555555555555556, \"#d8576b\"], [0.6666666666666666, \"#ed7953\"], [0.7777777777777778, \"#fb9f3a\"], [0.8888888888888888, \"#fdca26\"], [1.0, \"#f0f921\"]], \"type\": \"heatmapgl\"}], \"histogram\": [{\"marker\": {\"colorbar\": {\"outlinewidth\": 0, \"ticks\": \"\"}}, \"type\": \"histogram\"}], \"histogram2d\": [{\"colorbar\": {\"outlinewidth\": 0, \"ticks\": \"\"}, \"colorscale\": [[0.0, \"#0d0887\"], [0.1111111111111111, \"#46039f\"], [0.2222222222222222, \"#7201a8\"], [0.3333333333333333, \"#9c179e\"], [0.4444444444444444, \"#bd3786\"], [0.5555555555555556, \"#d8576b\"], [0.6666666666666666, \"#ed7953\"], [0.7777777777777778, \"#fb9f3a\"], [0.8888888888888888, \"#fdca26\"], [1.0, \"#f0f921\"]], \"type\": \"histogram2d\"}], \"histogram2dcontour\": [{\"colorbar\": {\"outlinewidth\": 0, \"ticks\": \"\"}, \"colorscale\": [[0.0, \"#0d0887\"], [0.1111111111111111, \"#46039f\"], [0.2222222222222222, \"#7201a8\"], [0.3333333333333333, \"#9c179e\"], [0.4444444444444444, \"#bd3786\"], [0.5555555555555556, \"#d8576b\"], [0.6666666666666666, \"#ed7953\"], [0.7777777777777778, \"#fb9f3a\"], [0.8888888888888888, \"#fdca26\"], [1.0, \"#f0f921\"]], \"type\": \"histogram2dcontour\"}], \"mesh3d\": [{\"colorbar\": {\"outlinewidth\": 0, \"ticks\": \"\"}, \"type\": \"mesh3d\"}], \"parcoords\": [{\"line\": {\"colorbar\": {\"outlinewidth\": 0, \"ticks\": \"\"}}, \"type\": \"parcoords\"}], \"pie\": [{\"automargin\": true, \"type\": \"pie\"}], \"scatter\": [{\"marker\": {\"colorbar\": {\"outlinewidth\": 0, \"ticks\": \"\"}}, \"type\": \"scatter\"}], \"scatter3d\": [{\"line\": {\"colorbar\": {\"outlinewidth\": 0, \"ticks\": \"\"}}, \"marker\": {\"colorbar\": {\"outlinewidth\": 0, \"ticks\": \"\"}}, \"type\": \"scatter3d\"}], \"scattercarpet\": [{\"marker\": {\"colorbar\": {\"outlinewidth\": 0, \"ticks\": \"\"}}, \"type\": \"scattercarpet\"}], \"scattergeo\": [{\"marker\": {\"colorbar\": {\"outlinewidth\": 0, \"ticks\": \"\"}}, \"type\": \"scattergeo\"}], \"scattergl\": [{\"marker\": {\"colorbar\": {\"outlinewidth\": 0, \"ticks\": \"\"}}, \"type\": \"scattergl\"}], \"scattermapbox\": [{\"marker\": {\"colorbar\": {\"outlinewidth\": 0, \"ticks\": \"\"}}, \"type\": \"scattermapbox\"}], \"scatterpolar\": [{\"marker\": {\"colorbar\": {\"outlinewidth\": 0, \"ticks\": \"\"}}, \"type\": \"scatterpolar\"}], \"scatterpolargl\": [{\"marker\": {\"colorbar\": {\"outlinewidth\": 0, \"ticks\": \"\"}}, \"type\": \"scatterpolargl\"}], \"scatterternary\": [{\"marker\": {\"colorbar\": {\"outlinewidth\": 0, \"ticks\": \"\"}}, \"type\": \"scatterternary\"}], \"surface\": [{\"colorbar\": {\"outlinewidth\": 0, \"ticks\": \"\"}, \"colorscale\": [[0.0, \"#0d0887\"], [0.1111111111111111, \"#46039f\"], [0.2222222222222222, \"#7201a8\"], [0.3333333333333333, \"#9c179e\"], [0.4444444444444444, \"#bd3786\"], [0.5555555555555556, \"#d8576b\"], [0.6666666666666666, \"#ed7953\"], [0.7777777777777778, \"#fb9f3a\"], [0.8888888888888888, \"#fdca26\"], [1.0, \"#f0f921\"]], \"type\": \"surface\"}], \"table\": [{\"cells\": {\"fill\": {\"color\": \"#EBF0F8\"}, \"line\": {\"color\": \"white\"}}, \"header\": {\"fill\": {\"color\": \"#C8D4E3\"}, \"line\": {\"color\": \"white\"}}, \"type\": \"table\"}]}, \"layout\": {\"annotationdefaults\": {\"arrowcolor\": \"#2a3f5f\", \"arrowhead\": 0, \"arrowwidth\": 1}, \"coloraxis\": {\"colorbar\": {\"outlinewidth\": 0, \"ticks\": \"\"}}, \"colorscale\": {\"diverging\": [[0, \"#8e0152\"], [0.1, \"#c51b7d\"], [0.2, \"#de77ae\"], [0.3, \"#f1b6da\"], [0.4, \"#fde0ef\"], [0.5, \"#f7f7f7\"], [0.6, \"#e6f5d0\"], [0.7, \"#b8e186\"], [0.8, \"#7fbc41\"], [0.9, \"#4d9221\"], [1, \"#276419\"]], \"sequential\": [[0.0, \"#0d0887\"], [0.1111111111111111, \"#46039f\"], [0.2222222222222222, \"#7201a8\"], [0.3333333333333333, \"#9c179e\"], [0.4444444444444444, \"#bd3786\"], [0.5555555555555556, \"#d8576b\"], [0.6666666666666666, \"#ed7953\"], [0.7777777777777778, \"#fb9f3a\"], [0.8888888888888888, \"#fdca26\"], [1.0, \"#f0f921\"]], \"sequentialminus\": [[0.0, \"#0d0887\"], [0.1111111111111111, \"#46039f\"], [0.2222222222222222, \"#7201a8\"], [0.3333333333333333, \"#9c179e\"], [0.4444444444444444, \"#bd3786\"], [0.5555555555555556, \"#d8576b\"], [0.6666666666666666, \"#ed7953\"], [0.7777777777777778, \"#fb9f3a\"], [0.8888888888888888, \"#fdca26\"], [1.0, \"#f0f921\"]]}, \"colorway\": [\"#636efa\", \"#EF553B\", \"#00cc96\", \"#ab63fa\", \"#FFA15A\", \"#19d3f3\", \"#FF6692\", \"#B6E880\", \"#FF97FF\", \"#FECB52\"], \"font\": {\"color\": \"#2a3f5f\"}, \"geo\": {\"bgcolor\": \"white\", \"lakecolor\": \"white\", \"landcolor\": \"white\", \"showlakes\": true, \"showland\": true, \"subunitcolor\": \"#C8D4E3\"}, \"hoverlabel\": {\"align\": \"left\"}, \"hovermode\": \"closest\", \"mapbox\": {\"style\": \"light\"}, \"paper_bgcolor\": \"white\", \"plot_bgcolor\": \"white\", \"polar\": {\"angularaxis\": {\"gridcolor\": \"#EBF0F8\", \"linecolor\": \"#EBF0F8\", \"ticks\": \"\"}, \"bgcolor\": \"white\", \"radialaxis\": {\"gridcolor\": \"#EBF0F8\", \"linecolor\": \"#EBF0F8\", \"ticks\": \"\"}}, \"scene\": {\"xaxis\": {\"backgroundcolor\": \"white\", \"gridcolor\": \"#DFE8F3\", \"gridwidth\": 2, \"linecolor\": \"#EBF0F8\", \"showbackground\": true, \"ticks\": \"\", \"zerolinecolor\": \"#EBF0F8\"}, \"yaxis\": {\"backgroundcolor\": \"white\", \"gridcolor\": \"#DFE8F3\", \"gridwidth\": 2, \"linecolor\": \"#EBF0F8\", \"showbackground\": true, \"ticks\": \"\", \"zerolinecolor\": \"#EBF0F8\"}, \"zaxis\": {\"backgroundcolor\": \"white\", \"gridcolor\": \"#DFE8F3\", \"gridwidth\": 2, \"linecolor\": \"#EBF0F8\", \"showbackground\": true, \"ticks\": \"\", \"zerolinecolor\": \"#EBF0F8\"}}, \"shapedefaults\": {\"line\": {\"color\": \"#2a3f5f\"}}, \"ternary\": {\"aaxis\": {\"gridcolor\": \"#DFE8F3\", \"linecolor\": \"#A2B1C6\", \"ticks\": \"\"}, \"baxis\": {\"gridcolor\": \"#DFE8F3\", \"linecolor\": \"#A2B1C6\", \"ticks\": \"\"}, \"bgcolor\": \"white\", \"caxis\": {\"gridcolor\": \"#DFE8F3\", \"linecolor\": \"#A2B1C6\", \"ticks\": \"\"}}, \"title\": {\"x\": 0.05}, \"xaxis\": {\"automargin\": true, \"gridcolor\": \"#EBF0F8\", \"linecolor\": \"#EBF0F8\", \"ticks\": \"\", \"title\": {\"standoff\": 15}, \"zerolinecolor\": \"#EBF0F8\", \"zerolinewidth\": 2}, \"yaxis\": {\"automargin\": true, \"gridcolor\": \"#EBF0F8\", \"linecolor\": \"#EBF0F8\", \"ticks\": \"\", \"title\": {\"standoff\": 15}, \"zerolinecolor\": \"#EBF0F8\", \"zerolinewidth\": 2}}}, \"xaxis\": {\"anchor\": \"y\", \"domain\": [0.0, 1.0], \"title\": {\"text\": \"Number of Cell Lines\"}}, \"yaxis\": {\"anchor\": \"x\", \"domain\": [0.0, 1.0], \"title\": {\"text\": \"Homophiliness\"}}},\n",
       "                        {\"responsive\": true}\n",
       "                    ).then(function(){\n",
       "                            \n",
       "var gd = document.getElementById('96a9d564-f833-4e95-a2cf-b7bb461328aa');\n",
       "var x = new MutationObserver(function (mutations, observer) {{\n",
       "        var display = window.getComputedStyle(gd).display;\n",
       "        if (!display || display === 'none') {{\n",
       "            console.log([gd, 'removed!']);\n",
       "            Plotly.purge(gd);\n",
       "            observer.disconnect();\n",
       "        }}\n",
       "}});\n",
       "\n",
       "// Listen for the removal of the full notebook cells\n",
       "var notebookContainer = gd.closest('#notebook-container');\n",
       "if (notebookContainer) {{\n",
       "    x.observe(notebookContainer, {childList: true});\n",
       "}}\n",
       "\n",
       "// Listen for the clearing of the current output cell\n",
       "var outputEl = gd.closest('.output');\n",
       "if (outputEl) {{\n",
       "    x.observe(outputEl, {childList: true});\n",
       "}}\n",
       "\n",
       "                        })\n",
       "                };\n",
       "                });\n",
       "            </script>\n",
       "        </div>"
      ]
     },
     "metadata": {},
     "output_type": "display_data"
    }
   ],
   "source": [
    "fig = px.scatter(cdata, x='Number of Cell Lines', y='Homophiliness',text=\"#CANCER\")\n",
    "fig.update_traces(textposition='top center',marker={'size':12})\n",
    "fig.write_image(\"figures/node-count_vs_homophily.svg\")\n",
    "fig.write_image(\"figures/node-count_vs_homophily.png\")\n",
    "fig.show()"
   ]
  },
  {
   "cell_type": "code",
   "execution_count": 122,
   "metadata": {},
   "outputs": [
    {
     "data": {
      "text/html": [
       "<div>\n",
       "<style scoped>\n",
       "    .dataframe tbody tr th:only-of-type {\n",
       "        vertical-align: middle;\n",
       "    }\n",
       "\n",
       "    .dataframe tbody tr th {\n",
       "        vertical-align: top;\n",
       "    }\n",
       "\n",
       "    .dataframe thead th {\n",
       "        text-align: right;\n",
       "    }\n",
       "</style>\n",
       "<table border=\"1\" class=\"dataframe\">\n",
       "  <thead>\n",
       "    <tr style=\"text-align: right;\">\n",
       "      <th></th>\n",
       "    </tr>\n",
       "  </thead>\n",
       "  <tbody>\n",
       "  </tbody>\n",
       "</table>\n",
       "</div>"
      ],
      "text/plain": [
       "Empty DataFrame\n",
       "Columns: []\n",
       "Index: []"
      ]
     },
     "execution_count": 122,
     "metadata": {},
     "output_type": "execute_result"
    }
   ],
   "source": [
    "pd.DataFrame()"
   ]
  },
  {
   "cell_type": "code",
   "execution_count": 123,
   "metadata": {},
   "outputs": [
    {
     "data": {
      "text/html": [
       "<div>\n",
       "<style scoped>\n",
       "    .dataframe tbody tr th:only-of-type {\n",
       "        vertical-align: middle;\n",
       "    }\n",
       "\n",
       "    .dataframe tbody tr th {\n",
       "        vertical-align: top;\n",
       "    }\n",
       "\n",
       "    .dataframe thead th {\n",
       "        text-align: right;\n",
       "    }\n",
       "</style>\n",
       "<table border=\"1\" class=\"dataframe\">\n",
       "  <thead>\n",
       "    <tr style=\"text-align: right;\">\n",
       "      <th></th>\n",
       "      <th>#CANCER_Subtype</th>\n",
       "      <th>Homophiliness</th>\n",
       "      <th>Number of Cell Lines</th>\n",
       "    </tr>\n",
       "  </thead>\n",
       "  <tbody>\n",
       "    <tr>\n",
       "      <th>0</th>\n",
       "      <td>Non-Hodgkins, B-cell</td>\n",
       "      <td>1.000000</td>\n",
       "      <td>2</td>\n",
       "    </tr>\n",
       "    <tr>\n",
       "      <th>1</th>\n",
       "      <td>ALL</td>\n",
       "      <td>0.666667</td>\n",
       "      <td>7</td>\n",
       "    </tr>\n",
       "    <tr>\n",
       "      <th>2</th>\n",
       "      <td>AML</td>\n",
       "      <td>0.636364</td>\n",
       "      <td>8</td>\n",
       "    </tr>\n",
       "    <tr>\n",
       "      <th>3</th>\n",
       "      <td>Squamous Cell Carcinoma</td>\n",
       "      <td>0.250000</td>\n",
       "      <td>9</td>\n",
       "    </tr>\n",
       "    <tr>\n",
       "      <th>4</th>\n",
       "      <td>Non-Hodgkins, T-cell</td>\n",
       "      <td>0.000000</td>\n",
       "      <td>2</td>\n",
       "    </tr>\n",
       "  </tbody>\n",
       "</table>\n",
       "</div>"
      ],
      "text/plain": [
       "           #CANCER_Subtype  Homophiliness  Number of Cell Lines\n",
       "0     Non-Hodgkins, B-cell       1.000000                     2\n",
       "1                      ALL       0.666667                     7\n",
       "2                      AML       0.636364                     8\n",
       "3  Squamous Cell Carcinoma       0.250000                     9\n",
       "4     Non-Hodgkins, T-cell       0.000000                     2"
      ]
     },
     "execution_count": 123,
     "metadata": {},
     "output_type": "execute_result"
    }
   ],
   "source": [
    "stcdata = pd.read_csv(\"data/cell_lines_corr-above0-5-\"+alp+\"-subtypes.homophiliness\",sep=\"\\t\")\n",
    "stcdata=stcdata.rename(columns={'#HOMOPHILINESS':'Homophiliness', '#NODE_OCCURANCE':'Number of Cell Lines'})\n",
    "stcdata.head(5)"
   ]
  },
  {
   "cell_type": "code",
   "execution_count": 125,
   "metadata": {},
   "outputs": [
    {
     "data": {
      "application/vnd.plotly.v1+json": {
       "config": {
        "plotlyServerURL": "https://plot.ly"
       },
       "data": [
        {
         "hoverlabel": {
          "namelength": 0
         },
         "hovertemplate": "Number of Cell Lines=%{x}<br>Homophiliness=%{y}<br>#CANCER_Subtype=%{text}",
         "legendgroup": "",
         "marker": {
          "color": "#636efa",
          "size": 12,
          "symbol": "circle"
         },
         "mode": "markers+text",
         "name": "",
         "showlegend": false,
         "text": [
          "Non-Hodgkins, B-cell",
          "ALL",
          "AML",
          "Squamous Cell Carcinoma",
          "Non-Hodgkins, T-cell",
          "Neuroblastoma",
          "Adenocarcinoma",
          "Carcinoma",
          "Rhabdomyosarcoma",
          "Renal Carcinoma, clear cell",
          "Melanoma",
          "NSCLC-Adenocarcinoma",
          "Adenosquamous Carcinoma",
          "Medulloblastoma",
          "NSCLC-Large Cell",
          "Retinoblastoma",
          "Renal Cell Carcinoma",
          "Atypical Teratoid Rhabdoid Tumor (ATRT)",
          "Hepatocellular Carcinoma",
          "Carcinoma, brenner",
          "SCLC",
          "Mesothelioma",
          "Glioma",
          "Leiomyosarcoma",
          "Osteosarcoma",
          "Meningioma",
          "Synovial",
          "Glioblastoma",
          "Transitional Cell Carcinoma",
          "Malignant Rhabdoid Tumor",
          "Merkel Cell Carcinoma",
          "Hodgkins",
          "Carcinoma, mucoepidermoid",
          "Uveal Melanoma"
         ],
         "textposition": "top center",
         "type": "scatter",
         "x": [
          2,
          7,
          8,
          9,
          2,
          7,
          30,
          8,
          4,
          2,
          3,
          17,
          2,
          2,
          2,
          1,
          2,
          1,
          1,
          1,
          1,
          1,
          1,
          1,
          1,
          1,
          1,
          1,
          2,
          1,
          1,
          1,
          1,
          1
         ],
         "xaxis": "x",
         "y": [
          1,
          0.6666666666666666,
          0.6363636363636364,
          0.25,
          0,
          -0.15789473684210525,
          -0.26666666666666666,
          -0.3333333333333333,
          -0.3333333333333333,
          -0.3333333333333333,
          -0.3333333333333333,
          -0.5925925925925926,
          -1,
          -1,
          -1,
          -1,
          -1,
          -1,
          -1,
          -1,
          -1,
          -1,
          -1,
          -1,
          -1,
          -1,
          -1,
          -1,
          -1,
          -1,
          -1,
          -1,
          -1,
          -1
         ],
         "yaxis": "y"
        }
       ],
       "layout": {
        "legend": {
         "tracegroupgap": 0
        },
        "margin": {
         "t": 60
        },
        "template": {
         "data": {
          "bar": [
           {
            "error_x": {
             "color": "#2a3f5f"
            },
            "error_y": {
             "color": "#2a3f5f"
            },
            "marker": {
             "line": {
              "color": "white",
              "width": 0.5
             }
            },
            "type": "bar"
           }
          ],
          "barpolar": [
           {
            "marker": {
             "line": {
              "color": "white",
              "width": 0.5
             }
            },
            "type": "barpolar"
           }
          ],
          "carpet": [
           {
            "aaxis": {
             "endlinecolor": "#2a3f5f",
             "gridcolor": "#C8D4E3",
             "linecolor": "#C8D4E3",
             "minorgridcolor": "#C8D4E3",
             "startlinecolor": "#2a3f5f"
            },
            "baxis": {
             "endlinecolor": "#2a3f5f",
             "gridcolor": "#C8D4E3",
             "linecolor": "#C8D4E3",
             "minorgridcolor": "#C8D4E3",
             "startlinecolor": "#2a3f5f"
            },
            "type": "carpet"
           }
          ],
          "choropleth": [
           {
            "colorbar": {
             "outlinewidth": 0,
             "ticks": ""
            },
            "type": "choropleth"
           }
          ],
          "contour": [
           {
            "colorbar": {
             "outlinewidth": 0,
             "ticks": ""
            },
            "colorscale": [
             [
              0,
              "#0d0887"
             ],
             [
              0.1111111111111111,
              "#46039f"
             ],
             [
              0.2222222222222222,
              "#7201a8"
             ],
             [
              0.3333333333333333,
              "#9c179e"
             ],
             [
              0.4444444444444444,
              "#bd3786"
             ],
             [
              0.5555555555555556,
              "#d8576b"
             ],
             [
              0.6666666666666666,
              "#ed7953"
             ],
             [
              0.7777777777777778,
              "#fb9f3a"
             ],
             [
              0.8888888888888888,
              "#fdca26"
             ],
             [
              1,
              "#f0f921"
             ]
            ],
            "type": "contour"
           }
          ],
          "contourcarpet": [
           {
            "colorbar": {
             "outlinewidth": 0,
             "ticks": ""
            },
            "type": "contourcarpet"
           }
          ],
          "heatmap": [
           {
            "colorbar": {
             "outlinewidth": 0,
             "ticks": ""
            },
            "colorscale": [
             [
              0,
              "#0d0887"
             ],
             [
              0.1111111111111111,
              "#46039f"
             ],
             [
              0.2222222222222222,
              "#7201a8"
             ],
             [
              0.3333333333333333,
              "#9c179e"
             ],
             [
              0.4444444444444444,
              "#bd3786"
             ],
             [
              0.5555555555555556,
              "#d8576b"
             ],
             [
              0.6666666666666666,
              "#ed7953"
             ],
             [
              0.7777777777777778,
              "#fb9f3a"
             ],
             [
              0.8888888888888888,
              "#fdca26"
             ],
             [
              1,
              "#f0f921"
             ]
            ],
            "type": "heatmap"
           }
          ],
          "heatmapgl": [
           {
            "colorbar": {
             "outlinewidth": 0,
             "ticks": ""
            },
            "colorscale": [
             [
              0,
              "#0d0887"
             ],
             [
              0.1111111111111111,
              "#46039f"
             ],
             [
              0.2222222222222222,
              "#7201a8"
             ],
             [
              0.3333333333333333,
              "#9c179e"
             ],
             [
              0.4444444444444444,
              "#bd3786"
             ],
             [
              0.5555555555555556,
              "#d8576b"
             ],
             [
              0.6666666666666666,
              "#ed7953"
             ],
             [
              0.7777777777777778,
              "#fb9f3a"
             ],
             [
              0.8888888888888888,
              "#fdca26"
             ],
             [
              1,
              "#f0f921"
             ]
            ],
            "type": "heatmapgl"
           }
          ],
          "histogram": [
           {
            "marker": {
             "colorbar": {
              "outlinewidth": 0,
              "ticks": ""
             }
            },
            "type": "histogram"
           }
          ],
          "histogram2d": [
           {
            "colorbar": {
             "outlinewidth": 0,
             "ticks": ""
            },
            "colorscale": [
             [
              0,
              "#0d0887"
             ],
             [
              0.1111111111111111,
              "#46039f"
             ],
             [
              0.2222222222222222,
              "#7201a8"
             ],
             [
              0.3333333333333333,
              "#9c179e"
             ],
             [
              0.4444444444444444,
              "#bd3786"
             ],
             [
              0.5555555555555556,
              "#d8576b"
             ],
             [
              0.6666666666666666,
              "#ed7953"
             ],
             [
              0.7777777777777778,
              "#fb9f3a"
             ],
             [
              0.8888888888888888,
              "#fdca26"
             ],
             [
              1,
              "#f0f921"
             ]
            ],
            "type": "histogram2d"
           }
          ],
          "histogram2dcontour": [
           {
            "colorbar": {
             "outlinewidth": 0,
             "ticks": ""
            },
            "colorscale": [
             [
              0,
              "#0d0887"
             ],
             [
              0.1111111111111111,
              "#46039f"
             ],
             [
              0.2222222222222222,
              "#7201a8"
             ],
             [
              0.3333333333333333,
              "#9c179e"
             ],
             [
              0.4444444444444444,
              "#bd3786"
             ],
             [
              0.5555555555555556,
              "#d8576b"
             ],
             [
              0.6666666666666666,
              "#ed7953"
             ],
             [
              0.7777777777777778,
              "#fb9f3a"
             ],
             [
              0.8888888888888888,
              "#fdca26"
             ],
             [
              1,
              "#f0f921"
             ]
            ],
            "type": "histogram2dcontour"
           }
          ],
          "mesh3d": [
           {
            "colorbar": {
             "outlinewidth": 0,
             "ticks": ""
            },
            "type": "mesh3d"
           }
          ],
          "parcoords": [
           {
            "line": {
             "colorbar": {
              "outlinewidth": 0,
              "ticks": ""
             }
            },
            "type": "parcoords"
           }
          ],
          "pie": [
           {
            "automargin": true,
            "type": "pie"
           }
          ],
          "scatter": [
           {
            "marker": {
             "colorbar": {
              "outlinewidth": 0,
              "ticks": ""
             }
            },
            "type": "scatter"
           }
          ],
          "scatter3d": [
           {
            "line": {
             "colorbar": {
              "outlinewidth": 0,
              "ticks": ""
             }
            },
            "marker": {
             "colorbar": {
              "outlinewidth": 0,
              "ticks": ""
             }
            },
            "type": "scatter3d"
           }
          ],
          "scattercarpet": [
           {
            "marker": {
             "colorbar": {
              "outlinewidth": 0,
              "ticks": ""
             }
            },
            "type": "scattercarpet"
           }
          ],
          "scattergeo": [
           {
            "marker": {
             "colorbar": {
              "outlinewidth": 0,
              "ticks": ""
             }
            },
            "type": "scattergeo"
           }
          ],
          "scattergl": [
           {
            "marker": {
             "colorbar": {
              "outlinewidth": 0,
              "ticks": ""
             }
            },
            "type": "scattergl"
           }
          ],
          "scattermapbox": [
           {
            "marker": {
             "colorbar": {
              "outlinewidth": 0,
              "ticks": ""
             }
            },
            "type": "scattermapbox"
           }
          ],
          "scatterpolar": [
           {
            "marker": {
             "colorbar": {
              "outlinewidth": 0,
              "ticks": ""
             }
            },
            "type": "scatterpolar"
           }
          ],
          "scatterpolargl": [
           {
            "marker": {
             "colorbar": {
              "outlinewidth": 0,
              "ticks": ""
             }
            },
            "type": "scatterpolargl"
           }
          ],
          "scatterternary": [
           {
            "marker": {
             "colorbar": {
              "outlinewidth": 0,
              "ticks": ""
             }
            },
            "type": "scatterternary"
           }
          ],
          "surface": [
           {
            "colorbar": {
             "outlinewidth": 0,
             "ticks": ""
            },
            "colorscale": [
             [
              0,
              "#0d0887"
             ],
             [
              0.1111111111111111,
              "#46039f"
             ],
             [
              0.2222222222222222,
              "#7201a8"
             ],
             [
              0.3333333333333333,
              "#9c179e"
             ],
             [
              0.4444444444444444,
              "#bd3786"
             ],
             [
              0.5555555555555556,
              "#d8576b"
             ],
             [
              0.6666666666666666,
              "#ed7953"
             ],
             [
              0.7777777777777778,
              "#fb9f3a"
             ],
             [
              0.8888888888888888,
              "#fdca26"
             ],
             [
              1,
              "#f0f921"
             ]
            ],
            "type": "surface"
           }
          ],
          "table": [
           {
            "cells": {
             "fill": {
              "color": "#EBF0F8"
             },
             "line": {
              "color": "white"
             }
            },
            "header": {
             "fill": {
              "color": "#C8D4E3"
             },
             "line": {
              "color": "white"
             }
            },
            "type": "table"
           }
          ]
         },
         "layout": {
          "annotationdefaults": {
           "arrowcolor": "#2a3f5f",
           "arrowhead": 0,
           "arrowwidth": 1
          },
          "coloraxis": {
           "colorbar": {
            "outlinewidth": 0,
            "ticks": ""
           }
          },
          "colorscale": {
           "diverging": [
            [
             0,
             "#8e0152"
            ],
            [
             0.1,
             "#c51b7d"
            ],
            [
             0.2,
             "#de77ae"
            ],
            [
             0.3,
             "#f1b6da"
            ],
            [
             0.4,
             "#fde0ef"
            ],
            [
             0.5,
             "#f7f7f7"
            ],
            [
             0.6,
             "#e6f5d0"
            ],
            [
             0.7,
             "#b8e186"
            ],
            [
             0.8,
             "#7fbc41"
            ],
            [
             0.9,
             "#4d9221"
            ],
            [
             1,
             "#276419"
            ]
           ],
           "sequential": [
            [
             0,
             "#0d0887"
            ],
            [
             0.1111111111111111,
             "#46039f"
            ],
            [
             0.2222222222222222,
             "#7201a8"
            ],
            [
             0.3333333333333333,
             "#9c179e"
            ],
            [
             0.4444444444444444,
             "#bd3786"
            ],
            [
             0.5555555555555556,
             "#d8576b"
            ],
            [
             0.6666666666666666,
             "#ed7953"
            ],
            [
             0.7777777777777778,
             "#fb9f3a"
            ],
            [
             0.8888888888888888,
             "#fdca26"
            ],
            [
             1,
             "#f0f921"
            ]
           ],
           "sequentialminus": [
            [
             0,
             "#0d0887"
            ],
            [
             0.1111111111111111,
             "#46039f"
            ],
            [
             0.2222222222222222,
             "#7201a8"
            ],
            [
             0.3333333333333333,
             "#9c179e"
            ],
            [
             0.4444444444444444,
             "#bd3786"
            ],
            [
             0.5555555555555556,
             "#d8576b"
            ],
            [
             0.6666666666666666,
             "#ed7953"
            ],
            [
             0.7777777777777778,
             "#fb9f3a"
            ],
            [
             0.8888888888888888,
             "#fdca26"
            ],
            [
             1,
             "#f0f921"
            ]
           ]
          },
          "colorway": [
           "#636efa",
           "#EF553B",
           "#00cc96",
           "#ab63fa",
           "#FFA15A",
           "#19d3f3",
           "#FF6692",
           "#B6E880",
           "#FF97FF",
           "#FECB52"
          ],
          "font": {
           "color": "#2a3f5f"
          },
          "geo": {
           "bgcolor": "white",
           "lakecolor": "white",
           "landcolor": "white",
           "showlakes": true,
           "showland": true,
           "subunitcolor": "#C8D4E3"
          },
          "hoverlabel": {
           "align": "left"
          },
          "hovermode": "closest",
          "mapbox": {
           "style": "light"
          },
          "paper_bgcolor": "white",
          "plot_bgcolor": "white",
          "polar": {
           "angularaxis": {
            "gridcolor": "#EBF0F8",
            "linecolor": "#EBF0F8",
            "ticks": ""
           },
           "bgcolor": "white",
           "radialaxis": {
            "gridcolor": "#EBF0F8",
            "linecolor": "#EBF0F8",
            "ticks": ""
           }
          },
          "scene": {
           "xaxis": {
            "backgroundcolor": "white",
            "gridcolor": "#DFE8F3",
            "gridwidth": 2,
            "linecolor": "#EBF0F8",
            "showbackground": true,
            "ticks": "",
            "zerolinecolor": "#EBF0F8"
           },
           "yaxis": {
            "backgroundcolor": "white",
            "gridcolor": "#DFE8F3",
            "gridwidth": 2,
            "linecolor": "#EBF0F8",
            "showbackground": true,
            "ticks": "",
            "zerolinecolor": "#EBF0F8"
           },
           "zaxis": {
            "backgroundcolor": "white",
            "gridcolor": "#DFE8F3",
            "gridwidth": 2,
            "linecolor": "#EBF0F8",
            "showbackground": true,
            "ticks": "",
            "zerolinecolor": "#EBF0F8"
           }
          },
          "shapedefaults": {
           "line": {
            "color": "#2a3f5f"
           }
          },
          "ternary": {
           "aaxis": {
            "gridcolor": "#DFE8F3",
            "linecolor": "#A2B1C6",
            "ticks": ""
           },
           "baxis": {
            "gridcolor": "#DFE8F3",
            "linecolor": "#A2B1C6",
            "ticks": ""
           },
           "bgcolor": "white",
           "caxis": {
            "gridcolor": "#DFE8F3",
            "linecolor": "#A2B1C6",
            "ticks": ""
           }
          },
          "title": {
           "x": 0.05
          },
          "xaxis": {
           "automargin": true,
           "gridcolor": "#EBF0F8",
           "linecolor": "#EBF0F8",
           "ticks": "",
           "title": {
            "standoff": 15
           },
           "zerolinecolor": "#EBF0F8",
           "zerolinewidth": 2
          },
          "yaxis": {
           "automargin": true,
           "gridcolor": "#EBF0F8",
           "linecolor": "#EBF0F8",
           "ticks": "",
           "title": {
            "standoff": 15
           },
           "zerolinecolor": "#EBF0F8",
           "zerolinewidth": 2
          }
         }
        },
        "xaxis": {
         "anchor": "y",
         "domain": [
          0,
          1
         ],
         "title": {
          "text": "Number of Cell Lines"
         }
        },
        "yaxis": {
         "anchor": "x",
         "domain": [
          0,
          1
         ],
         "title": {
          "text": "Homophiliness"
         }
        }
       }
      },
      "text/html": [
       "<div>\n",
       "        \n",
       "        \n",
       "            <div id=\"b369ce57-9a1e-47e6-bb7a-d4df7f4cc22f\" class=\"plotly-graph-div\" style=\"height:525px; width:100%;\"></div>\n",
       "            <script type=\"text/javascript\">\n",
       "                require([\"plotly\"], function(Plotly) {\n",
       "                    window.PLOTLYENV=window.PLOTLYENV || {};\n",
       "                    \n",
       "                if (document.getElementById(\"b369ce57-9a1e-47e6-bb7a-d4df7f4cc22f\")) {\n",
       "                    Plotly.newPlot(\n",
       "                        'b369ce57-9a1e-47e6-bb7a-d4df7f4cc22f',\n",
       "                        [{\"hoverlabel\": {\"namelength\": 0}, \"hovertemplate\": \"Number of Cell Lines=%{x}<br>Homophiliness=%{y}<br>#CANCER_Subtype=%{text}\", \"legendgroup\": \"\", \"marker\": {\"color\": \"#636efa\", \"size\": 12, \"symbol\": \"circle\"}, \"mode\": \"markers+text\", \"name\": \"\", \"showlegend\": false, \"text\": [\"Non-Hodgkins, B-cell\", \"ALL\", \"AML\", \"Squamous Cell Carcinoma\", \"Non-Hodgkins, T-cell\", \"Neuroblastoma\", \"Adenocarcinoma\", \"Carcinoma\", \"Rhabdomyosarcoma\", \"Renal Carcinoma, clear cell\", \"Melanoma\", \"NSCLC-Adenocarcinoma\", \"Adenosquamous Carcinoma\", \"Medulloblastoma\", \"NSCLC-Large Cell\", \"Retinoblastoma\", \"Renal Cell Carcinoma\", \"Atypical Teratoid Rhabdoid Tumor (ATRT)\", \"Hepatocellular Carcinoma\", \"Carcinoma, brenner\", \"SCLC\", \"Mesothelioma\", \"Glioma\", \"Leiomyosarcoma\", \"Osteosarcoma\", \"Meningioma\", \"Synovial\", \"Glioblastoma\", \"Transitional Cell Carcinoma\", \"Malignant Rhabdoid Tumor\", \"Merkel Cell Carcinoma\", \"Hodgkins\", \"Carcinoma, mucoepidermoid\", \"Uveal Melanoma\"], \"textposition\": \"top center\", \"type\": \"scatter\", \"x\": [2, 7, 8, 9, 2, 7, 30, 8, 4, 2, 3, 17, 2, 2, 2, 1, 2, 1, 1, 1, 1, 1, 1, 1, 1, 1, 1, 1, 2, 1, 1, 1, 1, 1], \"xaxis\": \"x\", \"y\": [1.0, 0.6666666666666666, 0.6363636363636364, 0.25, 0.0, -0.15789473684210525, -0.26666666666666666, -0.3333333333333333, -0.3333333333333333, -0.3333333333333333, -0.3333333333333333, -0.5925925925925926, -1.0, -1.0, -1.0, -1.0, -1.0, -1.0, -1.0, -1.0, -1.0, -1.0, -1.0, -1.0, -1.0, -1.0, -1.0, -1.0, -1.0, -1.0, -1.0, -1.0, -1.0, -1.0], \"yaxis\": \"y\"}],\n",
       "                        {\"legend\": {\"tracegroupgap\": 0}, \"margin\": {\"t\": 60}, \"template\": {\"data\": {\"bar\": [{\"error_x\": {\"color\": \"#2a3f5f\"}, \"error_y\": {\"color\": \"#2a3f5f\"}, \"marker\": {\"line\": {\"color\": \"white\", \"width\": 0.5}}, \"type\": \"bar\"}], \"barpolar\": [{\"marker\": {\"line\": {\"color\": \"white\", \"width\": 0.5}}, \"type\": \"barpolar\"}], \"carpet\": [{\"aaxis\": {\"endlinecolor\": \"#2a3f5f\", \"gridcolor\": \"#C8D4E3\", \"linecolor\": \"#C8D4E3\", \"minorgridcolor\": \"#C8D4E3\", \"startlinecolor\": \"#2a3f5f\"}, \"baxis\": {\"endlinecolor\": \"#2a3f5f\", \"gridcolor\": \"#C8D4E3\", \"linecolor\": \"#C8D4E3\", \"minorgridcolor\": \"#C8D4E3\", \"startlinecolor\": \"#2a3f5f\"}, \"type\": \"carpet\"}], \"choropleth\": [{\"colorbar\": {\"outlinewidth\": 0, \"ticks\": \"\"}, \"type\": \"choropleth\"}], \"contour\": [{\"colorbar\": {\"outlinewidth\": 0, \"ticks\": \"\"}, \"colorscale\": [[0.0, \"#0d0887\"], [0.1111111111111111, \"#46039f\"], [0.2222222222222222, \"#7201a8\"], [0.3333333333333333, \"#9c179e\"], [0.4444444444444444, \"#bd3786\"], [0.5555555555555556, \"#d8576b\"], [0.6666666666666666, \"#ed7953\"], [0.7777777777777778, \"#fb9f3a\"], [0.8888888888888888, \"#fdca26\"], [1.0, \"#f0f921\"]], \"type\": \"contour\"}], \"contourcarpet\": [{\"colorbar\": {\"outlinewidth\": 0, \"ticks\": \"\"}, \"type\": \"contourcarpet\"}], \"heatmap\": [{\"colorbar\": {\"outlinewidth\": 0, \"ticks\": \"\"}, \"colorscale\": [[0.0, \"#0d0887\"], [0.1111111111111111, \"#46039f\"], [0.2222222222222222, \"#7201a8\"], [0.3333333333333333, \"#9c179e\"], [0.4444444444444444, \"#bd3786\"], [0.5555555555555556, \"#d8576b\"], [0.6666666666666666, \"#ed7953\"], [0.7777777777777778, \"#fb9f3a\"], [0.8888888888888888, \"#fdca26\"], [1.0, \"#f0f921\"]], \"type\": \"heatmap\"}], \"heatmapgl\": [{\"colorbar\": {\"outlinewidth\": 0, \"ticks\": \"\"}, \"colorscale\": [[0.0, \"#0d0887\"], [0.1111111111111111, \"#46039f\"], [0.2222222222222222, \"#7201a8\"], [0.3333333333333333, \"#9c179e\"], [0.4444444444444444, \"#bd3786\"], [0.5555555555555556, \"#d8576b\"], [0.6666666666666666, \"#ed7953\"], [0.7777777777777778, \"#fb9f3a\"], [0.8888888888888888, \"#fdca26\"], [1.0, \"#f0f921\"]], \"type\": \"heatmapgl\"}], \"histogram\": [{\"marker\": {\"colorbar\": {\"outlinewidth\": 0, \"ticks\": \"\"}}, \"type\": \"histogram\"}], \"histogram2d\": [{\"colorbar\": {\"outlinewidth\": 0, \"ticks\": \"\"}, \"colorscale\": [[0.0, \"#0d0887\"], [0.1111111111111111, \"#46039f\"], [0.2222222222222222, \"#7201a8\"], [0.3333333333333333, \"#9c179e\"], [0.4444444444444444, \"#bd3786\"], [0.5555555555555556, \"#d8576b\"], [0.6666666666666666, \"#ed7953\"], [0.7777777777777778, \"#fb9f3a\"], [0.8888888888888888, \"#fdca26\"], [1.0, \"#f0f921\"]], \"type\": \"histogram2d\"}], \"histogram2dcontour\": [{\"colorbar\": {\"outlinewidth\": 0, \"ticks\": \"\"}, \"colorscale\": [[0.0, \"#0d0887\"], [0.1111111111111111, \"#46039f\"], [0.2222222222222222, \"#7201a8\"], [0.3333333333333333, \"#9c179e\"], [0.4444444444444444, \"#bd3786\"], [0.5555555555555556, \"#d8576b\"], [0.6666666666666666, \"#ed7953\"], [0.7777777777777778, \"#fb9f3a\"], [0.8888888888888888, \"#fdca26\"], [1.0, \"#f0f921\"]], \"type\": \"histogram2dcontour\"}], \"mesh3d\": [{\"colorbar\": {\"outlinewidth\": 0, \"ticks\": \"\"}, \"type\": \"mesh3d\"}], \"parcoords\": [{\"line\": {\"colorbar\": {\"outlinewidth\": 0, \"ticks\": \"\"}}, \"type\": \"parcoords\"}], \"pie\": [{\"automargin\": true, \"type\": \"pie\"}], \"scatter\": [{\"marker\": {\"colorbar\": {\"outlinewidth\": 0, \"ticks\": \"\"}}, \"type\": \"scatter\"}], \"scatter3d\": [{\"line\": {\"colorbar\": {\"outlinewidth\": 0, \"ticks\": \"\"}}, \"marker\": {\"colorbar\": {\"outlinewidth\": 0, \"ticks\": \"\"}}, \"type\": \"scatter3d\"}], \"scattercarpet\": [{\"marker\": {\"colorbar\": {\"outlinewidth\": 0, \"ticks\": \"\"}}, \"type\": \"scattercarpet\"}], \"scattergeo\": [{\"marker\": {\"colorbar\": {\"outlinewidth\": 0, \"ticks\": \"\"}}, \"type\": \"scattergeo\"}], \"scattergl\": [{\"marker\": {\"colorbar\": {\"outlinewidth\": 0, \"ticks\": \"\"}}, \"type\": \"scattergl\"}], \"scattermapbox\": [{\"marker\": {\"colorbar\": {\"outlinewidth\": 0, \"ticks\": \"\"}}, \"type\": \"scattermapbox\"}], \"scatterpolar\": [{\"marker\": {\"colorbar\": {\"outlinewidth\": 0, \"ticks\": \"\"}}, \"type\": \"scatterpolar\"}], \"scatterpolargl\": [{\"marker\": {\"colorbar\": {\"outlinewidth\": 0, \"ticks\": \"\"}}, \"type\": \"scatterpolargl\"}], \"scatterternary\": [{\"marker\": {\"colorbar\": {\"outlinewidth\": 0, \"ticks\": \"\"}}, \"type\": \"scatterternary\"}], \"surface\": [{\"colorbar\": {\"outlinewidth\": 0, \"ticks\": \"\"}, \"colorscale\": [[0.0, \"#0d0887\"], [0.1111111111111111, \"#46039f\"], [0.2222222222222222, \"#7201a8\"], [0.3333333333333333, \"#9c179e\"], [0.4444444444444444, \"#bd3786\"], [0.5555555555555556, \"#d8576b\"], [0.6666666666666666, \"#ed7953\"], [0.7777777777777778, \"#fb9f3a\"], [0.8888888888888888, \"#fdca26\"], [1.0, \"#f0f921\"]], \"type\": \"surface\"}], \"table\": [{\"cells\": {\"fill\": {\"color\": \"#EBF0F8\"}, \"line\": {\"color\": \"white\"}}, \"header\": {\"fill\": {\"color\": \"#C8D4E3\"}, \"line\": {\"color\": \"white\"}}, \"type\": \"table\"}]}, \"layout\": {\"annotationdefaults\": {\"arrowcolor\": \"#2a3f5f\", \"arrowhead\": 0, \"arrowwidth\": 1}, \"coloraxis\": {\"colorbar\": {\"outlinewidth\": 0, \"ticks\": \"\"}}, \"colorscale\": {\"diverging\": [[0, \"#8e0152\"], [0.1, \"#c51b7d\"], [0.2, \"#de77ae\"], [0.3, \"#f1b6da\"], [0.4, \"#fde0ef\"], [0.5, \"#f7f7f7\"], [0.6, \"#e6f5d0\"], [0.7, \"#b8e186\"], [0.8, \"#7fbc41\"], [0.9, \"#4d9221\"], [1, \"#276419\"]], \"sequential\": [[0.0, \"#0d0887\"], [0.1111111111111111, \"#46039f\"], [0.2222222222222222, \"#7201a8\"], [0.3333333333333333, \"#9c179e\"], [0.4444444444444444, \"#bd3786\"], [0.5555555555555556, \"#d8576b\"], [0.6666666666666666, \"#ed7953\"], [0.7777777777777778, \"#fb9f3a\"], [0.8888888888888888, \"#fdca26\"], [1.0, \"#f0f921\"]], \"sequentialminus\": [[0.0, \"#0d0887\"], [0.1111111111111111, \"#46039f\"], [0.2222222222222222, \"#7201a8\"], [0.3333333333333333, \"#9c179e\"], [0.4444444444444444, \"#bd3786\"], [0.5555555555555556, \"#d8576b\"], [0.6666666666666666, \"#ed7953\"], [0.7777777777777778, \"#fb9f3a\"], [0.8888888888888888, \"#fdca26\"], [1.0, \"#f0f921\"]]}, \"colorway\": [\"#636efa\", \"#EF553B\", \"#00cc96\", \"#ab63fa\", \"#FFA15A\", \"#19d3f3\", \"#FF6692\", \"#B6E880\", \"#FF97FF\", \"#FECB52\"], \"font\": {\"color\": \"#2a3f5f\"}, \"geo\": {\"bgcolor\": \"white\", \"lakecolor\": \"white\", \"landcolor\": \"white\", \"showlakes\": true, \"showland\": true, \"subunitcolor\": \"#C8D4E3\"}, \"hoverlabel\": {\"align\": \"left\"}, \"hovermode\": \"closest\", \"mapbox\": {\"style\": \"light\"}, \"paper_bgcolor\": \"white\", \"plot_bgcolor\": \"white\", \"polar\": {\"angularaxis\": {\"gridcolor\": \"#EBF0F8\", \"linecolor\": \"#EBF0F8\", \"ticks\": \"\"}, \"bgcolor\": \"white\", \"radialaxis\": {\"gridcolor\": \"#EBF0F8\", \"linecolor\": \"#EBF0F8\", \"ticks\": \"\"}}, \"scene\": {\"xaxis\": {\"backgroundcolor\": \"white\", \"gridcolor\": \"#DFE8F3\", \"gridwidth\": 2, \"linecolor\": \"#EBF0F8\", \"showbackground\": true, \"ticks\": \"\", \"zerolinecolor\": \"#EBF0F8\"}, \"yaxis\": {\"backgroundcolor\": \"white\", \"gridcolor\": \"#DFE8F3\", \"gridwidth\": 2, \"linecolor\": \"#EBF0F8\", \"showbackground\": true, \"ticks\": \"\", \"zerolinecolor\": \"#EBF0F8\"}, \"zaxis\": {\"backgroundcolor\": \"white\", \"gridcolor\": \"#DFE8F3\", \"gridwidth\": 2, \"linecolor\": \"#EBF0F8\", \"showbackground\": true, \"ticks\": \"\", \"zerolinecolor\": \"#EBF0F8\"}}, \"shapedefaults\": {\"line\": {\"color\": \"#2a3f5f\"}}, \"ternary\": {\"aaxis\": {\"gridcolor\": \"#DFE8F3\", \"linecolor\": \"#A2B1C6\", \"ticks\": \"\"}, \"baxis\": {\"gridcolor\": \"#DFE8F3\", \"linecolor\": \"#A2B1C6\", \"ticks\": \"\"}, \"bgcolor\": \"white\", \"caxis\": {\"gridcolor\": \"#DFE8F3\", \"linecolor\": \"#A2B1C6\", \"ticks\": \"\"}}, \"title\": {\"x\": 0.05}, \"xaxis\": {\"automargin\": true, \"gridcolor\": \"#EBF0F8\", \"linecolor\": \"#EBF0F8\", \"ticks\": \"\", \"title\": {\"standoff\": 15}, \"zerolinecolor\": \"#EBF0F8\", \"zerolinewidth\": 2}, \"yaxis\": {\"automargin\": true, \"gridcolor\": \"#EBF0F8\", \"linecolor\": \"#EBF0F8\", \"ticks\": \"\", \"title\": {\"standoff\": 15}, \"zerolinecolor\": \"#EBF0F8\", \"zerolinewidth\": 2}}}, \"xaxis\": {\"anchor\": \"y\", \"domain\": [0.0, 1.0], \"title\": {\"text\": \"Number of Cell Lines\"}}, \"yaxis\": {\"anchor\": \"x\", \"domain\": [0.0, 1.0], \"title\": {\"text\": \"Homophiliness\"}}},\n",
       "                        {\"responsive\": true}\n",
       "                    ).then(function(){\n",
       "                            \n",
       "var gd = document.getElementById('b369ce57-9a1e-47e6-bb7a-d4df7f4cc22f');\n",
       "var x = new MutationObserver(function (mutations, observer) {{\n",
       "        var display = window.getComputedStyle(gd).display;\n",
       "        if (!display || display === 'none') {{\n",
       "            console.log([gd, 'removed!']);\n",
       "            Plotly.purge(gd);\n",
       "            observer.disconnect();\n",
       "        }}\n",
       "}});\n",
       "\n",
       "// Listen for the removal of the full notebook cells\n",
       "var notebookContainer = gd.closest('#notebook-container');\n",
       "if (notebookContainer) {{\n",
       "    x.observe(notebookContainer, {childList: true});\n",
       "}}\n",
       "\n",
       "// Listen for the clearing of the current output cell\n",
       "var outputEl = gd.closest('.output');\n",
       "if (outputEl) {{\n",
       "    x.observe(outputEl, {childList: true});\n",
       "}}\n",
       "\n",
       "                        })\n",
       "                };\n",
       "                });\n",
       "            </script>\n",
       "        </div>"
      ]
     },
     "metadata": {},
     "output_type": "display_data"
    }
   ],
   "source": [
    "fig = px.scatter(stcdata, x='Number of Cell Lines', y='Homophiliness',text=\"#CANCER_Subtype\")\n",
    "fig.update_traces(textposition='top center',marker={'size':12})\n",
    "fig.write_image(\"figures/node-count_vs_homophily-subtypes.svg\")\n",
    "fig.write_image(\"figures/node-count_vs_homophily-subtypes.png\")\n",
    "fig.show()"
   ]
  },
  {
   "cell_type": "code",
   "execution_count": null,
   "metadata": {},
   "outputs": [],
   "source": []
  }
 ],
 "metadata": {
  "kernelspec": {
   "display_name": "Python 3",
   "language": "python",
   "name": "python3"
  },
  "language_info": {
   "codemirror_mode": {
    "name": "ipython",
    "version": 3
   },
   "file_extension": ".py",
   "mimetype": "text/x-python",
   "name": "python",
   "nbconvert_exporter": "python",
   "pygments_lexer": "ipython3",
   "version": "3.6.9"
  }
 },
 "nbformat": 4,
 "nbformat_minor": 2
}
